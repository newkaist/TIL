{
 "cells": [
  {
   "cell_type": "code",
   "execution_count": null,
   "id": "49eb903c",
   "metadata": {},
   "outputs": [],
   "source": [
    "import pandas as pd\n",
    "df= pd.read_csv('../data/scores/csv')"
   ]
  },
  {
   "cell_type": "markdown",
   "id": "c88bddc8",
   "metadata": {},
   "source": [
    "## 데이터 미리보기\n",
    "### 가장 앞의 n행 보기\n",
    "- 데이터프레임.head(n)\n",
    "- 시리즈.head(n)\n",
    "- n을 생략하면 5개의 행을 출력한다"
   ]
  },
  {
   "cell_type": "code",
   "execution_count": null,
   "id": "13326292",
   "metadata": {},
   "outputs": [],
   "source": [
    "df.head(3)"
   ]
  },
  {
   "cell_type": "markdown",
   "id": "f590a0d3",
   "metadata": {},
   "source": [
    "## 가장 뒤의 n행 보기\n",
    "- 데이터프레임.tail(n)\n",
    "- n을 생략하면 5개의 행을 출력한다"
   ]
  },
  {
   "cell_type": "markdown",
   "id": "9f6b5e11",
   "metadata": {},
   "source": [
    "df.tail()"
   ]
  },
  {
   "cell_type": "markdown",
   "id": "04a9cda2",
   "metadata": {},
   "source": [
    "## 랜덤 보기\n",
    "### 랜덤 n개 데이터 보기\n",
    "- 데이터프레임.sample(n)\n",
    "- n을 생략하면 1개의 샘플을 출력한다."
   ]
  },
  {
   "cell_type": "code",
   "execution_count": null,
   "id": "59ff59af",
   "metadata": {},
   "outputs": [],
   "source": [
    "df.sample()"
   ]
  },
  {
   "cell_type": "markdown",
   "id": "fbd894cb",
   "metadata": {},
   "source": [
    "랜덤 샘플 비율로 보기\n",
    "- 데이터프레임.sample(frac=0.2)\n",
    "- 지정한 비율의 샘플을 출력한다"
   ]
  },
  {
   "cell_type": "code",
   "execution_count": null,
   "id": "b7ad9f2d",
   "metadata": {},
   "outputs": [],
   "source": [
    "df.sample(frac=0.2)  # frac=0.2 ==> 20% 만 추출"
   ]
  },
  {
   "cell_type": "markdown",
   "id": "d7a4cd19",
   "metadata": {},
   "source": [
    "## 높은 순/낮은순 보기\n",
    "### 높은순 보기\n",
    "- 데이터프레임.nlargest(갯수,컬럼명)\n",
    "- 컬럼의 데이터가 숫자형일 때 사용할 수 있다."
   ]
  },
  {
   "cell_type": "code",
   "execution_count": null,
   "id": "fa7ac07c",
   "metadata": {},
   "outputs": [],
   "source": [
    "# eng 높은 순으로 5개 보기\n",
    "df.nlargest(5,'eng')"
   ]
  },
  {
   "cell_type": "markdown",
   "id": "da4f78e2",
   "metadata": {},
   "source": [
    "### 낮은순 보기\n",
    "- 데이터프레임.nsmallest(갯수,컬럼명)\n",
    "- 컬럼의 데이터가 숫자형일 때 사용할 수 있다."
   ]
  },
  {
   "cell_type": "code",
   "execution_count": null,
   "id": "27ec49d5",
   "metadata": {},
   "outputs": [],
   "source": [
    "# eng 낮은 순으로 5개 보기\n",
    "df.nsmallest(5,'eng')"
   ]
  },
  {
   "cell_type": "markdown",
   "id": "13339f7e",
   "metadata": {},
   "source": [
    "## 데이터 요약 보기\n",
    "### (행,열)의 크기 보기\n",
    "- 데이터프레임.shape"
   ]
  },
  {
   "cell_type": "code",
   "execution_count": null,
   "id": "0ffa936d",
   "metadata": {},
   "outputs": [],
   "source": [
    "df.shape"
   ]
  },
  {
   "cell_type": "markdown",
   "id": "e93c7796",
   "metadata": {},
   "source": [
    "### 데이터의 갯수 보기\n",
    "- len(데이터프레임)"
   ]
  },
  {
   "cell_type": "code",
   "execution_count": null,
   "id": "7547aa6f",
   "metadata": {},
   "outputs": [],
   "source": [
    "len(df)"
   ]
  },
  {
   "cell_type": "markdown",
   "id": "473a202a",
   "metadata": {},
   "source": [
    "### 컬럼명 보기\n",
    "- 데이터프레임.columns\n",
    "- 데이터프레임의 열 이름을 확인한다."
   ]
  },
  {
   "cell_type": "code",
   "execution_count": null,
   "id": "e0873901",
   "metadata": {},
   "outputs": [],
   "source": [
    "df.columns"
   ]
  },
  {
   "cell_type": "markdown",
   "id": "db964cfe",
   "metadata": {},
   "source": [
    "### 인덱스 보기\n",
    "- 데이터프레임.index\n",
    "- 데이터프레임의 인덱스를 확인한다."
   ]
  },
  {
   "cell_type": "code",
   "execution_count": null,
   "id": "165dd8fb",
   "metadata": {},
   "outputs": [],
   "source": [
    "df.index"
   ]
  },
  {
   "cell_type": "code",
   "execution_count": null,
   "id": "831bb262",
   "metadata": {},
   "outputs": [],
   "source": [
    "df"
   ]
  },
  {
   "cell_type": "markdown",
   "id": "823eeeb8",
   "metadata": {},
   "source": [
    "### 데이터의 자료형 보기\n",
    "- 데이터프레임.dtypes\n",
    "- 데이터프레임을 구성하는 값의 자료형을 확인한다.\n",
    "- 판다스에서는 문자열의 데이터타입이 object이다."
   ]
  },
  {
   "cell_type": "code",
   "execution_count": null,
   "id": "103b4143",
   "metadata": {},
   "outputs": [],
   "source": [
    "df.dtypes"
   ]
  },
  {
   "cell_type": "markdown",
   "id": "cfbf1fea",
   "metadata": {},
   "source": [
    "### 데이터프레임 정보 보기\n",
    "- 데이터프레임.info()\n",
    "- 데이터프레임의 총 샘플 갯수, 컬럼 수, 컬럼 별 정보 등을 확인한다."
   ]
  },
  {
   "cell_type": "code",
   "execution_count": null,
   "id": "1e892383",
   "metadata": {},
   "outputs": [],
   "source": [
    "df.info()"
   ]
  },
  {
   "cell_type": "markdown",
   "id": "1111a5aa",
   "metadata": {},
   "source": [
    "### 컬럼의 유니크한 데이터 뽑기\n",
    "- 컬럼.unique()"
   ]
  },
  {
   "cell_type": "code",
   "execution_count": null,
   "id": "312e9887",
   "metadata": {},
   "outputs": [],
   "source": [
    "df['kor'].unique()"
   ]
  },
  {
   "cell_type": "markdown",
   "id": "1caf349d",
   "metadata": {},
   "source": [
    "### 컬럼의 유니크한 값의 갯수 보기\n",
    "- 컬럼.value_counts()"
   ]
  },
  {
   "cell_type": "code",
   "execution_count": null,
   "id": "c5659597",
   "metadata": {},
   "outputs": [],
   "source": [
    "df['kor'].value_counts()"
   ]
  },
  {
   "cell_type": "markdown",
   "id": "399489ed",
   "metadata": {},
   "source": [
    "### 요약통계 보기"
   ]
  },
  {
   "cell_type": "code",
   "execution_count": null,
   "id": "01c4d9ac",
   "metadata": {},
   "outputs": [],
   "source": [
    "df.describe()"
   ]
  },
  {
   "cell_type": "code",
   "execution_count": null,
   "id": "1fe98052",
   "metadata": {},
   "outputs": [],
   "source": [
    "df['kor'].mean()"
   ]
  }
 ],
 "metadata": {
  "kernelspec": {
   "display_name": "Python 3 (ipykernel)",
   "language": "python",
   "name": "python3"
  },
  "language_info": {
   "codemirror_mode": {
    "name": "ipython",
    "version": 3
   },
   "file_extension": ".py",
   "mimetype": "text/x-python",
   "name": "python",
   "nbconvert_exporter": "python",
   "pygments_lexer": "ipython3",
   "version": "3.9.7"
  }
 },
 "nbformat": 4,
 "nbformat_minor": 5
}
