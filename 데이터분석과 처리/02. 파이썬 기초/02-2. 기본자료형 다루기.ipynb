{
 "cells": [
  {
   "cell_type": "markdown",
   "id": "9607c451",
   "metadata": {},
   "source": [
    "# 변수 만들기\n",
    "## 변수에 값 할당하기\n",
    "\n",
    "- 변수명 = 변수값\n",
    "- 변수에 값이 할당될 때 변수값의 자료형에 따라 변수의 자료형이 결정된다."
   ]
  },
  {
   "cell_type": "code",
   "execution_count": 1,
   "id": "1bfb7703",
   "metadata": {},
   "outputs": [],
   "source": [
    "name = 'james'\n",
    "age = 20\n",
    "height = 175.0\n",
    "ischild = age<20"
   ]
  },
  {
   "cell_type": "markdown",
   "id": "0876b257",
   "metadata": {},
   "source": [
    "# 변수 값, 자료형 출력하기\n",
    "- 변수에 접근할 때는 변수명을 사용한다.\n",
    "- 변수값 출력 : print(변수명)\n",
    "- 변수자료형 출력 : print(type(변수명))"
   ]
  },
  {
   "cell_type": "code",
   "execution_count": 6,
   "id": "5aab0e94",
   "metadata": {},
   "outputs": [
    {
     "name": "stdout",
     "output_type": "stream",
     "text": [
      "james\n",
      "<class 'str'>\n"
     ]
    }
   ],
   "source": [
    "print(name)\n",
    "print(type(name))"
   ]
  },
  {
   "cell_type": "code",
   "execution_count": 5,
   "id": "8d4285c8",
   "metadata": {},
   "outputs": [
    {
     "name": "stdout",
     "output_type": "stream",
     "text": [
      "20\n",
      "<class 'int'>\n"
     ]
    }
   ],
   "source": [
    "print(age)\n",
    "print(type(age))"
   ]
  },
  {
   "cell_type": "code",
   "execution_count": 7,
   "id": "c6f178b1",
   "metadata": {},
   "outputs": [
    {
     "name": "stdout",
     "output_type": "stream",
     "text": [
      "175.0\n",
      "<class 'float'>\n"
     ]
    }
   ],
   "source": [
    "print(height)\n",
    "print(type(height))"
   ]
  },
  {
   "cell_type": "code",
   "execution_count": 8,
   "id": "826c811b",
   "metadata": {},
   "outputs": [
    {
     "name": "stdout",
     "output_type": "stream",
     "text": [
      "False\n",
      "<class 'bool'>\n"
     ]
    }
   ],
   "source": [
    "print(ischild)\n",
    "print(type(ischild))"
   ]
  },
  {
   "cell_type": "markdown",
   "id": "8135b885",
   "metadata": {},
   "source": [
    "# 쌍따옴표나 홑따옴표가 포함되어 있는 문자열 사용하기\n",
    " 홑따옴표가 포함되어 있는 문자열 사용하기\n",
    " - '낮말'은 새가 듣고 '밤말'은 쥐가 듣는다."
   ]
  },
  {
   "cell_type": "code",
   "execution_count": 9,
   "id": "f3b65b7a",
   "metadata": {},
   "outputs": [
    {
     "name": "stdout",
     "output_type": "stream",
     "text": [
      "'낮말'은 새가 듣고 '밤말'은 쥐가 듣는다.\n"
     ]
    }
   ],
   "source": [
    "a = \"'낮말'은 새가 듣고 '밤말'은 쥐가 듣는다.\"\n",
    "print(a)"
   ]
  },
  {
   "cell_type": "markdown",
   "id": "ed95f4e1",
   "metadata": {},
   "source": [
    "쌍따옴표가 포함되어 있는 문자열 사용하기\n",
    "- \"시간은 금\"이라는 말이 있다."
   ]
  },
  {
   "cell_type": "code",
   "execution_count": 10,
   "id": "8e1220ed",
   "metadata": {},
   "outputs": [
    {
     "name": "stdout",
     "output_type": "stream",
     "text": [
      "\"시간은 금\"이라는 말이 있다.\n"
     ]
    }
   ],
   "source": [
    "b = '\"시간은 금\"이라는 말이 있다.'\n",
    "print(b)"
   ]
  },
  {
   "cell_type": "markdown",
   "id": "026c2da3",
   "metadata": {},
   "source": [
    "# 키보드로 변수에 값 입력받기\n",
    "\n",
    "- input( )\n",
    "- input으로 입력받은 값은 무조건 str"
   ]
  },
  {
   "cell_type": "code",
   "execution_count": 13,
   "id": "5dfada10",
   "metadata": {},
   "outputs": [
    {
     "name": "stdout",
     "output_type": "stream",
     "text": [
      "나이:33\n"
     ]
    }
   ],
   "source": [
    "a = input('나이:')"
   ]
  },
  {
   "cell_type": "code",
   "execution_count": 14,
   "id": "daeb9dc3",
   "metadata": {},
   "outputs": [
    {
     "data": {
      "text/plain": [
       "str"
      ]
     },
     "execution_count": 14,
     "metadata": {},
     "output_type": "execute_result"
    }
   ],
   "source": [
    "type(a)"
   ]
  },
  {
   "cell_type": "markdown",
   "id": "2b629c21",
   "metadata": {},
   "source": [
    "# 자료형 변환하기\n",
    "\n",
    "- int(value) : int형으로 변환"
   ]
  },
  {
   "cell_type": "code",
   "execution_count": 15,
   "id": "5b023856",
   "metadata": {},
   "outputs": [
    {
     "data": {
      "text/plain": [
       "int"
      ]
     },
     "execution_count": 15,
     "metadata": {},
     "output_type": "execute_result"
    }
   ],
   "source": [
    "age = int('20')\n",
    "type(age)"
   ]
  },
  {
   "cell_type": "markdown",
   "id": "0384444c",
   "metadata": {},
   "source": [
    "- str(value) : str형으로 변환"
   ]
  },
  {
   "cell_type": "code",
   "execution_count": 16,
   "id": "095713ef",
   "metadata": {},
   "outputs": [
    {
     "data": {
      "text/plain": [
       "str"
      ]
     },
     "execution_count": 16,
     "metadata": {},
     "output_type": "execute_result"
    }
   ],
   "source": [
    "age = str(20)\n",
    "type(age)"
   ]
  },
  {
   "cell_type": "markdown",
   "id": "ca563ab9",
   "metadata": {},
   "source": [
    "- float(value) : float형으로 변환"
   ]
  },
  {
   "cell_type": "code",
   "execution_count": 17,
   "id": "4ec459ce",
   "metadata": {},
   "outputs": [
    {
     "name": "stdout",
     "output_type": "stream",
     "text": [
      "20.0 <class 'float'>\n"
     ]
    }
   ],
   "source": [
    "age = float(20)\n",
    "print(age, type(age))"
   ]
  },
  {
   "cell_type": "markdown",
   "id": "d34fe1d6",
   "metadata": {},
   "source": [
    "- input으로 입력받은 값을 숫자형으로 변환하여 사용하기"
   ]
  },
  {
   "cell_type": "code",
   "execution_count": 22,
   "id": "07f3c6fa",
   "metadata": {},
   "outputs": [
    {
     "name": "stdout",
     "output_type": "stream",
     "text": [
      "나이:33\n"
     ]
    },
    {
     "data": {
      "text/plain": [
       "int"
      ]
     },
     "execution_count": 22,
     "metadata": {},
     "output_type": "execute_result"
    }
   ],
   "source": [
    "a = int(input('나이:'))\n",
    "type(a)"
   ]
  }
 ],
 "metadata": {
  "kernelspec": {
   "display_name": "Python 3 (ipykernel)",
   "language": "python",
   "name": "python3"
  },
  "language_info": {
   "codemirror_mode": {
    "name": "ipython",
    "version": 3
   },
   "file_extension": ".py",
   "mimetype": "text/x-python",
   "name": "python",
   "nbconvert_exporter": "python",
   "pygments_lexer": "ipython3",
   "version": "3.9.7"
  }
 },
 "nbformat": 4,
 "nbformat_minor": 5
}
