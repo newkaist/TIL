{
 "cells": [
  {
   "cell_type": "markdown",
   "id": "17146b29",
   "metadata": {},
   "source": [
    "# for문과 while문\n",
    "## 1부터 5까지 출력하기\n",
    "- for문"
   ]
  },
  {
   "cell_type": "code",
   "execution_count": 1,
   "id": "ab0bee9e",
   "metadata": {},
   "outputs": [
    {
     "name": "stdout",
     "output_type": "stream",
     "text": [
      "1\n",
      "2\n",
      "3\n",
      "4\n",
      "5\n"
     ]
    }
   ],
   "source": [
    "for i in range(1,6):\n",
    "    print(i)"
   ]
  },
  {
   "cell_type": "markdown",
   "id": "7433ec83",
   "metadata": {},
   "source": [
    "- while문"
   ]
  },
  {
   "cell_type": "code",
   "execution_count": 1,
   "id": "b2ab8e5f",
   "metadata": {},
   "outputs": [
    {
     "name": "stdout",
     "output_type": "stream",
     "text": [
      "1\n",
      "2\n",
      "3\n",
      "4\n",
      "5\n"
     ]
    }
   ],
   "source": [
    "n = 1\n",
    "while n<=5:\n",
    "    print(n)\n",
    "    n+=1\n",
    "    \n",
    "# n <= 5 조건 --> n이 1 씩 증가하면서 5가 되면 정지(정지조건)"
   ]
  },
  {
   "cell_type": "markdown",
   "id": "6e186a65",
   "metadata": {},
   "source": [
    "# 1부터 10까지 더하기\n",
    "- for문"
   ]
  },
  {
   "cell_type": "code",
   "execution_count": 2,
   "id": "62c4a986",
   "metadata": {},
   "outputs": [
    {
     "name": "stdout",
     "output_type": "stream",
     "text": [
      "55\n"
     ]
    }
   ],
   "source": [
    "total=0\n",
    "for i in range(1,11):\n",
    "    total += i\n",
    "print(total)"
   ]
  },
  {
   "cell_type": "markdown",
   "id": "27195ddd",
   "metadata": {},
   "source": [
    "- while문"
   ]
  },
  {
   "cell_type": "code",
   "execution_count": 3,
   "id": "2f6e0a3b",
   "metadata": {},
   "outputs": [
    {
     "name": "stdout",
     "output_type": "stream",
     "text": [
      "55\n"
     ]
    }
   ],
   "source": [
    "n = 1\n",
    "total = 0\n",
    "while n<=10:\n",
    "    total += n\n",
    "    n+=1\n",
    "print(total)"
   ]
  },
  {
   "cell_type": "markdown",
   "id": "3b60f35c",
   "metadata": {},
   "source": [
    "# while문만 가능한 경우\n",
    "- 'quit'를 입력할 때까지 반복하여 이름 입력받기"
   ]
  },
  {
   "cell_type": "code",
   "execution_count": 5,
   "id": "2d92c9b3",
   "metadata": {},
   "outputs": [
    {
     "name": "stdout",
     "output_type": "stream",
     "text": [
      "이름:이탁형\n",
      "이름:이탁형\n",
      "이름:이탁형\n",
      "이름:q\n",
      "이름:quit\n"
     ]
    }
   ],
   "source": [
    "name = input('이름:')\n",
    "while name != 'quit':   \n",
    "    name = input('이름:')"
   ]
  },
  {
   "cell_type": "markdown",
   "id": "debe3f75",
   "metadata": {},
   "source": [
    "- break로 반복문 빠져나오기"
   ]
  },
  {
   "cell_type": "code",
   "execution_count": 6,
   "id": "22ce87c3",
   "metadata": {},
   "outputs": [
    {
     "name": "stdout",
     "output_type": "stream",
     "text": [
      "이름:이탁형\n",
      "이름:이탁형\n",
      "이름:quit\n"
     ]
    }
   ],
   "source": [
    "while True:\n",
    "    name = input('이름:')\n",
    "    if name=='quit':\n",
    "        break  # 정지조건 "
   ]
  },
  {
   "cell_type": "markdown",
   "id": "c8727aad",
   "metadata": {},
   "source": [
    "# 연습문제\n",
    "- 올바른 아이디/비밀번호를 입력할 때까지 아이디와 비밀번호를 입력하는 프로그램 만들기"
   ]
  },
  {
   "cell_type": "code",
   "execution_count": 1,
   "id": "330d5345",
   "metadata": {},
   "outputs": [
    {
     "name": "stdout",
     "output_type": "stream",
     "text": [
      "id:ka\n",
      "pwd:ka\n",
      "id:ka\n",
      "pwd:ka\n",
      "id:kaisthop\n",
      "pwd:12\n",
      "id:kaisthop\n",
      "pwd:11\n",
      "id:kaisthop\n",
      "pwd:1234\n"
     ]
    }
   ],
   "source": [
    "# 올바른 아이디와 비밀번호\n",
    "id = 'kaisthop'\n",
    "pwd = '1234'\n",
    "\n",
    "while True:\n",
    "    input_id = input('id:')\n",
    "    input_pwd = input('pwd:')\n",
    "    \n",
    "    if id==input_id and pwd==input_pwd:\n",
    "        break"
   ]
  },
  {
   "cell_type": "markdown",
   "id": "af6bb13a",
   "metadata": {},
   "source": [
    "- 확장하기\n",
    "\n",
    "아이디가 잘못되었으면 '아이디를 확인하세요' 출력\n",
    "\n",
    "비밀번호가 잘못되었으면 '비밀번호를 확인하세요' 출력"
   ]
  },
  {
   "cell_type": "code",
   "execution_count": 1,
   "id": "3061c6d1",
   "metadata": {},
   "outputs": [
    {
     "name": "stdout",
     "output_type": "stream",
     "text": [
      "id:kaisthop\n",
      "pwd:1234\n"
     ]
    }
   ],
   "source": [
    "# 올바른 아이디와 비밀번호\n",
    "id = 'kaisthop'\n",
    "pwd = '1234'\n",
    "\n",
    "while True:\n",
    "    input_id = input('id:')\n",
    "    input_pwd = input('pwd:')\n",
    "    \n",
    "    if id==input_id and pwd==input_pwd:\n",
    "        break\n",
    "    if id!=input_id:\n",
    "        print('아이디를 확인하세요')\n",
    "    if pwd!=input_pwd:\n",
    "        print('비밀번호를 확인하세요.')"
   ]
  },
  {
   "cell_type": "markdown",
   "id": "482acf8d",
   "metadata": {},
   "source": [
    "- 사용자가 0을 입력할 때까지 숫자을 입력받아 입력받은 숫자들의 합을 구하는 프로그램을 작성하세요"
   ]
  },
  {
   "cell_type": "code",
   "execution_count": 3,
   "id": "644d22b8",
   "metadata": {},
   "outputs": [
    {
     "name": "stdout",
     "output_type": "stream",
     "text": [
      "숫자:1\n",
      "숫자:2\n",
      "숫자:2\n",
      "숫자:2\n",
      "숫자:2\n",
      "숫자:2\n",
      "숫자:0\n"
     ]
    }
   ],
   "source": [
    "total = 0\n",
    "\n",
    "while True:\n",
    "    num = int(input('숫자:'))  # 문자 --> int(정수로 변환1)\n",
    "    if num==0:\n",
    "        break\n",
    "    total+=num"
   ]
  },
  {
   "cell_type": "code",
   "execution_count": 4,
   "id": "dd60bcc3",
   "metadata": {},
   "outputs": [
    {
     "name": "stdout",
     "output_type": "stream",
     "text": [
      "11\n"
     ]
    }
   ],
   "source": [
    "print(total)"
   ]
  }
 ],
 "metadata": {
  "kernelspec": {
   "display_name": "Python 3 (ipykernel)",
   "language": "python",
   "name": "python3"
  },
  "language_info": {
   "codemirror_mode": {
    "name": "ipython",
    "version": 3
   },
   "file_extension": ".py",
   "mimetype": "text/x-python",
   "name": "python",
   "nbconvert_exporter": "python",
   "pygments_lexer": "ipython3",
   "version": "3.9.7"
  }
 },
 "nbformat": 4,
 "nbformat_minor": 5
}
