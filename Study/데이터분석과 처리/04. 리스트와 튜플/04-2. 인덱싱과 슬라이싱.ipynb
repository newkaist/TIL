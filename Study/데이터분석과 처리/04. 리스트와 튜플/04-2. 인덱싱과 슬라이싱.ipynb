{
 "cells": [
  {
   "cell_type": "markdown",
   "id": "4f5a7266",
   "metadata": {},
   "source": [
    "# 인덱싱\n",
    "  - 인덱스로 리스트, 튜플 항목 추출하기\n",
    " ## 리스트 인덱싱\n",
    "  - 리스트명[인덱스]"
   ]
  },
  {
   "cell_type": "code",
   "execution_count": 1,
   "id": "fd47fc78",
   "metadata": {},
   "outputs": [],
   "source": [
    "l1 = ['축구','농구','배구','야구','족구','발야구','피구']"
   ]
  },
  {
   "cell_type": "code",
   "execution_count": 2,
   "id": "5375eec1",
   "metadata": {},
   "outputs": [
    {
     "data": {
      "text/plain": [
       "7"
      ]
     },
     "execution_count": 2,
     "metadata": {},
     "output_type": "execute_result"
    }
   ],
   "source": [
    "# l1 항목수\n",
    "len(l1)"
   ]
  },
  {
   "cell_type": "code",
   "execution_count": 3,
   "id": "707a948a",
   "metadata": {},
   "outputs": [
    {
     "name": "stdout",
     "output_type": "stream",
     "text": [
      "축구\n",
      "축구\n"
     ]
    }
   ],
   "source": [
    "# '축구' \n",
    "print(l1[0])\n",
    "print(l1[-7])"
   ]
  },
  {
   "cell_type": "code",
   "execution_count": 4,
   "id": "0f2a2a89",
   "metadata": {},
   "outputs": [
    {
     "name": "stdout",
     "output_type": "stream",
     "text": [
      "배구\n",
      "배구\n"
     ]
    }
   ],
   "source": [
    "# '배구' \n",
    "print(l1[2])\n",
    "print(l1[-5])"
   ]
  },
  {
   "cell_type": "code",
   "execution_count": 5,
   "id": "0188b7d7",
   "metadata": {},
   "outputs": [
    {
     "name": "stdout",
     "output_type": "stream",
     "text": [
      "피구\n",
      "피구\n"
     ]
    }
   ],
   "source": [
    "# '피구'\n",
    "print(l1[6])\n",
    "print(l1[-1])"
   ]
  },
  {
   "cell_type": "markdown",
   "id": "345cfe94",
   "metadata": {},
   "source": [
    "## 튜플 인덱싱\n",
    "  - 튜플명[인덱스]"
   ]
  },
  {
   "cell_type": "code",
   "execution_count": 6,
   "id": "ae293901",
   "metadata": {},
   "outputs": [],
   "source": [
    "t1 = ('스키','보드','스케이트','스케이트보드','수상스키','웨이크보드')"
   ]
  },
  {
   "cell_type": "code",
   "execution_count": 7,
   "id": "05f45078",
   "metadata": {},
   "outputs": [
    {
     "data": {
      "text/plain": [
       "6"
      ]
     },
     "execution_count": 7,
     "metadata": {},
     "output_type": "execute_result"
    }
   ],
   "source": [
    "# t1 항목수\n",
    "len(t1)"
   ]
  },
  {
   "cell_type": "code",
   "execution_count": 8,
   "id": "c66a6f91",
   "metadata": {},
   "outputs": [
    {
     "name": "stdout",
     "output_type": "stream",
     "text": [
      "스키\n",
      "스키\n"
     ]
    }
   ],
   "source": [
    "# '스키'\n",
    "print(t1[0])\n",
    "print(t1[-6])"
   ]
  },
  {
   "cell_type": "code",
   "execution_count": 9,
   "id": "af4d0895",
   "metadata": {},
   "outputs": [
    {
     "name": "stdout",
     "output_type": "stream",
     "text": [
      "웨이크보드\n",
      "웨이크보드\n"
     ]
    }
   ],
   "source": [
    "# '웨이크보드'\n",
    "print(t1[5])\n",
    "print(t1[-1])"
   ]
  },
  {
   "cell_type": "markdown",
   "id": "a0677905",
   "metadata": {},
   "source": [
    "## 중첩리스트 인덱싱"
   ]
  },
  {
   "cell_type": "code",
   "execution_count": 11,
   "id": "65504c64",
   "metadata": {},
   "outputs": [
    {
     "data": {
      "text/plain": [
       "'수박'"
      ]
     },
     "execution_count": 11,
     "metadata": {},
     "output_type": "execute_result"
    }
   ],
   "source": [
    "# 아래 리스트 l2에서 '수박' 인덱싱하여 가져오기\n",
    "l2=['사과','오렌지','포도',['수박','바나나']]\n",
    "l2[3][0]"
   ]
  },
  {
   "cell_type": "code",
   "execution_count": 12,
   "id": "2ea62ac7",
   "metadata": {},
   "outputs": [
    {
     "data": {
      "text/plain": [
       "'Life'"
      ]
     },
     "execution_count": 12,
     "metadata": {},
     "output_type": "execute_result"
    }
   ],
   "source": [
    "# 아래 튜플 t2에서 'Life' 인덱싱하여 가져오기\n",
    "t2 = (1,2,('a','b',('Life','is')))\n",
    "t2[2][2][0]"
   ]
  },
  {
   "cell_type": "markdown",
   "id": "91b7d747",
   "metadata": {},
   "source": [
    "## 슬라이싱\n",
    " - 리스트명[시작인덱스:끝인덱스:간격]\n",
    " - 튜플명[시작인덱스:끝인덱스:간격]\n"
   ]
  },
  {
   "cell_type": "code",
   "execution_count": 13,
   "id": "74879832",
   "metadata": {},
   "outputs": [],
   "source": [
    "l1 = ['축구','농구','배구','야구','족구','발야구','피구'] "
   ]
  },
  {
   "cell_type": "code",
   "execution_count": 14,
   "id": "0865d7c1",
   "metadata": {},
   "outputs": [
    {
     "data": {
      "text/plain": [
       "['농구', '배구']"
      ]
     },
     "execution_count": 14,
     "metadata": {},
     "output_type": "execute_result"
    }
   ],
   "source": [
    "# ['농구','배구']\n",
    "l1[1:3]"
   ]
  },
  {
   "cell_type": "code",
   "execution_count": 15,
   "id": "8c173461",
   "metadata": {},
   "outputs": [
    {
     "name": "stdout",
     "output_type": "stream",
     "text": [
      "['축구', '농구', '배구']\n",
      "['축구', '농구', '배구']\n"
     ]
    }
   ],
   "source": [
    "# ['축구','농구','배구']\n",
    "print(l1[0:3])\n",
    "print(l1[:3])"
   ]
  },
  {
   "cell_type": "code",
   "execution_count": 16,
   "id": "699b91c5",
   "metadata": {},
   "outputs": [
    {
     "data": {
      "text/plain": [
       "['족구', '발야구']"
      ]
     },
     "execution_count": 16,
     "metadata": {},
     "output_type": "execute_result"
    }
   ],
   "source": [
    "# ['족구','발야구']\n",
    "l1[-3:-1]"
   ]
  },
  {
   "cell_type": "code",
   "execution_count": 17,
   "id": "3886817d",
   "metadata": {},
   "outputs": [
    {
     "data": {
      "text/plain": [
       "['족구', '발야구', '피구']"
      ]
     },
     "execution_count": 17,
     "metadata": {},
     "output_type": "execute_result"
    }
   ],
   "source": [
    "# ['족구','발야구','피구']\n",
    "l1[-3:]"
   ]
  },
  {
   "cell_type": "code",
   "execution_count": 18,
   "id": "292cf41d",
   "metadata": {},
   "outputs": [
    {
     "data": {
      "text/plain": [
       "['축구', '농구', '배구', '야구', '족구', '발야구', '피구']"
      ]
     },
     "execution_count": 18,
     "metadata": {},
     "output_type": "execute_result"
    }
   ],
   "source": [
    "# 모든 항목\n",
    "l1[:]"
   ]
  },
  {
   "cell_type": "code",
   "execution_count": 19,
   "id": "14425346",
   "metadata": {},
   "outputs": [
    {
     "data": {
      "text/plain": [
       "['피구', '발야구', '족구', '야구', '배구', '농구', '축구']"
      ]
     },
     "execution_count": 19,
     "metadata": {},
     "output_type": "execute_result"
    }
   ],
   "source": [
    "# 모든 항목 역순으로\n",
    "l1[::-1]  # 뒤에서 -1씩 가니깐 "
   ]
  },
  {
   "cell_type": "code",
   "execution_count": 30,
   "id": "e48bb81e",
   "metadata": {},
   "outputs": [
    {
     "data": {
      "text/plain": [
       "['발야구', '족구', '야구']"
      ]
     },
     "execution_count": 30,
     "metadata": {},
     "output_type": "execute_result"
    }
   ],
   "source": [
    "# ['발야구','족구','야구']\n",
    "l1[-2:-5:-1]"
   ]
  },
  {
   "cell_type": "code",
   "execution_count": 32,
   "id": "10cec55f",
   "metadata": {},
   "outputs": [
    {
     "data": {
      "text/plain": [
       "[1, 3, 5, 7, 9, 11, 13, 15, 17, 19]"
      ]
     },
     "execution_count": 32,
     "metadata": {},
     "output_type": "execute_result"
    }
   ],
   "source": [
    "# 아래 리스트 l3에서 홀수만 슬라이싱하기\n",
    "l3 = list(range(1,21))\n",
    "l3[::2]"
   ]
  },
  {
   "cell_type": "markdown",
   "id": "d8abc242",
   "metadata": {},
   "source": [
    "## 항목의 인덱스 찾기\n",
    " - 리스트명.index(항목)\n",
    " - 튜플명.index(항목)"
   ]
  },
  {
   "cell_type": "code",
   "execution_count": 22,
   "id": "cb1238d0",
   "metadata": {},
   "outputs": [],
   "source": [
    "t1 = ('스키','보드','스케이트','스케이트보드','수상스키','웨이크보드')"
   ]
  },
  {
   "cell_type": "code",
   "execution_count": 23,
   "id": "415b3585",
   "metadata": {},
   "outputs": [
    {
     "data": {
      "text/plain": [
       "2"
      ]
     },
     "execution_count": 23,
     "metadata": {},
     "output_type": "execute_result"
    }
   ],
   "source": [
    "# '스케이트'의 인덱스 찾기\n",
    "t1.index('스케이트')"
   ]
  },
  {
   "cell_type": "code",
   "execution_count": 33,
   "id": "26e08042",
   "metadata": {},
   "outputs": [
    {
     "ename": "ValueError",
     "evalue": "tuple.index(x): x not in tuple",
     "output_type": "error",
     "traceback": [
      "\u001b[1;31m---------------------------------------------------------------------------\u001b[0m",
      "\u001b[1;31mValueError\u001b[0m                                Traceback (most recent call last)",
      "\u001b[1;32m~\\AppData\\Local\\Temp/ipykernel_13800/344476923.py\u001b[0m in \u001b[0;36m<module>\u001b[1;34m\u001b[0m\n\u001b[0;32m      1\u001b[0m \u001b[1;31m# '오토바이'의 인덱스 찾기\u001b[0m\u001b[1;33m\u001b[0m\u001b[1;33m\u001b[0m\u001b[0m\n\u001b[1;32m----> 2\u001b[1;33m \u001b[0mt1\u001b[0m\u001b[1;33m.\u001b[0m\u001b[0mindex\u001b[0m\u001b[1;33m(\u001b[0m\u001b[1;34m'오토바이'\u001b[0m\u001b[1;33m)\u001b[0m\u001b[1;33m\u001b[0m\u001b[1;33m\u001b[0m\u001b[0m\n\u001b[0m",
      "\u001b[1;31mValueError\u001b[0m: tuple.index(x): x not in tuple"
     ]
    }
   ],
   "source": [
    "# '오토바이'의 인덱스 찾기\n",
    "t1.index('오토바이')"
   ]
  },
  {
   "cell_type": "code",
   "execution_count": 34,
   "id": "4a78e62d",
   "metadata": {},
   "outputs": [
    {
     "name": "stdout",
     "output_type": "stream",
     "text": [
      "존재하지 않음\n"
     ]
    }
   ],
   "source": [
    "if '오토바이' in t1:\n",
    "    print(t1.index('오토바이'))\n",
    "else:\n",
    "    print('존재하지 않음')"
   ]
  },
  {
   "cell_type": "code",
   "execution_count": null,
   "id": "d2cb12b4",
   "metadata": {},
   "outputs": [],
   "source": []
  }
 ],
 "metadata": {
  "kernelspec": {
   "display_name": "Python 3 (ipykernel)",
   "language": "python",
   "name": "python3"
  },
  "language_info": {
   "codemirror_mode": {
    "name": "ipython",
    "version": 3
   },
   "file_extension": ".py",
   "mimetype": "text/x-python",
   "name": "python",
   "nbconvert_exporter": "python",
   "pygments_lexer": "ipython3",
   "version": "3.9.7"
  }
 },
 "nbformat": 4,
 "nbformat_minor": 5
}
