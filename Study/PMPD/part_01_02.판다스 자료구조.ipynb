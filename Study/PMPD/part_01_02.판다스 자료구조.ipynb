{
 "cells": [
  {
   "cell_type": "markdown",
   "id": "1863088a",
   "metadata": {},
   "source": [
    "# 2-1 시리즈"
   ]
  },
  {
   "cell_type": "markdown",
   "id": "c179eb41",
   "metadata": {},
   "source": [
    "## 예제 1.1_dict_to_series.py"
   ]
  },
  {
   "cell_type": "code",
   "execution_count": 2,
   "id": "6cd4ebc1",
   "metadata": {},
   "outputs": [],
   "source": [
    "# pandas 불러오기\n",
    "import pandas as pd"
   ]
  },
  {
   "cell_type": "code",
   "execution_count": 3,
   "id": "ddd9e5b1",
   "metadata": {},
   "outputs": [],
   "source": [
    "# key:value 쌍으로 딕셔너리를 만들고, 변수 dict_data에 저장\n",
    "dict_data = {'a':1,\"b\":2,\"c\":3}"
   ]
  },
  {
   "cell_type": "code",
   "execution_count": 4,
   "id": "b4a3dda6",
   "metadata": {},
   "outputs": [],
   "source": [
    "#판다스 Series() 함수로 dictionary를 Series로 변환. 변수 sr에 저장\n",
    "sr = pd.Series(dict_data)"
   ]
  },
  {
   "cell_type": "code",
   "execution_count": 6,
   "id": "d14d81a2",
   "metadata": {},
   "outputs": [
    {
     "name": "stdout",
     "output_type": "stream",
     "text": [
      "<class 'pandas.core.series.Series'>\n",
      "\n",
      "\n",
      "a    1\n",
      "b    2\n",
      "c    3\n",
      "dtype: int64\n"
     ]
    }
   ],
   "source": [
    "# sr의 자료형 출력\n",
    "print(type(sr))\n",
    "print('\\n')\n",
    "# 변수 sr에 저장되어 있는 시리즈 객체를 출력\n",
    "print(sr)"
   ]
  },
  {
   "cell_type": "code",
   "execution_count": null,
   "id": "1479d495",
   "metadata": {},
   "outputs": [],
   "source": []
  },
  {
   "cell_type": "markdown",
   "id": "af232fe5",
   "metadata": {},
   "source": [
    "# 예제 1.2_series_index.py"
   ]
  },
  {
   "cell_type": "code",
   "execution_count": 8,
   "id": "e7b1a84a",
   "metadata": {},
   "outputs": [
    {
     "name": "stdout",
     "output_type": "stream",
     "text": [
      "0    2022-03-16\n",
      "1          4.05\n",
      "2           ABC\n",
      "3           100\n",
      "4          True\n",
      "dtype: object\n"
     ]
    }
   ],
   "source": [
    "import pandas as pd\n",
    "\n",
    "# 리스트를 시리즈로 변환하여 변수 sr에 저장\n",
    "list_data=['2022-03-16', 4.05, 'ABC',100,True]\n",
    "sr = pd.Series(list_data)\n",
    "print(sr)"
   ]
  },
  {
   "cell_type": "code",
   "execution_count": 9,
   "id": "2cea4476",
   "metadata": {},
   "outputs": [],
   "source": [
    "# 인덱스 배열은 변수 idx에 저장. 데이터 값 배열은 변수 val에 저장"
   ]
  },
  {
   "cell_type": "code",
   "execution_count": 10,
   "id": "d3a3c5cf",
   "metadata": {},
   "outputs": [
    {
     "name": "stdout",
     "output_type": "stream",
     "text": [
      "RangeIndex(start=0, stop=5, step=1)\n",
      "\n",
      "\n",
      "val\n"
     ]
    }
   ],
   "source": [
    "idx= sr.index\n",
    "val=sr.values\n",
    "print(idx)\n",
    "print('\\n')\n",
    "print('val')"
   ]
  },
  {
   "cell_type": "code",
   "execution_count": null,
   "id": "a767893b",
   "metadata": {},
   "outputs": [],
   "source": []
  },
  {
   "cell_type": "markdown",
   "id": "f1617d89",
   "metadata": {},
   "source": [
    "# 예제 1.3_series_element.py"
   ]
  },
  {
   "cell_type": "code",
   "execution_count": 11,
   "id": "2c0a8083",
   "metadata": {},
   "outputs": [],
   "source": [
    "import pandas as pd\n"
   ]
  },
  {
   "cell_type": "code",
   "execution_count": 13,
   "id": "638bb164",
   "metadata": {},
   "outputs": [
    {
     "name": "stdout",
     "output_type": "stream",
     "text": [
      "이름              탁형\n",
      "생년월일    2022-04-05\n",
      "성별               남\n",
      "학생여부          True\n",
      "dtype: object\n",
      "탁형\n",
      "탁형\n"
     ]
    }
   ],
   "source": [
    "# 튜플을 시리즈로 변환 (인덱스 옵션 지정)\n",
    "tup_data = ('탁형', '2022-04-05', '남', True)\n",
    "sr=pd.Series(tup_data, index=['이름','생년월일','성별','학생여부'])\n",
    "print(sr)"
   ]
  },
  {
   "cell_type": "code",
   "execution_count": 14,
   "id": "aae060ae",
   "metadata": {},
   "outputs": [
    {
     "name": "stdout",
     "output_type": "stream",
     "text": [
      "탁형\n",
      "탁형\n"
     ]
    }
   ],
   "source": [
    "print(sr[0])             # sr의 1번째 원소를 선택(정수형 위치 인덱스)\n",
    "print(sr['이름'])        # '이름' 라벨을 가진 원소를 선택(인덱스 이름)"
   ]
  },
  {
   "cell_type": "code",
   "execution_count": 15,
   "id": "039a70b4",
   "metadata": {},
   "outputs": [
    {
     "name": "stdout",
     "output_type": "stream",
     "text": [
      "생년월일    2022-04-05\n",
      "성별               남\n",
      "dtype: object\n",
      "\n",
      "\n",
      "생년월일    2022-04-05\n",
      "성별               남\n",
      "dtype: object\n"
     ]
    }
   ],
   "source": [
    "# 여러 개의 원소를 선택(인덱스 리스트 활용)\n",
    "print(sr[[1,2]])\n",
    "print('\\n')\n",
    "print(sr[['생년월일','성별']])"
   ]
  },
  {
   "cell_type": "code",
   "execution_count": 16,
   "id": "85c58c0e",
   "metadata": {},
   "outputs": [
    {
     "name": "stdout",
     "output_type": "stream",
     "text": [
      "생년월일    2022-04-05\n",
      "dtype: object\n",
      "\n",
      "\n",
      "생년월일    2022-04-05\n",
      "성별               남\n",
      "dtype: object\n"
     ]
    }
   ],
   "source": [
    "# 여러 개의 원소를 선택(인덱스 범위 지정)\n",
    "print(sr[1:2])\n",
    "print('\\n')\n",
    "print(sr['생년월일':'성별'])"
   ]
  },
  {
   "cell_type": "code",
   "execution_count": null,
   "id": "a63203ec",
   "metadata": {},
   "outputs": [],
   "source": []
  },
  {
   "cell_type": "markdown",
   "id": "6bbd4b3b",
   "metadata": {},
   "source": [
    "# 2-2 프레임"
   ]
  },
  {
   "cell_type": "markdown",
   "id": "178ff7a3",
   "metadata": {},
   "source": [
    "# 예제 1.4_dict_to_dataframe.py"
   ]
  },
  {
   "cell_type": "code",
   "execution_count": 17,
   "id": "c3dcca81",
   "metadata": {},
   "outputs": [],
   "source": [
    "import pandas as pd"
   ]
  },
  {
   "cell_type": "code",
   "execution_count": 18,
   "id": "8d896eb9",
   "metadata": {},
   "outputs": [],
   "source": [
    "# 열이름을 key로 하고, 리스트를 value로 갖는 딕셔너리 정의(2차원 배열)\n",
    "dict_data = {'c0':[1,2,3], 'c1':[4,5,6],'c2':[7,8,9],'c3':[10,11,12],'c4':[13,14,15]}"
   ]
  },
  {
   "cell_type": "code",
   "execution_count": null,
   "id": "e843f66b",
   "metadata": {},
   "outputs": [],
   "source": [
    "# 판다스 DataFrame() 함수로 딕셔너리를 데이터프레임으로 변환. 변수 df에 저장"
   ]
  },
  {
   "cell_type": "code",
   "execution_count": 19,
   "id": "b0378d97",
   "metadata": {},
   "outputs": [],
   "source": [
    "df = pd.DataFrame(dict_data)"
   ]
  },
  {
   "cell_type": "code",
   "execution_count": 20,
   "id": "fce3a115",
   "metadata": {},
   "outputs": [
    {
     "name": "stdout",
     "output_type": "stream",
     "text": [
      "<class 'pandas.core.frame.DataFrame'>\n",
      "\n",
      "\n",
      "   c0  c1  c2  c3  c4\n",
      "0   1   4   7  10  13\n",
      "1   2   5   8  11  14\n",
      "2   3   6   9  12  15\n"
     ]
    }
   ],
   "source": [
    "# df의 자료형 출력\n",
    "print(type(df))\n",
    "print('\\n')\n",
    "# 변수 df에 저장되어 있는 데이터프레임 객체 출력\n",
    "print(df)"
   ]
  },
  {
   "cell_type": "code",
   "execution_count": null,
   "id": "720db061",
   "metadata": {},
   "outputs": [],
   "source": []
  },
  {
   "cell_type": "markdown",
   "id": "bf450281",
   "metadata": {},
   "source": [
    "# 예제 1.5_change_df_idx_col.py"
   ]
  },
  {
   "cell_type": "code",
   "execution_count": 21,
   "id": "e5be615d",
   "metadata": {},
   "outputs": [],
   "source": [
    "import pandas as pd"
   ]
  },
  {
   "cell_type": "code",
   "execution_count": 24,
   "id": "d5281552",
   "metadata": {},
   "outputs": [
    {
     "name": "stdout",
     "output_type": "stream",
     "text": [
      "     나이 성별   학교\n",
      "준서   15  남  덕영중\n",
      "예은  17,  여  수리중\n",
      "\n",
      "\n",
      "Index(['준서', '예은'], dtype='object')\n",
      "Index(['나이', '성별', '학교'], dtype='object')\n"
     ]
    }
   ],
   "source": [
    "# 행 인덱스/열 이름 지정하여 데이터프레임 만들기\n",
    "df = pd.DataFrame([[15,'남','덕영중'],['17,','여','수리중']],\n",
    "                 index=['준서','예은'],\n",
    "                 columns=['나이','성별','학교'])\n",
    "# 행 인덱스, 열 이름 확인하기\n",
    "print(df)                 # 데이터프레임\n",
    "print('\\n')\n",
    "print(df.index)          # 행 인덱스\n",
    "print(df.columns)         # 열 이름"
   ]
  },
  {
   "cell_type": "code",
   "execution_count": 26,
   "id": "e55821b8",
   "metadata": {},
   "outputs": [
    {
     "name": "stdout",
     "output_type": "stream",
     "text": [
      "      연령 남녀   소속\n",
      "학생1   15  남  덕영중\n",
      "학생2  17,  여  수리중\n",
      "\n",
      "\n",
      "Index(['학생1', '학생2'], dtype='object')\n",
      "\n",
      "\n",
      "Index(['연령', '남녀', '소속'], dtype='object')\n"
     ]
    }
   ],
   "source": [
    "# 행 인덱스, 열 이름 변경하기\n",
    "df.index=['학생1','학생2']\n",
    "df.columns=['연령','남녀','소속']\n",
    "\n",
    "print(df)            # 데이터프레임\n",
    "print('\\n')\n",
    "print(df.index)      # 행 인덱스\n",
    "print('\\n')\n",
    "print(df.columns)    # 열 이름"
   ]
  },
  {
   "cell_type": "markdown",
   "id": "6d6ec52e",
   "metadata": {},
   "source": [
    "# 예제 1.6_change_df_idx_col2.py"
   ]
  },
  {
   "cell_type": "code",
   "execution_count": 27,
   "id": "bad1b525",
   "metadata": {},
   "outputs": [],
   "source": [
    "import pandas as pd"
   ]
  },
  {
   "cell_type": "code",
   "execution_count": 29,
   "id": "cbcac155",
   "metadata": {},
   "outputs": [
    {
     "name": "stdout",
     "output_type": "stream",
     "text": [
      "     나이 성별   학교\n",
      "준서   15  남  덕영중\n",
      "예은  17,  여  수리중\n",
      "\n",
      "\n",
      "      연령 남녀   소속\n",
      "학생1   15  남  덕영중\n",
      "학생2  17,  여  수리중\n"
     ]
    }
   ],
   "source": [
    "# 행 인덱스/열 이름 지정하여 데이터프레임 만들기\n",
    "df = pd.DataFrame([[15,'남','덕영중'],['17,','여','수리중']],\n",
    "                 index=['준서','예은'],\n",
    "                 columns=['나이','성별','학교'])\n",
    "\n",
    "# 데이터프레임 df 출력\n",
    "print(df)\n",
    "print(\"\\n\")\n",
    "\n",
    "# 열 이름 중, '나이'를 연령으로, '성별'을 '남녀'로 '학교'를 '소속'으로 바꾸기\n",
    "df.rename(columns={'나이':'연령','성별':'남녀','학교':'소속'}, inplace=True)\n",
    "\n",
    "df.rename(index={'준서':'학생1','예은':'학생2'}, inplace=True)\n",
    "\n",
    "# df 출력(변경 후)\n",
    "print(df)"
   ]
  },
  {
   "cell_type": "code",
   "execution_count": null,
   "id": "f64178a8",
   "metadata": {},
   "outputs": [],
   "source": []
  },
  {
   "cell_type": "markdown",
   "id": "ff8b8784",
   "metadata": {},
   "source": [
    "# 예제 1.7_remove_row.py"
   ]
  },
  {
   "cell_type": "code",
   "execution_count": 30,
   "id": "b45708b9",
   "metadata": {},
   "outputs": [],
   "source": [
    "import pandas as pd"
   ]
  },
  {
   "cell_type": "code",
   "execution_count": 32,
   "id": "16176134",
   "metadata": {},
   "outputs": [
    {
     "name": "stdout",
     "output_type": "stream",
     "text": [
      "    수학  영어   음악   체육\n",
      "서준  90  98   85  100\n",
      "우현  80  89   95   90\n",
      "인아  70  95  100   90\n",
      "\n",
      "\n",
      "    수학  영어   음악   체육\n",
      "서준  90  98   85  100\n",
      "인아  70  95  100   90\n",
      "\n",
      "\n",
      "    수학  영어  음악   체육\n",
      "서준  90  98  85  100\n"
     ]
    },
    {
     "name": "stderr",
     "output_type": "stream",
     "text": [
      "C:\\ProgramData\\Anaconda3\\lib\\site-packages\\pandas\\core\\frame.py:4906: SettingWithCopyWarning: \n",
      "A value is trying to be set on a copy of a slice from a DataFrame\n",
      "\n",
      "See the caveats in the documentation: https://pandas.pydata.org/pandas-docs/stable/user_guide/indexing.html#returning-a-view-versus-a-copy\n",
      "  return super().drop(\n",
      "C:\\ProgramData\\Anaconda3\\lib\\site-packages\\pandas\\core\\frame.py:4906: SettingWithCopyWarning: \n",
      "A value is trying to be set on a copy of a slice from a DataFrame\n",
      "\n",
      "See the caveats in the documentation: https://pandas.pydata.org/pandas-docs/stable/user_guide/indexing.html#returning-a-view-versus-a-copy\n",
      "  return super().drop(\n"
     ]
    }
   ],
   "source": [
    "# DataFrame() 함수로 데이터프레임 변환, 변수 df에 저장\n",
    "exam_data = {'수학':[90,80,70],'영어':[98,89,95],\n",
    "            '음악':[85,95,100],'체육':[100,90,90]}\n",
    "\n",
    "df = pd.DataFrame(exam_data, index=['서준','우현','인아'])\n",
    "print(df)\n",
    "print('\\n')\n",
    "\n",
    "# 데이터프레임 df를 복제하여 변수 df2에 저장. df2의 1개 행(row) 삭제\n",
    "df2 = df[:]\n",
    "df2.drop('우현', inplace=True)\n",
    "print(df2)\n",
    "print('\\n')\n",
    "\n",
    "# 데이터프레임 df를 복제하여 변수 df3에 저장. df3의 2개 행(row) 삭제\n",
    "df3 = df[:]\n",
    "df3.drop(['우현','인아'], axis=0, inplace=True)\n",
    "print(df3)"
   ]
  },
  {
   "cell_type": "code",
   "execution_count": null,
   "id": "6bc6cf51",
   "metadata": {},
   "outputs": [],
   "source": []
  },
  {
   "cell_type": "markdown",
   "id": "5eb8cf1f",
   "metadata": {},
   "source": [
    "# 예제 1.8_remove_column.py"
   ]
  },
  {
   "cell_type": "code",
   "execution_count": 34,
   "id": "84546560",
   "metadata": {},
   "outputs": [
    {
     "name": "stdout",
     "output_type": "stream",
     "text": [
      "    수학  영어   음악   체육\n",
      "서준  90  98   85  100\n",
      "우현  80  89   95   90\n",
      "인아  70  95  100   90\n",
      "\n",
      "\n",
      "    영어   음악   체육\n",
      "서준  98   85  100\n",
      "우현  89   95   90\n",
      "인아  95  100   90\n",
      "\n",
      "\n",
      "    수학   체육\n",
      "서준  90  100\n",
      "우현  80   90\n",
      "인아  70   90\n"
     ]
    }
   ],
   "source": [
    "import pandas as pd\n",
    "\n",
    "# DataFrame() 함수로 데이터프레임 변환, 변수 df에 저장\n",
    "exam_data = {'수학':[90,80,70],'영어':[98,89,95],\n",
    "            '음악':[85,95,100],'체육':[100,90,90]}\n",
    "\n",
    "df = pd.DataFrame(exam_data, index=['서준','우현','인아'])\n",
    "print(df)\n",
    "print('\\n')\n",
    "\n",
    "# 데이터프레임 df를 복제하여 변수 df4에 저장. df4의 1개 열 (column) 삭제\n",
    "df4=df.copy()\n",
    "df4.drop('수학', axis=1, inplace=True)\n",
    "print(df4)\n",
    "print('\\n')\n",
    "\n",
    "# 데이터프레임 df를 복제하여 변수 df5에 저장. df5의 2개 열(column) 삭제\n",
    "df5 = df.copy()\n",
    "df5.drop(['영어','음악'], axis=1, inplace=True)\n",
    "print(df5)"
   ]
  },
  {
   "cell_type": "code",
   "execution_count": null,
   "id": "13307fb6",
   "metadata": {},
   "outputs": [],
   "source": []
  },
  {
   "cell_type": "markdown",
   "id": "d952b0c7",
   "metadata": {},
   "source": [
    "# 예제 1.9_select_row.py"
   ]
  },
  {
   "cell_type": "code",
   "execution_count": 36,
   "id": "0230bfa5",
   "metadata": {},
   "outputs": [
    {
     "name": "stdout",
     "output_type": "stream",
     "text": [
      "    수학  영어   음악   체육\n",
      "서준  90  98   85  100\n",
      "우현  80  89   95   90\n",
      "인아  70  95  100   90\n",
      "\n",
      "\n",
      "수학     90\n",
      "영어     98\n",
      "음악     85\n",
      "체육    100\n",
      "Name: 서준, dtype: int64\n",
      "\n",
      "\n",
      "수학     90\n",
      "영어     98\n",
      "음악     85\n",
      "체육    100\n",
      "Name: 서준, dtype: int64\n"
     ]
    }
   ],
   "source": [
    "import pandas as pd\n",
    "\n",
    "# DataFrame() 함수로 데이터프레임 변환, 변수 df에 저장\n",
    "exam_data = {'수학':[90,80,70],'영어':[98,89,95],\n",
    "            '음악':[85,95,100],'체육':[100,90,90]}\n",
    "\n",
    "df = pd.DataFrame(exam_data, index=['서준','우현','인아'])\n",
    "print(df)\n",
    "print('\\n')\n",
    "\n",
    "# 행 인덱스를 사용하여 행 1개 선택\n",
    "label1= df.loc['서준']\n",
    "position1 = df.iloc[0]\n",
    "print(label1)\n",
    "print('\\n')\n",
    "print(position1)\n"
   ]
  },
  {
   "cell_type": "code",
   "execution_count": 37,
   "id": "ca71b4d7",
   "metadata": {},
   "outputs": [
    {
     "name": "stdout",
     "output_type": "stream",
     "text": [
      "    수학  영어  음악   체육\n",
      "서준  90  98  85  100\n",
      "우현  80  89  95   90\n",
      "\n",
      "\n",
      "    수학  영어  음악   체육\n",
      "서준  90  98  85  100\n",
      "우현  80  89  95   90\n"
     ]
    }
   ],
   "source": [
    "# 행 인덱스를 사용하여 2개 이상의 행 선택\n",
    "label2=df.loc[['서준','우현']]\n",
    "position2=df.iloc[[0,1]]\n",
    "print(label2)\n",
    "print('\\n')\n",
    "print(position2)"
   ]
  },
  {
   "cell_type": "code",
   "execution_count": 39,
   "id": "da2e0ac0",
   "metadata": {},
   "outputs": [
    {
     "name": "stdout",
     "output_type": "stream",
     "text": [
      "    수학  영어  음악   체육\n",
      "서준  90  98  85  100\n",
      "우현  80  89  95   90\n",
      "\n",
      "\n",
      "    수학  영어  음악   체육\n",
      "서준  90  98  85  100\n"
     ]
    }
   ],
   "source": [
    "# 행 인덱스의 범위를 지정하여 행 선택\n",
    "label3 = df.loc['서준':'우현']\n",
    "position3=df.iloc[0:1]\n",
    "print(label3)\n",
    "print('\\n')\n",
    "print(position3)"
   ]
  },
  {
   "cell_type": "code",
   "execution_count": null,
   "id": "e017a679",
   "metadata": {},
   "outputs": [],
   "source": []
  },
  {
   "cell_type": "markdown",
   "id": "515f7887",
   "metadata": {},
   "source": [
    "# 예제 1.10_select_column.py"
   ]
  },
  {
   "cell_type": "code",
   "execution_count": 1,
   "id": "2e3995f0",
   "metadata": {},
   "outputs": [
    {
     "name": "stdout",
     "output_type": "stream",
     "text": [
      "   이름  수학  영어   음악   체육\n",
      "0  서준  90  98   85  100\n",
      "1  우현  80  89   95   90\n",
      "2  인아  70  95  100   90\n",
      "<class 'pandas.core.frame.DataFrame'>\n",
      "\n",
      "\n",
      "0    90\n",
      "1    80\n",
      "2    70\n",
      "Name: 수학, dtype: int64\n",
      "<class 'pandas.core.series.Series'>\n",
      "\n",
      "\n",
      "0    98\n",
      "1    89\n",
      "2    95\n",
      "Name: 영어, dtype: int64\n",
      "<class 'pandas.core.series.Series'>\n",
      "    음악   체육\n",
      "0   85  100\n",
      "1   95   90\n",
      "2  100   90\n",
      "<class 'pandas.core.frame.DataFrame'>\n",
      "\n",
      "\n",
      "   수학\n",
      "0  90\n",
      "1  80\n",
      "2  70\n",
      "<class 'pandas.core.frame.DataFrame'>\n"
     ]
    }
   ],
   "source": [
    "import pandas as pd\n",
    "\n",
    "# DataFrame() 함수로 데이터프레임 변환. 변수 df에 저장\n",
    "exam_data = {'이름' : ['서준','우현','인아'],\n",
    "            '수학':[90,80,70],\n",
    "            '영어':[98,89,95],\n",
    "            '음악':[85,95,100],\n",
    "            '체육':[100,90,90]}\n",
    "df=pd.DataFrame(exam_data)\n",
    "print(df)\n",
    "print(type(df))\n",
    "print('\\n')\n",
    "\n",
    "# '수학' 점수 데이터만 선택. 변수 math1에 저장\n",
    "math1=df['수학']\n",
    "print(math1)\n",
    "print(type(math1))\n",
    "print('\\n')\n",
    "\n",
    "#'영어' 점수 데이터만 선택. 변수 english에 저장\n",
    "english = df.영어\n",
    "print(english)\n",
    "print(type(english))\n",
    "\n",
    "# '음악','체육' 점수 데이터를 선택. 변수 music_gym에 저장\n",
    "music_gym = df[['음악', '체육']]\n",
    "print(music_gym)\n",
    "print(type(music_gym))\n",
    "print('\\n')\n",
    "\n",
    "# '수학' 점수 데이터만 선택. 변수 math2에 저장\n",
    "math2 =df[['수학']]\n",
    "print(math2)\n",
    "print(type(math2))"
   ]
  },
  {
   "cell_type": "code",
   "execution_count": null,
   "id": "601350e6",
   "metadata": {},
   "outputs": [],
   "source": []
  },
  {
   "cell_type": "markdown",
   "id": "d381c4a9",
   "metadata": {},
   "source": [
    "# 예제 1.11_select_element.py"
   ]
  },
  {
   "cell_type": "code",
   "execution_count": 7,
   "id": "bc3dd2d2",
   "metadata": {},
   "outputs": [
    {
     "name": "stdout",
     "output_type": "stream",
     "text": [
      "    수학  영어   음악   체육\n",
      "이름                  \n",
      "서준  90  98   85  100\n",
      "우현  80  89   95   90\n",
      "인아  70  95  100   90\n",
      "85\n",
      "85\n",
      "음악     85\n",
      "체육    100\n",
      "Name: 서준, dtype: int64\n",
      "음악     85\n",
      "체육    100\n",
      "Name: 서준, dtype: int64\n",
      "음악     85\n",
      "체육    100\n",
      "Name: 서준, dtype: int64\n",
      "음악     85\n",
      "체육    100\n",
      "Name: 서준, dtype: int64\n",
      "    음악   체육\n",
      "이름         \n",
      "서준  85  100\n",
      "우현  95   90\n",
      "    음악   체육\n",
      "이름         \n",
      "서준  85  100\n",
      "우현  95   90\n",
      "    음악   체육\n",
      "이름         \n",
      "서준  85  100\n",
      "우현  95   90\n",
      "    음악   체육\n",
      "이름         \n",
      "서준  85  100\n",
      "우현  95   90\n"
     ]
    }
   ],
   "source": [
    "import pandas as pd\n",
    "\n",
    "# DataFrame() 함수로 데이터프레임 변환. 변수 df에 저장\n",
    "exam_data = {'이름' : ['서준','우현','인아'],\n",
    "             '수학' : [90,80,70],\n",
    "             '영어' : [98,89,95],\n",
    "             '음악' : [85,95,100],\n",
    "             '체육' : [100,90,90]}\n",
    "df = pd.DataFrame(exam_data)\n",
    "\n",
    "# '이름' 열을 새로운 인덱스로 지정하고, df 객체에 변경 사항 반영\n",
    "df.set_index('이름', inplace=True)\n",
    "print(df)\n",
    "\n",
    "# 데이터프레임 df의 특정 원소 1개 선택 ('서준'의 음악 점수)\n",
    "a = df.loc['서준', '음악']\n",
    "print(a)\n",
    "b = df.iloc[0,2]\n",
    "print(b)\n",
    "\n",
    "# 데이터프레임 df의 특정 원소 2개 이상 선택('서준'의 '음악', '체육' 점수)\n",
    "c = df.loc['서준',['음악','체육']]\n",
    "print(c)\n",
    "d = df.iloc[0,[2,3]]\n",
    "print(d)\n",
    "e = df.loc['서준', '음악':'체육']\n",
    "print(e)\n",
    "f = df.iloc[0, 2:]\n",
    "print(f)\n",
    "# df 2개 이상의 행과 열에 원소들 선택('서준' '우현'의 '음악', '체육' 점수)\n",
    "g = df.loc[['서준','우현'],['음악','체육']]\n",
    "print(g)\n",
    "h = df.iloc[[0,1],[2,3]]\n",
    "print(h)\n",
    "i =df.loc['서준':'우현','음악':'체육']\n",
    "print(i)\n",
    "j = df.iloc[0:2,2:]\n",
    "print(j)"
   ]
  },
  {
   "cell_type": "code",
   "execution_count": null,
   "id": "73e7462f",
   "metadata": {},
   "outputs": [],
   "source": []
  },
  {
   "cell_type": "markdown",
   "id": "009f2a25",
   "metadata": {},
   "source": [
    "# 예제 1.12_add_column.py"
   ]
  },
  {
   "cell_type": "code",
   "execution_count": 8,
   "id": "a69fd0e3",
   "metadata": {},
   "outputs": [
    {
     "name": "stdout",
     "output_type": "stream",
     "text": [
      "   이름  수학  영어   음악   체육\n",
      "0  서준  90  98   85  100\n",
      "1  우현  80  89   95   90\n",
      "2  인아  70  95  100   90\n",
      "\n",
      "\n",
      "   이름  수학  영어   음악   체육  국어\n",
      "0  서준  90  98   85  100  80\n",
      "1  우현  80  89   95   90  80\n",
      "2  인아  70  95  100   90  80\n"
     ]
    }
   ],
   "source": [
    "import pandas as pd\n",
    "\n",
    "# DataFrame() 함수로 데이터프레임 변환. 변수 df에 저장\n",
    "exam_data = {'이름' : [ '서준','우현','인아'],\n",
    "            '수학' : [90,80,70],\n",
    "            '영어' : [98,89,95],\n",
    "            '음악' : [85,95,100],\n",
    "            '체육' : [100,90, 90]}\n",
    "df = pd.DataFrame(exam_data)\n",
    "print(df)\n",
    "print('\\n')\n",
    "\n",
    "# 데이터프레임 df에 '국어' 점수 열(column) 추가. 데이터 값은 80 지정\n",
    "df['국어'] = 80\n",
    "print(df)"
   ]
  },
  {
   "cell_type": "code",
   "execution_count": null,
   "id": "f55814b0",
   "metadata": {},
   "outputs": [],
   "source": []
  },
  {
   "cell_type": "markdown",
   "id": "6e413214",
   "metadata": {},
   "source": [
    "# 예제 1.13_add_row.py"
   ]
  },
  {
   "cell_type": "code",
   "execution_count": 10,
   "id": "6b9aa9ec",
   "metadata": {},
   "outputs": [
    {
     "name": "stdout",
     "output_type": "stream",
     "text": [
      "   이름  수학  영어   음악   체육\n",
      "0  서준  90  98   85  100\n",
      "1  우현  80  89   95   90\n",
      "2  인아  70  95  100   90\n",
      "\n",
      "\n",
      "   이름  수학  영어   음악   체육\n",
      "0  서준  90  98   85  100\n",
      "1  우현  80  89   95   90\n",
      "2  인아  70  95  100   90\n",
      "3   0   0   0    0    0\n",
      "\n",
      "\n",
      "   이름  수학  영어   음악   체육\n",
      "0  서준  90  98   85  100\n",
      "1  우현  80  89   95   90\n",
      "2  인아  70  95  100   90\n",
      "3   0   0   0    0    0\n",
      "4  동규  90  80   70   60\n",
      "\n",
      "\n",
      "    이름  수학  영어   음악   체육\n",
      "0   서준  90  98   85  100\n",
      "1   우현  80  89   95   90\n",
      "2   인아  70  95  100   90\n",
      "3    0   0   0    0    0\n",
      "4   동규  90  80   70   60\n",
      "행5   0   0   0    0    0\n"
     ]
    }
   ],
   "source": [
    "import pandas as pd\n",
    "\n",
    "# DataFrame() 함수로 데이터프레임 변환. 변수 df에 저장\n",
    "exam_data = {'이름' : ['서준', '우현', '인아'],\n",
    "            '수학' : [90,80,70],\n",
    "            '영어' : [98,89,95],\n",
    "            '음악' : [85,95,100],\n",
    "            '체육' : [100,90,90]}\n",
    "df=pd.DataFrame(exam_data)\n",
    "print(df)\n",
    "print('\\n')\n",
    "\n",
    "# 새로운 행(row) 추가 - 같은 원소 값 입력\n",
    "df.loc[3] = 0\n",
    "print(df)\n",
    "print('\\n')\n",
    "\n",
    "# 새로운 행(row) 추가 - 원소 값 여러 개의 배열 입력\n",
    "df.loc[4] = ['동규',90,80,70,60]\n",
    "print(df)\n",
    "print('\\n')\n",
    "\n",
    "# 새로운 행(row) 추가 - 기존 행 복사\n",
    "df.loc['행5'] = df.loc[3]\n",
    "print(df)"
   ]
  },
  {
   "cell_type": "code",
   "execution_count": null,
   "id": "b0e1ddf1",
   "metadata": {},
   "outputs": [],
   "source": []
  },
  {
   "cell_type": "markdown",
   "id": "2b3a3b6e",
   "metadata": {},
   "source": [
    "# 예제 1.14_moldify_dataframe_element.py"
   ]
  },
  {
   "cell_type": "code",
   "execution_count": 12,
   "id": "5a58065d",
   "metadata": {},
   "outputs": [
    {
     "name": "stdout",
     "output_type": "stream",
     "text": [
      "    수학  영어   음악   체육\n",
      "이름                  \n",
      "서준  90  98   85  100\n",
      "우현  80  89   95   90\n",
      "인아  70  95  100   90\n",
      "\n",
      "\n",
      "    수학  영어   음악  체육\n",
      "이름                 \n",
      "서준  90  98   85  80\n",
      "우현  80  89   95  90\n",
      "인아  70  95  100  90\n",
      "\n",
      "\n",
      "    수학  영어   음악  체육\n",
      "이름                 \n",
      "서준  90  98   85  90\n",
      "우현  80  89   95  90\n",
      "인아  70  95  100  90\n",
      "\n",
      "\n",
      "    수학  영어   음악   체육\n",
      "이름                  \n",
      "서준  90  98   85  100\n",
      "우현  80  89   95   90\n",
      "인아  70  95  100   90\n",
      "    수학  영어   음악  체육\n",
      "이름                 \n",
      "서준  90  98   50  50\n",
      "우현  80  89   95  90\n",
      "인아  70  95  100  90\n",
      "\n",
      "\n",
      "    수학  영어   음악  체육\n",
      "이름                 \n",
      "서준  90  98  100  50\n",
      "우현  80  89   95  90\n",
      "인아  70  95  100  90\n"
     ]
    }
   ],
   "source": [
    "import pandas as pd\n",
    "\n",
    "# DataFrame() 함수로 데이터프레임 변환. 변수 df에 저장\n",
    "exam_data = {'이름' : ['서준', '우현', '인아'],\n",
    "            '수학' : [90,80,70],\n",
    "            '영어' : [98,89,95],\n",
    "            '음악' : [85,95,100],\n",
    "            '체육' : [100,90,90]}\n",
    "df = pd.DataFrame(exam_data)\n",
    "\n",
    "# '이름' 열을 새로운 인덱스로 지정하고, df 객체에 변경사항 반영\n",
    "df.set_index('이름', inplace=True)\n",
    "print(df)\n",
    "print('\\n')\n",
    "\n",
    "# 데이터프레임 df의 특성 원소를 변경하는 방법 : '서준'의 '체육' 점수\n",
    "df.iloc[0][3] = 80\n",
    "print(df)\n",
    "print('\\n')\n",
    "\n",
    "# 데이터프레임 df의 특정 원소를 변경하는 방법 : '서준'의 '체육' 점수\n",
    "df.loc['서준']['체육']=90\n",
    "print(df)\n",
    "print('\\n')\n",
    "\n",
    "df.loc['서준','체육']=100\n",
    "print(df)\n",
    "\n",
    "# 데이터프레임 df의 원소 여러 개를 변경하는 방법: '서준'의 '음악', '체육' 점수\n",
    "df.loc['서준',['음악','체육']] = 50\n",
    "print(df)\n",
    "print('\\n')\n",
    "\n",
    "df.loc['서준',['음악','체육']] = 100, 50\n",
    "print(df)"
   ]
  },
  {
   "cell_type": "code",
   "execution_count": null,
   "id": "505bab42",
   "metadata": {},
   "outputs": [],
   "source": []
  },
  {
   "cell_type": "markdown",
   "id": "7640eb77",
   "metadata": {},
   "source": [
    "# 예제 1.15_transpose.py"
   ]
  },
  {
   "cell_type": "code",
   "execution_count": 17,
   "id": "ce05bb44",
   "metadata": {},
   "outputs": [
    {
     "name": "stdout",
     "output_type": "stream",
     "text": [
      "   이름  수학  영어   음악   체육\n",
      "0  서준  90  98   85  100\n",
      "1  우현  80  89   95   90\n",
      "2  인아  70  95  100   90\n",
      "\n",
      "\n",
      "      0   1    2\n",
      "이름   서준  우현   인아\n",
      "수학   90  80   70\n",
      "영어   98  89   95\n",
      "음악   85  95  100\n",
      "체육  100  90   90\n",
      "\n",
      "\n",
      "   이름  수학  영어   음악   체육\n",
      "0  서준  90  98   85  100\n",
      "1  우현  80  89   95   90\n",
      "2  인아  70  95  100   90\n"
     ]
    }
   ],
   "source": [
    "import pandas as pd\n",
    "\n",
    "# DataFrame() 함수로 데이터프레임 변환. 변수 df에 저장\n",
    "exam_data = {'이름' : ['서준', '우현', '인아'],\n",
    "            '수학' : [90,80,70],\n",
    "            '영어' : [98,89,95],\n",
    "            '음악' : [85,95,100],\n",
    "            '체육' : [100,90,90]}\n",
    "df = pd.DataFrame(exam_data)\n",
    "print(df)\n",
    "print('\\n')\n",
    "\n",
    "# 데이터프레임 df를 전치하기(메소드 활용)\n",
    "df = df.transpose()\n",
    "print(df)\n",
    "print('\\n')\n",
    "\n",
    "# 데이터프레임 df를 다시 전치하기(클래스 속성 활용)\n",
    "df=df.T\n",
    "print(df)"
   ]
  },
  {
   "cell_type": "code",
   "execution_count": null,
   "id": "611ce34c",
   "metadata": {},
   "outputs": [],
   "source": []
  }
 ],
 "metadata": {
  "kernelspec": {
   "display_name": "Python 3 (ipykernel)",
   "language": "python",
   "name": "python3"
  },
  "language_info": {
   "codemirror_mode": {
    "name": "ipython",
    "version": 3
   },
   "file_extension": ".py",
   "mimetype": "text/x-python",
   "name": "python",
   "nbconvert_exporter": "python",
   "pygments_lexer": "ipython3",
   "version": "3.9.7"
  }
 },
 "nbformat": 4,
 "nbformat_minor": 5
}
