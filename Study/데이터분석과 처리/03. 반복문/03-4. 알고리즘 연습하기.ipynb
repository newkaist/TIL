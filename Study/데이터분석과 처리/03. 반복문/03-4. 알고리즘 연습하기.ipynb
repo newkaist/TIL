{
 "cells": [
  {
   "cell_type": "markdown",
   "id": "1d345b3a",
   "metadata": {},
   "source": [
    "# up&down 숫자맞추기 게임\n",
    "- 1~100 사이의 정답 숫자를 랜덤으로 하나 정하고, 정답 숫자를 맞출 때까지 숫자를 입력하는 게임이다.\n",
    "\n",
    "  내가 입력한 숫자가 정답보다 작으면 'DOWN', 정답보다 크면 'UP'을 출력하고 숫자를 다시 입력받는다.\n",
    "  \n",
    "  정답을 맞추면 '정답!'이라고 출력하고 게임을 끝낸다."
   ]
  },
  {
   "cell_type": "code",
   "execution_count": 4,
   "id": "84e6c7d6",
   "metadata": {},
   "outputs": [
    {
     "name": "stdout",
     "output_type": "stream",
     "text": [
      "26\n",
      "예상숫자:11\n",
      "up\n",
      "예상숫자:13\n",
      "up\n",
      "예상숫자:311\n",
      "down\n",
      "예상숫자:32\n",
      "down\n",
      "예상숫자:25\n",
      "up\n",
      "예상숫자:26\n",
      "정답~!\n"
     ]
    }
   ],
   "source": [
    "#정답숫자\n",
    "import random\n",
    "num = random.randrange(1,101)\n",
    "print(num)\n",
    "\n",
    "#정답을 맞출 때까지 반복하기(정답을 맞추면 반복에서 벗어나기)\n",
    "while True:\n",
    "    answer = int(input('예상숫자:'))\n",
    "    if answer==num:\n",
    "        print('정답~!')\n",
    "        break      # 정지조건 \n",
    "    if answer<num:\n",
    "        print('up')\n",
    "    else:\n",
    "        print('down')\n",
    "    "
   ]
  },
  {
   "cell_type": "markdown",
   "id": "a6d34be1",
   "metadata": {},
   "source": [
    "- 확장\n",
    "기회는 5번까지만 주어집니다.\n",
    "5회가 넘으면 '횟수초과' 메시지와 함께 정답을 알려줍니다.\n",
    "정답을 맞추면 몇번째에 맞추었는지 출력합니다."
   ]
  },
  {
   "cell_type": "code",
   "execution_count": 5,
   "id": "d774e3fc",
   "metadata": {},
   "outputs": [
    {
     "name": "stdout",
     "output_type": "stream",
     "text": [
      "72\n",
      "예상숫자:50\n",
      "up\n",
      "예상숫자:75\n",
      "down\n",
      "예상숫자:60\n",
      "up\n",
      "예상숫자:70\n",
      "up\n",
      "예상숫자:73\n",
      "down\n",
      "횟수초과:정답은 72\n"
     ]
    }
   ],
   "source": [
    "# 횟수\n",
    "cnt = 0\n",
    "\n",
    "#정답숫자\n",
    "import random\n",
    "num = random.randrange(1,101)\n",
    "print(num)\n",
    "\n",
    "#정답을 맞출 때까지 반복하기(정답을 맞추면 반복에서 벗어나기)\n",
    "while True:\n",
    "    cnt += 1\n",
    "    if cnt>5:                             # 횟수 초과시, \n",
    "        print('횟수초과:정답은',num)\n",
    "        break   # 정지조건 \n",
    "    \n",
    "    answer = int(input('예상숫자:'))  # 문자 --> 숫자(int)\n",
    "    if answer==num:\n",
    "        print('정답~!')\n",
    "        print(cnt,'번만에 맞추었습니다.')\n",
    "        break\n",
    "    if answer<num:\n",
    "        print('up')\n",
    "    else:\n",
    "        print('down')\n",
    "    "
   ]
  },
  {
   "cell_type": "markdown",
   "id": "45d0ac6f",
   "metadata": {},
   "source": [
    "# 사칙연산 프로그램\n",
    "- 두 수와 사칙연산기호(+,-,*,/)을 입력받아 연산 기호에 따라 연산 결과를 출력하는 프로그램을 작성하세요.\n",
    "- 사칙연산기호(+,-,*,/)가 아닌 경우 '잘못입력하셨습니다' 출력"
   ]
  },
  {
   "cell_type": "code",
   "execution_count": 7,
   "id": "567c2143",
   "metadata": {},
   "outputs": [
    {
     "name": "stdout",
     "output_type": "stream",
     "text": [
      "숫자1:1\n",
      "숫자2:2\n",
      "연산기호:+\n",
      "1+2=3\n"
     ]
    }
   ],
   "source": [
    "num1 = int(input('숫자1:'))\n",
    "num2 = int(input('숫자2:'))\n",
    "op = input('연산기호:')\n",
    "\n",
    "\n",
    "if op=='+':\n",
    "    print(f'{num1}+{num2}={num1+num2}')\n",
    "elif op=='-':\n",
    "    print(f'{num1}-{num2}={num1-num2}')\n",
    "elif op=='*':\n",
    "    print(f'{num1}*{num2}={num1*num2}')\n",
    "elif op=='/':\n",
    "    print(f'{num1}/{num2}={num1/num2}')\n",
    "else:\n",
    "    print('잘못 입력하셨습니다.')"
   ]
  },
  {
   "cell_type": "code",
   "execution_count": null,
   "id": "5288df2a",
   "metadata": {},
   "outputs": [],
   "source": []
  },
  {
   "cell_type": "code",
   "execution_count": null,
   "id": "aa975174",
   "metadata": {},
   "outputs": [],
   "source": []
  },
  {
   "cell_type": "code",
   "execution_count": null,
   "id": "4b7ab0ca",
   "metadata": {},
   "outputs": [],
   "source": []
  },
  {
   "cell_type": "code",
   "execution_count": null,
   "id": "74736f06",
   "metadata": {},
   "outputs": [],
   "source": []
  }
 ],
 "metadata": {
  "kernelspec": {
   "display_name": "Python 3 (ipykernel)",
   "language": "python",
   "name": "python3"
  },
  "language_info": {
   "codemirror_mode": {
    "name": "ipython",
    "version": 3
   },
   "file_extension": ".py",
   "mimetype": "text/x-python",
   "name": "python",
   "nbconvert_exporter": "python",
   "pygments_lexer": "ipython3",
   "version": "3.9.7"
  }
 },
 "nbformat": 4,
 "nbformat_minor": 5
}
