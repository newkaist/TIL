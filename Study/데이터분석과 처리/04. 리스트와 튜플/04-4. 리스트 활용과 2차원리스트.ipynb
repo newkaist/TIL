{
 "cells": [
  {
   "cell_type": "markdown",
   "id": "10878df1",
   "metadata": {},
   "source": [
    "# 리스트의 통계값 구하기\n",
    " - 항목수 : len(리스트명)\n",
    " - 합계 : sum(리스트명)\n",
    " - 최소값 : min(리스트명)\n",
    " - 최대값 : max(리스트명)\n",
    " - 항목의 갯수 : 리스트명.count(항목) "
   ]
  },
  {
   "cell_type": "code",
   "execution_count": 1,
   "id": "f1d7778f",
   "metadata": {},
   "outputs": [
    {
     "name": "stdout",
     "output_type": "stream",
     "text": [
      "항목수: 8\n",
      "합계: 27\n",
      "최소값: 1\n",
      "최대값: 5\n",
      "평균: 3.375\n",
      "항목5의 갯수: 2\n"
     ]
    }
   ],
   "source": [
    "l = [1,2,3,4,5,3,4,5]\n",
    "print('항목수:',len(l))\n",
    "print('합계:',sum(l))\n",
    "print('최소값:',min(l))\n",
    "print('최대값:',max(l))\n",
    "print('평균:',sum(l)/len(l))     # 추천코드 (len()함수: 전체 크기)\n",
    "print('항목5의 갯수:',l.count(5)) # list 내 특정 숫자의 갯수 세기 "
   ]
  },
  {
   "cell_type": "markdown",
   "id": "1bd5b40c",
   "metadata": {},
   "source": [
    "# 리스트 정렬하기\n",
    "## 원본리스트 정렬\n",
    " - 리스트명.sort()\n",
    " - 리스트명.sort(reverse=True) : 내림차순"
   ]
  },
  {
   "cell_type": "code",
   "execution_count": 2,
   "id": "7b66d417",
   "metadata": {},
   "outputs": [],
   "source": [
    "friends = ['닥터윌','수지','지은','찬혁','수현','범준']"
   ]
  },
  {
   "cell_type": "code",
   "execution_count": 3,
   "id": "11600800",
   "metadata": {},
   "outputs": [],
   "source": [
    "friends.sort()"
   ]
  },
  {
   "cell_type": "code",
   "execution_count": 4,
   "id": "a4260301",
   "metadata": {},
   "outputs": [
    {
     "data": {
      "text/plain": [
       "['닥터윌', '범준', '수지', '수현', '지은', '찬혁']"
      ]
     },
     "execution_count": 4,
     "metadata": {},
     "output_type": "execute_result"
    }
   ],
   "source": [
    "friends"
   ]
  },
  {
   "cell_type": "code",
   "execution_count": 5,
   "id": "e5a761b6",
   "metadata": {},
   "outputs": [],
   "source": [
    "friends.sort(reverse=True)"
   ]
  },
  {
   "cell_type": "code",
   "execution_count": 6,
   "id": "8c4d6710",
   "metadata": {},
   "outputs": [
    {
     "data": {
      "text/plain": [
       "['찬혁', '지은', '수현', '수지', '범준', '닥터윌']"
      ]
     },
     "execution_count": 6,
     "metadata": {},
     "output_type": "execute_result"
    }
   ],
   "source": [
    "friends"
   ]
  },
  {
   "cell_type": "markdown",
   "id": "797576b3",
   "metadata": {},
   "source": [
    "# 복사본 만들어서 정렬\n",
    " - sorted(리스트명)\n",
    " - sorted(리스트명, reverse=True) : 내림차순"
   ]
  },
  {
   "cell_type": "code",
   "execution_count": 7,
   "id": "a637a475",
   "metadata": {},
   "outputs": [],
   "source": [
    "friends = ['닥터윌','수지','지은','찬혁','수현','범준']"
   ]
  },
  {
   "cell_type": "code",
   "execution_count": 8,
   "id": "37a6c822",
   "metadata": {},
   "outputs": [],
   "source": [
    "sorted_friends = sorted(friends)"
   ]
  },
  {
   "cell_type": "code",
   "execution_count": 9,
   "id": "668a6d4c",
   "metadata": {},
   "outputs": [
    {
     "data": {
      "text/plain": [
       "['닥터윌', '범준', '수지', '수현', '지은', '찬혁']"
      ]
     },
     "execution_count": 9,
     "metadata": {},
     "output_type": "execute_result"
    }
   ],
   "source": [
    "sorted_friends"
   ]
  },
  {
   "cell_type": "code",
   "execution_count": 10,
   "id": "3ca45dfc",
   "metadata": {},
   "outputs": [
    {
     "data": {
      "text/plain": [
       "['닥터윌', '수지', '지은', '찬혁', '수현', '범준']"
      ]
     },
     "execution_count": 10,
     "metadata": {},
     "output_type": "execute_result"
    }
   ],
   "source": [
    "friends"
   ]
  },
  {
   "cell_type": "markdown",
   "id": "779d6918",
   "metadata": {},
   "source": [
    "# 리스트 순서 뒤집기\n",
    " - 리스트명.reverse()"
   ]
  },
  {
   "cell_type": "code",
   "execution_count": 11,
   "id": "c21bd616",
   "metadata": {},
   "outputs": [],
   "source": [
    "friends = ['닥터윌','수지','지은','찬혁','수현','범준']"
   ]
  },
  {
   "cell_type": "code",
   "execution_count": 12,
   "id": "34492882",
   "metadata": {},
   "outputs": [],
   "source": [
    "friends.reverse()"
   ]
  },
  {
   "cell_type": "code",
   "execution_count": 13,
   "id": "e6273624",
   "metadata": {},
   "outputs": [
    {
     "data": {
      "text/plain": [
       "['범준', '수현', '찬혁', '지은', '수지', '닥터윌']"
      ]
     },
     "execution_count": 13,
     "metadata": {},
     "output_type": "execute_result"
    }
   ],
   "source": [
    "friends"
   ]
  },
  {
   "cell_type": "markdown",
   "id": "68ee53cd",
   "metadata": {},
   "source": [
    "# 2차원리스트 다루기\n",
    " - 2차원리스트 만들기 ||0열|1열|2열| |--|--|--|--| |0행|10|20|30| |1행|40|50|60|"
   ]
  },
  {
   "cell_type": "code",
   "execution_count": 14,
   "id": "66784da5",
   "metadata": {},
   "outputs": [
    {
     "name": "stdout",
     "output_type": "stream",
     "text": [
      "30\n",
      "60\n"
     ]
    }
   ],
   "source": [
    "# 리스트 만들기\n",
    "l2 = [[10,20,30],[40,50,60]]\n",
    "\n",
    "# 30 추출하기\n",
    "print(l2[0][2])\n",
    "\n",
    "# 1행 2열 추출하기\n",
    "print(l2[1][2])"
   ]
  },
  {
   "cell_type": "markdown",
   "id": "aca2f23e",
   "metadata": {},
   "source": [
    "# 연습문제 \n",
    " - 파일리스트에서 파일명과 확장자를 분리하여 다음과 같은 형태로 저장하는 리스트를 만드시오.|파일명|확장자| |--|--| |file1|py| |file2|txt| |file3|pptx|"
   ]
  },
  {
   "cell_type": "code",
   "execution_count": 15,
   "id": "0e8942eb",
   "metadata": {},
   "outputs": [
    {
     "name": "stdout",
     "output_type": "stream",
     "text": [
      "[['file1', 'py'], ['file2', 'txt'], ['file3', 'pptx']]\n"
     ]
    }
   ],
   "source": [
    "file_list = ['file1.py','file2.txt','file3.pptx']\n",
    "name_extension = []\n",
    "\n",
    "for i in file_list:\n",
    "    #print(i.split('.'))\n",
    "    name_extension.append(i.split('.'))\n",
    "\n",
    "print(name_extension)"
   ]
  },
  {
   "cell_type": "code",
   "execution_count": null,
   "id": "ca720a68",
   "metadata": {},
   "outputs": [],
   "source": []
  }
 ],
 "metadata": {
  "kernelspec": {
   "display_name": "Python 3 (ipykernel)",
   "language": "python",
   "name": "python3"
  },
  "language_info": {
   "codemirror_mode": {
    "name": "ipython",
    "version": 3
   },
   "file_extension": ".py",
   "mimetype": "text/x-python",
   "name": "python",
   "nbconvert_exporter": "python",
   "pygments_lexer": "ipython3",
   "version": "3.9.7"
  }
 },
 "nbformat": 4,
 "nbformat_minor": 5
}
