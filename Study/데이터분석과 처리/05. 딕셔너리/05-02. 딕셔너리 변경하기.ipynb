{
 "cells": [
  {
   "cell_type": "markdown",
   "id": "f3dacb50",
   "metadata": {},
   "source": [
    "# 딕셔너리 항목 추가/수정\n",
    "## 딕셔너리명[키]=값\n",
    " - 키가 존재하지 않으면 추가, 존재하면 수정된다."
   ]
  },
  {
   "cell_type": "code",
   "execution_count": 1,
   "id": "8e26f333",
   "metadata": {},
   "outputs": [
    {
     "data": {
      "text/plain": [
       "{'kor': 100, 'eng': 90, 'math': 85, ' music': 95}"
      ]
     },
     "execution_count": 1,
     "metadata": {},
     "output_type": "execute_result"
    }
   ],
   "source": [
    "scores = {'kor':100, 'eng':90, 'math':80}\n",
    "\n",
    "# math점수 85점으로 수정하기\n",
    "scores['math']=85\n",
    "\n",
    "# music점수 95점 추가하기\n",
    "scores[' music']=95\n",
    "\n",
    "scores"
   ]
  },
  {
   "cell_type": "markdown",
   "id": "301b55a5",
   "metadata": {},
   "source": [
    "## setdefault로 항목 추가하기\n",
    " - 딕셔너리명.setdefault(키,값)\n",
    " - 이미 들어있는 키의 값은 수정할 수 없다."
   ]
  },
  {
   "cell_type": "code",
   "execution_count": 2,
   "id": "4adcf4c4",
   "metadata": {},
   "outputs": [
    {
     "data": {
      "text/plain": [
       "{'kor': 100, 'eng': 90, 'math': 80, 'music': None}"
      ]
     },
     "execution_count": 2,
     "metadata": {},
     "output_type": "execute_result"
    }
   ],
   "source": [
    "scores = {'kor':100, 'eng':90, 'math':80}\n",
    "\n",
    "# music점수 넣기(key만 넣고 value를 생략하면? value에 빈값)\n",
    "scores.setdefault('music')\n",
    "\n",
    "scores"
   ]
  },
  {
   "cell_type": "code",
   "execution_count": 3,
   "id": "48d8c04c",
   "metadata": {},
   "outputs": [
    {
     "data": {
      "text/plain": [
       "{'kor': 100, 'eng': 90, 'math': 80, 'music': 90}"
      ]
     },
     "execution_count": 3,
     "metadata": {},
     "output_type": "execute_result"
    }
   ],
   "source": [
    "scores = {'kor':100, 'eng':90, 'math':80}\n",
    "\n",
    "# music점수 90점 추가\n",
    "scores.setdefault('music',90)\n",
    "\n",
    "scores"
   ]
  },
  {
   "cell_type": "code",
   "execution_count": 4,
   "id": "a51a393a",
   "metadata": {},
   "outputs": [
    {
     "data": {
      "text/plain": [
       "{'kor': 100, 'eng': 90, 'math': 80, 'music': 95}"
      ]
     },
     "execution_count": 4,
     "metadata": {},
     "output_type": "execute_result"
    }
   ],
   "source": [
    "scores = {'kor': 100, 'eng': 90, 'math': 80, 'music': 95}\n",
    "\n",
    "# music점수 85점으로 수정\n",
    "scores.setdefault('music',85) # 변경되지 않음 \n",
    "\n",
    "scores"
   ]
  },
  {
   "cell_type": "markdown",
   "id": "1fe95656",
   "metadata": {},
   "source": [
    "## update로 여러 항목 추가/수정하기\n",
    " - 키가 존재하면 수정, 존재하지 않으면 추가된다.\n",
    " - 딕셔너리명.update(키1=값1, 키1=값2,...)\n",
    " - 키에 따옴표를 하지 않지만, 딕셔너리에 들어갈 때는 따옴표가 붙어서 들어간다."
   ]
  },
  {
   "cell_type": "code",
   "execution_count": 5,
   "id": "4531760d",
   "metadata": {},
   "outputs": [
    {
     "data": {
      "text/plain": [
       "{'kor': 100, 'eng': 90, 'math': 90, 'music': 90}"
      ]
     },
     "execution_count": 5,
     "metadata": {},
     "output_type": "execute_result"
    }
   ],
   "source": [
    "scores = {'kor':100, 'eng':90, 'math':80}\n",
    "\n",
    "# math:90, music:90\n",
    "scores.update(math=90, music=90)\n",
    "\n",
    "scores"
   ]
  },
  {
   "cell_type": "markdown",
   "id": "24a074f9",
   "metadata": {},
   "source": [
    " - 딕셔너리명.update(zip(key리스트, value리스트)"
   ]
  },
  {
   "cell_type": "code",
   "execution_count": 6,
   "id": "4445990a",
   "metadata": {},
   "outputs": [
    {
     "data": {
      "text/plain": [
       "{'kor': 100, 'eng': 90, 'math': 90, 'music': 90}"
      ]
     },
     "execution_count": 6,
     "metadata": {},
     "output_type": "execute_result"
    }
   ],
   "source": [
    "scores = {'kor':100, 'eng':90, 'math':80}\n",
    "\n",
    "# math:90, music:90\n",
    "scores.update(zip(['math','music'],[90,90]))\n",
    "\n",
    "scores"
   ]
  },
  {
   "cell_type": "markdown",
   "id": "b13bf785",
   "metadata": {},
   "source": [
    " - 딕셔너리명.update(zip(key리스트, value리스트)"
   ]
  },
  {
   "cell_type": "code",
   "execution_count": 7,
   "id": "c02ba53a",
   "metadata": {},
   "outputs": [
    {
     "data": {
      "text/plain": [
       "{'kor': 100, 'eng': 90, 'math': 90, 'music': 90}"
      ]
     },
     "execution_count": 7,
     "metadata": {},
     "output_type": "execute_result"
    }
   ],
   "source": [
    "scores = {'kor':100, 'eng':90, 'math':80}\n",
    "\n",
    "# math:90, music:90\n",
    "scores.update({'math': 90, 'music': 90})\n",
    "    \n",
    "scores"
   ]
  },
  {
   "cell_type": "markdown",
   "id": "c0d53ad7",
   "metadata": {},
   "source": [
    "## 딕셔너리에서 항목 삭제하기\n",
    "## del 딕셔너리명[키]\n",
    " - 해당 키의 항목 삭제"
   ]
  },
  {
   "cell_type": "code",
   "execution_count": 8,
   "id": "7e78f51a",
   "metadata": {},
   "outputs": [
    {
     "data": {
      "text/plain": [
       "{'eng': 90, 'math': 80}"
      ]
     },
     "execution_count": 8,
     "metadata": {},
     "output_type": "execute_result"
    }
   ],
   "source": [
    "scores = {'kor':100, 'eng':90, 'math':80}\n",
    "\n",
    "# 키가 'kor'인 항목 삭제\n",
    "del scores['kor']\n",
    "\n",
    "scores"
   ]
  },
  {
   "cell_type": "markdown",
   "id": "8d363fb8",
   "metadata": {},
   "source": [
    "## 딕셔너리명.pop(키, 기본값)\n",
    " - 해당 키의 항목(값) 반환하고 삭제"
   ]
  },
  {
   "cell_type": "code",
   "execution_count": 11,
   "id": "24254553",
   "metadata": {},
   "outputs": [
    {
     "name": "stdout",
     "output_type": "stream",
     "text": [
      "100\n",
      "{'eng': 90, 'math': 80}\n"
     ]
    }
   ],
   "source": [
    "scores = {'kor':100, 'eng':90, 'math':80}\n",
    "\n",
    "# 키가 'kor'인 항목의 값 받아온 후 삭제\n",
    "kor = scores.pop('kor')\n",
    "\n",
    "print(kor)\n",
    "print(scores)"
   ]
  },
  {
   "cell_type": "markdown",
   "id": "80b5242d",
   "metadata": {},
   "source": [
    " - 해당 키의 항목 반환하고 삭제(키가 존재하지 않을 때 기본값 반환)"
   ]
  },
  {
   "cell_type": "code",
   "execution_count": 12,
   "id": "51736e1b",
   "metadata": {},
   "outputs": [
    {
     "name": "stdout",
     "output_type": "stream",
     "text": [
      "x\n",
      "{'kor': 100, 'eng': 90, 'math': 80}\n"
     ]
    }
   ],
   "source": [
    "scores = {'kor':100, 'eng':90, 'math':80}\n",
    "\n",
    "# 키가 'music'인 항목의 값 받아온 후 삭제(삭제할 키가 존재하지 않는 경우)\n",
    "music = scores.pop('music','x')\n",
    "\n",
    "\n",
    "print(music)\n",
    "print(scores)  # 기본값 반환 "
   ]
  },
  {
   "cell_type": "markdown",
   "id": "fcf81c45",
   "metadata": {},
   "source": [
    "## 딕셔너리명.clear()\n",
    " - 딕셔너리의 모든 항목 삭제"
   ]
  },
  {
   "cell_type": "code",
   "execution_count": 13,
   "id": "e80be6bb",
   "metadata": {},
   "outputs": [
    {
     "name": "stdout",
     "output_type": "stream",
     "text": [
      "{}\n"
     ]
    }
   ],
   "source": [
    "scores = {'kor':100, 'eng':90, 'math':80}\n",
    "\n",
    "scores.clear()\n",
    "print(scores)"
   ]
  }
 ],
 "metadata": {
  "kernelspec": {
   "display_name": "Python 3 (ipykernel)",
   "language": "python",
   "name": "python3"
  },
  "language_info": {
   "codemirror_mode": {
    "name": "ipython",
    "version": 3
   },
   "file_extension": ".py",
   "mimetype": "text/x-python",
   "name": "python",
   "nbconvert_exporter": "python",
   "pygments_lexer": "ipython3",
   "version": "3.9.7"
  }
 },
 "nbformat": 4,
 "nbformat_minor": 5
}
