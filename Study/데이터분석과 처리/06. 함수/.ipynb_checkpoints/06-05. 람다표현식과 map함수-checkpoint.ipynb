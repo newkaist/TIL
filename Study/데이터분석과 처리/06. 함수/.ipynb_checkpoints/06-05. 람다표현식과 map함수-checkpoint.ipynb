{
 "cells": [
  {
   "cell_type": "markdown",
   "id": "4385d8a1",
   "metadata": {},
   "source": [
    "## 람다표현식\n",
    "- lambda 매개변수1, 매개변수2, ... : 수식\n",
    "- 식 형태로 되어있어서 람다표현식(lambda experssion)이라고 부른다.\n",
    "- 람다표현식은 이름이 없는 익명함수이다."
   ]
  },
  {
   "cell_type": "code",
   "execution_count": 1,
   "id": "54bbac8a",
   "metadata": {},
   "outputs": [
    {
     "data": {
      "text/plain": [
       "3"
      ]
     },
     "execution_count": 1,
     "metadata": {},
     "output_type": "execute_result"
    }
   ],
   "source": [
    "# 두 수를 매개변수로 받아 더한 결과를 리턴하는 함수\n",
    "def get_plus(n1, n2):\n",
    "    return n1+n2\n",
    "\n",
    "get_plus(1,2)"
   ]
  },
  {
   "cell_type": "code",
   "execution_count": 2,
   "id": "14b80a00",
   "metadata": {},
   "outputs": [
    {
     "data": {
      "text/plain": [
       "3"
      ]
     },
     "execution_count": 2,
     "metadata": {},
     "output_type": "execute_result"
    }
   ],
   "source": [
    "# 람다표현식으로 만들기\n",
    "lambda n1,n2:n1+n2\n",
    "\n",
    "# 람다표현식 사용하기\n",
    "(lambda n1,n2:n1+n2)(1,2)"
   ]
  },
  {
   "cell_type": "code",
   "execution_count": 3,
   "id": "da504f5c",
   "metadata": {},
   "outputs": [
    {
     "name": "stdout",
     "output_type": "stream",
     "text": [
      "3\n",
      "8\n"
     ]
    }
   ],
   "source": [
    "# 람다표현식을 프로그램 내에서 재사용하고 싶다면, 람다표현식을 변수에 담아서 사용한다.\n",
    "lambda_plus = lambda n1,n2:n1+n2\n",
    "\n",
    "# 변수로 람다표현식 담아 호출하기\n",
    "\n",
    "print(lambda_plus(1,2))\n",
    "print(lambda_plus(3,5))"
   ]
  },
  {
   "cell_type": "markdown",
   "id": "d1bb266b",
   "metadata": {},
   "source": [
    "## map함수\n",
    "- map은 리스트나 튜플의 각 요소를 지정된 함수로 처리해주는 함수이다.\n",
    "- 원본리스트를 변경하지 않고 새 리스트를 생성한다.\n",
    "- list(map(함수, 리스트))\n",
    "- tuple(map(함수, 튜플))"
   ]
  },
  {
   "cell_type": "code",
   "execution_count": 4,
   "id": "990d2044",
   "metadata": {},
   "outputs": [
    {
     "name": "stdout",
     "output_type": "stream",
     "text": [
      "['1', '2', '3', '4']\n",
      "[1, 2, 3, 4]\n"
     ]
    }
   ],
   "source": [
    "# map함수를 이용하여 리스트 a의 각 요소를 정수화 하여 새로운 리스트로 만들기\n",
    "a = ['1', '2', '3', '4']\n",
    "b = list(map(int,a))\n",
    "\n",
    "print(a)\n",
    "print(b)"
   ]
  },
  {
   "cell_type": "markdown",
   "id": "270d17bd",
   "metadata": {},
   "source": [
    "## map함수에 람다표현식 사용하기"
   ]
  },
  {
   "cell_type": "code",
   "execution_count": 5,
   "id": "53f76b46",
   "metadata": {},
   "outputs": [
    {
     "name": "stdout",
     "output_type": "stream",
     "text": [
      "[1, 2, 3, 4, 5]\n",
      "[2, 3, 4, 5, 6]\n"
     ]
    }
   ],
   "source": [
    "# 아래 리스트 l1에 1을 더한 l2 리스트 만들기\n",
    "l1 = [1,2,3,4,5]\n",
    "l2 = list(map((lambda x:x+1),l1))\n",
    "print(l1)\n",
    "print(l2)"
   ]
  },
  {
   "cell_type": "markdown",
   "id": "fb00c656",
   "metadata": {},
   "source": [
    "## 람다표현식에 조건부표현식 사용하기\n",
    "- lambda 매개변수들:식1 if 조건식 else 식2"
   ]
  },
  {
   "cell_type": "code",
   "execution_count": 6,
   "id": "2e4df2e3",
   "metadata": {},
   "outputs": [
    {
     "data": {
      "text/plain": [
       "['1', 2.0, '3', 4.0, '5', 6.0, '7', 8.0, '9', 10.0]"
      ]
     },
     "execution_count": 6,
     "metadata": {},
     "output_type": "execute_result"
    }
   ],
   "source": [
    "# 아래 리스트에서 짝수는 float로 바꾸고, 홀수는 str로 바꾸기\n",
    "l1 = [1,2,3,4,5,6,7,8,9,10]\n",
    "\n",
    "list(map((lambda x:float(x) if x%2==0 else str(x)),l1))"
   ]
  },
  {
   "cell_type": "code",
   "execution_count": null,
   "id": "a48c1130",
   "metadata": {},
   "outputs": [],
   "source": []
  }
 ],
 "metadata": {
  "kernelspec": {
   "display_name": "Python 3 (ipykernel)",
   "language": "python",
   "name": "python3"
  },
  "language_info": {
   "codemirror_mode": {
    "name": "ipython",
    "version": 3
   },
   "file_extension": ".py",
   "mimetype": "text/x-python",
   "name": "python",
   "nbconvert_exporter": "python",
   "pygments_lexer": "ipython3",
   "version": "3.9.7"
  }
 },
 "nbformat": 4,
 "nbformat_minor": 5
}
