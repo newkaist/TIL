{
 "cells": [
  {
   "cell_type": "markdown",
   "id": "64c882a5",
   "metadata": {},
   "source": [
    "# 학생별 총점,평균 구하기\n",
    " - 다음은 학생 별 [국어,영어,수학]점수가 저장된 리스트이다.  \n",
    "   score_list = [[96,84,80],[96,86,76],[76,95,83],[89,96,69],[90,76,91]]  \n",
    "   각 학생의 세 과목의 성적의 [총점, 평균]을 구하여 리스트에 담으시오.  \n",
    "   (평균은 반올림하여 소수점 1자리까지 표현한다.)"
   ]
  },
  {
   "cell_type": "code",
   "execution_count": 2,
   "id": "583e6882",
   "metadata": {},
   "outputs": [],
   "source": [
    "score_list = [[96,84,80],[96,86,76],[76,95,83],[89,96,69],[90,76,91]]"
   ]
  },
  {
   "cell_type": "code",
   "execution_count": 5,
   "id": "430c1f92",
   "metadata": {},
   "outputs": [],
   "source": [
    "score_sum =[]"
   ]
  },
  {
   "cell_type": "code",
   "execution_count": 8,
   "id": "ea460e5c",
   "metadata": {},
   "outputs": [],
   "source": [
    "for i in score_list:\n",
    "    total=sum(i)\n",
    "    average=total/3\n",
    "    score_sum.append([total,round(average,1)])"
   ]
  },
  {
   "cell_type": "code",
   "execution_count": 9,
   "id": "c990294f",
   "metadata": {},
   "outputs": [
    {
     "data": {
      "text/plain": [
       "[[260, 86.7], [258, 86.0], [254, 84.7], [254, 84.7], [257, 85.7]]"
      ]
     },
     "execution_count": 9,
     "metadata": {},
     "output_type": "execute_result"
    }
   ],
   "source": [
    "score_sum"
   ]
  },
  {
   "cell_type": "markdown",
   "id": "e839116a",
   "metadata": {},
   "source": [
    "# 과목별 평균 구하기\n",
    " - 다음은 학생 별 [국어,영어,수학]점수가 저장된 리스트이다.  \n",
    "   score_list = [[96,84,80],[96,86,76],[76,95,83],[89,96,69],[90,76,91]]  \n",
    "   각 과목의 리스트를 분리하고 과목별 평균을 구해봅시다. 평균은 소수점 1자리까지 출력한다."
   ]
  },
  {
   "cell_type": "code",
   "execution_count": 10,
   "id": "0b8db14f",
   "metadata": {},
   "outputs": [
    {
     "name": "stdout",
     "output_type": "stream",
     "text": [
      "kor_list: [96, 96, 76, 89, 90]\n",
      "eng_list: [84, 86, 95, 96, 76]\n",
      "math_list: [80, 76, 83, 69, 91]\n",
      "kor_average: 89.4\n",
      "eng_average: 87.4\n",
      "math_average: 79.8\n"
     ]
    }
   ],
   "source": [
    "score_list = [[96,84,80],[96,86,76],[76,95,83],[89,96,69],[90,76,91]]\n",
    "kor_list=[]\n",
    "eng_list=[]\n",
    "math_list=[]\n",
    "\n",
    "kor_average=0\n",
    "eng_average=0\n",
    "math_average=0\n",
    "\n",
    "#각 과목의 리스트 분리하기\n",
    "for i in score_list:\n",
    "    #print(i)\n",
    "    kor_list.append(i[0])\n",
    "    eng_list.append(i[1])\n",
    "    math_list.append(i[2])\n",
    "\n",
    "print('kor_list:',kor_list)\n",
    "print('eng_list:',eng_list)\n",
    "print('math_list:',math_list)\n",
    "\n",
    "kor_average = sum(kor_list)/len(kor_list)\n",
    "eng_average = sum(eng_list)/len(eng_list)\n",
    "math_average = sum(math_list)/len(math_list)\n",
    "\n",
    "print('kor_average:',round(kor_average,1))\n",
    "print('eng_average:',round(eng_average,1))\n",
    "print('math_average:',round(math_average,1))"
   ]
  },
  {
   "cell_type": "markdown",
   "id": "a1b38d48",
   "metadata": {},
   "source": [
    "# 랜덤 항목 추출하기\n",
    " - random.choice(리스트명)"
   ]
  },
  {
   "cell_type": "code",
   "execution_count": 11,
   "id": "c53fc436",
   "metadata": {},
   "outputs": [
    {
     "name": "stdout",
     "output_type": "stream",
     "text": [
      "오늘은 뭘먹지?\n"
     ]
    }
   ],
   "source": [
    "menulist = ['한식','일식','중식','양식','분식','이탈리아식']\n",
    "print('오늘은 뭘먹지?')"
   ]
  },
  {
   "cell_type": "code",
   "execution_count": 12,
   "id": "9818d7d4",
   "metadata": {},
   "outputs": [
    {
     "data": {
      "text/plain": [
       "'이탈리아식'"
      ]
     },
     "execution_count": 12,
     "metadata": {},
     "output_type": "execute_result"
    }
   ],
   "source": [
    "import random\n",
    "random.choice(menulist)"
   ]
  },
  {
   "cell_type": "markdown",
   "id": "16ec7f8e",
   "metadata": {},
   "source": [
    "- 메뉴를 입력받아 랜덤으로 메뉴를 정하는 프로그램을 작성해봅시다.\n",
    "공백('')을 입력할 때까지 메뉴를 입력받습니다."
   ]
  },
  {
   "cell_type": "code",
   "execution_count": 13,
   "id": "28ccccf1",
   "metadata": {},
   "outputs": [
    {
     "name": "stdout",
     "output_type": "stream",
     "text": [
      "메뉴:중식\n",
      "메뉴:일식\n",
      "메뉴:양식\n",
      "메뉴:한식\n",
      "메뉴:\n",
      "오늘의 메뉴는: 중식\n"
     ]
    }
   ],
   "source": [
    "menulist = []\n",
    "while True:\n",
    "    menu = input('메뉴:')\n",
    "    if menu=='':\n",
    "        break\n",
    "    menulist.append(menu)\n",
    "\n",
    "print('오늘의 메뉴는:',random.choice(menulist))"
   ]
  },
  {
   "cell_type": "code",
   "execution_count": null,
   "id": "d635c616",
   "metadata": {},
   "outputs": [],
   "source": []
  }
 ],
 "metadata": {
  "kernelspec": {
   "display_name": "Python 3 (ipykernel)",
   "language": "python",
   "name": "python3"
  },
  "language_info": {
   "codemirror_mode": {
    "name": "ipython",
    "version": 3
   },
   "file_extension": ".py",
   "mimetype": "text/x-python",
   "name": "python",
   "nbconvert_exporter": "python",
   "pygments_lexer": "ipython3",
   "version": "3.9.7"
  }
 },
 "nbformat": 4,
 "nbformat_minor": 5
}
