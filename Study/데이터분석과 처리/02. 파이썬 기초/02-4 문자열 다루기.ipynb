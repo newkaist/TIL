{
 "cells": [
  {
   "cell_type": "markdown",
   "id": "acc40904",
   "metadata": {},
   "source": [
    "# 문자열 인덱싱\n",
    "\n",
    "- 양수 인덱스 사용하기"
   ]
  },
  {
   "cell_type": "code",
   "execution_count": 1,
   "id": "15e207bf",
   "metadata": {},
   "outputs": [
    {
     "name": "stdout",
     "output_type": "stream",
     "text": [
      "H\n",
      "W\n",
      "d\n"
     ]
    }
   ],
   "source": [
    "a = 'Hello World'\n",
    "\n",
    "# 'H' 출력하기\n",
    "print(a[0])\n",
    "\n",
    "# 'W' 출력하기\n",
    "print(a[6])\n",
    "\n",
    "# 'd' 출력하기\n",
    "print(a[10])"
   ]
  },
  {
   "cell_type": "markdown",
   "id": "9dd401b2",
   "metadata": {},
   "source": [
    "- 음수 인덱스 사용하기"
   ]
  },
  {
   "cell_type": "code",
   "execution_count": 2,
   "id": "54d10c82",
   "metadata": {},
   "outputs": [
    {
     "name": "stdout",
     "output_type": "stream",
     "text": [
      "H\n",
      "W\n",
      "d\n"
     ]
    }
   ],
   "source": [
    "a = 'Hello World'\n",
    "\n",
    "# 'H' 출력하기\n",
    "print(a[-11])\n",
    "\n",
    "# 'W' 출력하기\n",
    "print(a[-5])\n",
    "\n",
    "# 'd' 출력하기\n",
    "print(a[-1])"
   ]
  },
  {
   "cell_type": "markdown",
   "id": "ac9ca884",
   "metadata": {},
   "source": [
    "- 범위 밖의 인덱스를 사용하면?"
   ]
  },
  {
   "cell_type": "code",
   "execution_count": 3,
   "id": "e137a8f8",
   "metadata": {},
   "outputs": [
    {
     "ename": "IndexError",
     "evalue": "string index out of range",
     "output_type": "error",
     "traceback": [
      "\u001b[1;31m---------------------------------------------------------------------------\u001b[0m",
      "\u001b[1;31mIndexError\u001b[0m                                Traceback (most recent call last)",
      "\u001b[1;32m~\\AppData\\Local\\Temp/ipykernel_10080/1679648891.py\u001b[0m in \u001b[0;36m<module>\u001b[1;34m\u001b[0m\n\u001b[0;32m      1\u001b[0m \u001b[0ma\u001b[0m \u001b[1;33m=\u001b[0m \u001b[1;34m'Hello World'\u001b[0m\u001b[1;33m\u001b[0m\u001b[1;33m\u001b[0m\u001b[0m\n\u001b[1;32m----> 2\u001b[1;33m \u001b[0mprint\u001b[0m\u001b[1;33m(\u001b[0m\u001b[0ma\u001b[0m\u001b[1;33m[\u001b[0m\u001b[1;36m11\u001b[0m\u001b[1;33m]\u001b[0m\u001b[1;33m)\u001b[0m\u001b[1;33m\u001b[0m\u001b[1;33m\u001b[0m\u001b[0m\n\u001b[0m",
      "\u001b[1;31mIndexError\u001b[0m: string index out of range"
     ]
    }
   ],
   "source": [
    "a = 'Hello World'\n",
    "print(a[11])\n"
   ]
  },
  {
   "cell_type": "code",
   "execution_count": 4,
   "id": "ef32174a",
   "metadata": {},
   "outputs": [
    {
     "ename": "IndexError",
     "evalue": "string index out of range",
     "output_type": "error",
     "traceback": [
      "\u001b[1;31m---------------------------------------------------------------------------\u001b[0m",
      "\u001b[1;31mIndexError\u001b[0m                                Traceback (most recent call last)",
      "\u001b[1;32m~\\AppData\\Local\\Temp/ipykernel_10080/2201501043.py\u001b[0m in \u001b[0;36m<module>\u001b[1;34m\u001b[0m\n\u001b[0;32m      1\u001b[0m \u001b[0ma\u001b[0m \u001b[1;33m=\u001b[0m \u001b[1;34m'Hello World'\u001b[0m\u001b[1;33m\u001b[0m\u001b[1;33m\u001b[0m\u001b[0m\n\u001b[1;32m----> 2\u001b[1;33m \u001b[0mprint\u001b[0m\u001b[1;33m(\u001b[0m\u001b[0ma\u001b[0m\u001b[1;33m[\u001b[0m\u001b[1;33m-\u001b[0m\u001b[1;36m12\u001b[0m\u001b[1;33m]\u001b[0m\u001b[1;33m)\u001b[0m\u001b[1;33m\u001b[0m\u001b[1;33m\u001b[0m\u001b[0m\n\u001b[0m",
      "\u001b[1;31mIndexError\u001b[0m: string index out of range"
     ]
    }
   ],
   "source": [
    "a = 'Hello World'\n",
    "print(a[-12])"
   ]
  },
  {
   "cell_type": "markdown",
   "id": "0ecb9027",
   "metadata": {},
   "source": [
    "# 문자열 슬라이싱\n",
    "\n",
    "- 양수 인덱스로 슬라이싱"
   ]
  },
  {
   "cell_type": "code",
   "execution_count": 5,
   "id": "c587465d",
   "metadata": {},
   "outputs": [
    {
     "name": "stdout",
     "output_type": "stream",
     "text": [
      "Hello\n",
      "World\n"
     ]
    }
   ],
   "source": [
    "a = 'Hello World'\n",
    "# 'Hello' 출력하기\n",
    "print(a[0:5])\n",
    "\n",
    "# 'World' 출력하기\n",
    "print(a[6:11])"
   ]
  },
  {
   "cell_type": "markdown",
   "id": "a7ee1e72",
   "metadata": {},
   "source": [
    "- 음수 인덱스로 슬라이싱"
   ]
  },
  {
   "cell_type": "code",
   "execution_count": 6,
   "id": "1ee3f0f8",
   "metadata": {},
   "outputs": [
    {
     "name": "stdout",
     "output_type": "stream",
     "text": [
      "Hello\n",
      "World\n"
     ]
    }
   ],
   "source": [
    "a = 'Hello World'\n",
    "\n",
    "# 'Hello' 출력하기\n",
    "print(a[-11:-6])\n",
    "\n",
    "# 'World' 출력하기\n",
    "print(a[-5:])"
   ]
  },
  {
   "cell_type": "markdown",
   "id": "c837efa6",
   "metadata": {},
   "source": [
    "- 첫번째와 마지막 인덱스는 생략 가능"
   ]
  },
  {
   "cell_type": "code",
   "execution_count": 7,
   "id": "556065a2",
   "metadata": {},
   "outputs": [
    {
     "name": "stdout",
     "output_type": "stream",
     "text": [
      "Hello\n",
      "World\n",
      "Hello World\n"
     ]
    }
   ],
   "source": [
    "a = 'Hello World'\n",
    "\n",
    "# 'Hello'\n",
    "print(a[:5])\n",
    "\n",
    "# 'World'\n",
    "print(a[6:])\n",
    "\n",
    "# 'Hello World'\n",
    "print(a[:])"
   ]
  },
  {
   "cell_type": "markdown",
   "id": "48ad82de",
   "metadata": {},
   "source": [
    "- 한문자씩 건너뛰어 출력하기"
   ]
  },
  {
   "cell_type": "code",
   "execution_count": 11,
   "id": "e9ae646d",
   "metadata": {},
   "outputs": [
    {
     "name": "stdout",
     "output_type": "stream",
     "text": [
      "Hello World\n",
      "HloWrd\n"
     ]
    }
   ],
   "source": [
    "a = 'Hello World'\n",
    "print(a[:])   # a[:] 전체 문자열 \n",
    "print(a[::2])  # a[::2] 간격을 2씩 (한 문자씩 건너 뛰어)"
   ]
  },
  {
   "cell_type": "markdown",
   "id": "3a365ae9",
   "metadata": {},
   "source": [
    "- 역순으로 출력하기\n",
    "\n",
    "  :간격을 마이너스(-)로 하면 역순으로 출력된다."
   ]
  },
  {
   "cell_type": "code",
   "execution_count": 12,
   "id": "d5df56e4",
   "metadata": {},
   "outputs": [
    {
     "name": "stdout",
     "output_type": "stream",
     "text": [
      "dlroW olleH\n"
     ]
    }
   ],
   "source": [
    "a = 'Hello World'\n",
    "print(a[::-1])"
   ]
  },
  {
   "cell_type": "markdown",
   "id": "65f7ffe9",
   "metadata": {},
   "source": [
    "# 문자열 함수\n",
    "문자열 교체하기\n",
    "- 문자열.replace(찾을문자열, 교체할문자열)"
   ]
  },
  {
   "cell_type": "code",
   "execution_count": 14,
   "id": "091f5d15",
   "metadata": {},
   "outputs": [
    {
     "name": "stdout",
     "output_type": "stream",
     "text": [
      "나는 딸기우유 좋아. 딸기우유 최고\n"
     ]
    }
   ],
   "source": [
    "a = '나는 초코우유 좋아. 초코우유 최고'\n",
    "\n",
    "# '초코'-->'딸기'로 교체\n",
    "print(a.replace('초코','딸기'))"
   ]
  },
  {
   "cell_type": "markdown",
   "id": "e37c7784",
   "metadata": {},
   "source": [
    "# 문자의 위치 찾기\n",
    "- 문자열.find(문자)"
   ]
  },
  {
   "cell_type": "code",
   "execution_count": 15,
   "id": "eb8ef6dc",
   "metadata": {},
   "outputs": [
    {
     "name": "stdout",
     "output_type": "stream",
     "text": [
      "1\n",
      "2\n"
     ]
    }
   ],
   "source": [
    "a = 'Hello, Python!!!'\n",
    "\n",
    "# 'e'의 위치 찾기\n",
    "print(a.find('e'))\n",
    "\n",
    "# 'l'의 위치 찾기\n",
    "print(a.find('l'))"
   ]
  },
  {
   "cell_type": "markdown",
   "id": "6757504c",
   "metadata": {},
   "source": [
    "#소문자로 변환하기\n",
    "- *문자열.lower()"
   ]
  },
  {
   "cell_type": "code",
   "execution_count": 16,
   "id": "4cb367ac",
   "metadata": {},
   "outputs": [
    {
     "data": {
      "text/plain": [
       "'hello, python!!!'"
      ]
     },
     "execution_count": 16,
     "metadata": {},
     "output_type": "execute_result"
    }
   ],
   "source": [
    "a = 'Hello, Python!!!'\n",
    "a.lower()"
   ]
  },
  {
   "cell_type": "markdown",
   "id": "c4618ea9",
   "metadata": {},
   "source": [
    "# 대문자로 변환하기\n",
    "- *문자열.upper()"
   ]
  },
  {
   "cell_type": "code",
   "execution_count": 17,
   "id": "0b3e0a17",
   "metadata": {},
   "outputs": [
    {
     "data": {
      "text/plain": [
       "'HELLO, PYTHON!!!'"
      ]
     },
     "execution_count": 17,
     "metadata": {},
     "output_type": "execute_result"
    }
   ],
   "source": [
    "a = 'Hello, Python!!!'\n",
    "a.upper()"
   ]
  },
  {
   "cell_type": "markdown",
   "id": "db70ad6c",
   "metadata": {},
   "source": [
    "# 문자열 나누기\n",
    "- *문자열.split(구분자)"
   ]
  },
  {
   "cell_type": "code",
   "execution_count": 18,
   "id": "7a791c7d",
   "metadata": {},
   "outputs": [
    {
     "data": {
      "text/plain": [
       "['010', '123', '4567']"
      ]
     },
     "execution_count": 18,
     "metadata": {},
     "output_type": "execute_result"
    }
   ],
   "source": [
    "phone = '010-123-4567'\n",
    "phone.split('-')"
   ]
  },
  {
   "cell_type": "code",
   "execution_count": 19,
   "id": "06d2807f",
   "metadata": {},
   "outputs": [
    {
     "data": {
      "text/plain": [
       "['drwill', 'naver.com']"
      ]
     },
     "execution_count": 19,
     "metadata": {},
     "output_type": "execute_result"
    }
   ],
   "source": [
    "email = 'drwill@naver.com'\n",
    "email.split('@')"
   ]
  },
  {
   "cell_type": "markdown",
   "id": "91463200",
   "metadata": {},
   "source": [
    "# 연습문제\n",
    "- 사용자의 영문 이름을 입력받아 성과 이름 순서를 바꾸어서 출력하는 프로그램을 작성하세요.\n",
    " 성과 이름은 공백으로 구분합니다."
   ]
  },
  {
   "cell_type": "code",
   "execution_count": 24,
   "id": "64505c20",
   "metadata": {},
   "outputs": [
    {
     "name": "stdout",
     "output_type": "stream",
     "text": [
      "영문이름(성과 이름은 공백으로 구분하세요):lee takhyoung\n",
      "3\n",
      "lee\n",
      "takhyoung\n",
      "takhyoung lee\n"
     ]
    }
   ],
   "source": [
    "# 사용자의 영문이름 입력받기 (성과 이름은 공백으로 구분)\n",
    "full_name = input('영문이름(성과 이름은 공백으로 구분하세요):')\n",
    "\n",
    "# 공백의 위치 찾기\n",
    "space = full_name.find(' ')\n",
    "print(space)\n",
    "# 성, 이름을 슬라이싱하여 각각 변수에 담기\n",
    "first_name = full_name[:space]\n",
    "last_name = full_name[space+1:]\n",
    "\n",
    "print(first_name)\n",
    "print(last_name)\n",
    "\n",
    "# 성, 이름의 순서를 바꾸어 출력하기\n",
    "print(last_name, first_name)"
   ]
  }
 ],
 "metadata": {
  "kernelspec": {
   "display_name": "Python 3 (ipykernel)",
   "language": "python",
   "name": "python3"
  },
  "language_info": {
   "codemirror_mode": {
    "name": "ipython",
    "version": 3
   },
   "file_extension": ".py",
   "mimetype": "text/x-python",
   "name": "python",
   "nbconvert_exporter": "python",
   "pygments_lexer": "ipython3",
   "version": "3.9.7"
  }
 },
 "nbformat": 4,
 "nbformat_minor": 5
}
