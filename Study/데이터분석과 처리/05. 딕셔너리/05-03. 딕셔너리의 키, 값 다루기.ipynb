{
 "cells": [
  {
   "cell_type": "markdown",
   "id": "5e2dffca",
   "metadata": {},
   "source": [
    "# 딕셔너리의 키, 값 모두 리스트 형태로 가져오기\n",
    "## 딕셔너리명.keys()\n",
    " - 딕셔너리의 키만 리스트로 가져오기\n",
    " - dict_keys객체로 받아온다. 리스트처럼 사용할 수 있지만 리스트는 아니다."
   ]
  },
  {
   "cell_type": "code",
   "execution_count": 1,
   "id": "7b852bdc",
   "metadata": {},
   "outputs": [
    {
     "data": {
      "text/plain": [
       "dict_keys(['kor', 'eng', 'math'])"
      ]
     },
     "execution_count": 1,
     "metadata": {},
     "output_type": "execute_result"
    }
   ],
   "source": [
    "scores = {'kor':100, 'eng':90, 'math':80}\n",
    "scores.keys()"
   ]
  },
  {
   "cell_type": "markdown",
   "id": "e6f77fea",
   "metadata": {},
   "source": [
    "## 딕셔너리명.values()\n",
    " - 딕셔너리의 value만 리스트로 가져오기\n",
    " - dict_values객체로 받아온다."
   ]
  },
  {
   "cell_type": "code",
   "execution_count": 5,
   "id": "64fae013",
   "metadata": {},
   "outputs": [
    {
     "data": {
      "text/plain": [
       "dict_values([100, 90, 80])"
      ]
     },
     "execution_count": 5,
     "metadata": {},
     "output_type": "execute_result"
    }
   ],
   "source": [
    "scores = {'kor':100, 'eng':90, 'math':80}\n",
    "scores.values()"
   ]
  },
  {
   "cell_type": "markdown",
   "id": "126ce5f1",
   "metadata": {},
   "source": [
    "## 딕셔너리명.items()\n",
    " - 딕셔너리의 (key,value) 쌍을 리스트로 가져오기\n",
    " - dict_items객체로 받아온다."
   ]
  },
  {
   "cell_type": "code",
   "execution_count": 6,
   "id": "3ef77d2c",
   "metadata": {},
   "outputs": [
    {
     "data": {
      "text/plain": [
       "dict_items([('kor', 100), ('eng', 90), ('math', 80)])"
      ]
     },
     "execution_count": 6,
     "metadata": {},
     "output_type": "execute_result"
    }
   ],
   "source": [
    "scores = {'kor':100, 'eng':90, 'math':80}\n",
    "scores.items()"
   ]
  },
  {
   "cell_type": "markdown",
   "id": "9eb08134",
   "metadata": {},
   "source": [
    "## for문으로 딕셔너리 출력하기\n",
    "## for문으로 딕셔너리의 키만 출력하기"
   ]
  },
  {
   "cell_type": "code",
   "execution_count": 7,
   "id": "b9e81c2f",
   "metadata": {},
   "outputs": [
    {
     "name": "stdout",
     "output_type": "stream",
     "text": [
      "kor\n",
      "eng\n",
      "math\n"
     ]
    }
   ],
   "source": [
    "scores = {'kor':100, 'eng':90, 'math':80}\n",
    "\n",
    "for i in scores.keys():\n",
    "    print(i)"
   ]
  },
  {
   "cell_type": "code",
   "execution_count": 8,
   "id": "3c4cfcad",
   "metadata": {},
   "outputs": [
    {
     "name": "stdout",
     "output_type": "stream",
     "text": [
      "kor\n",
      "eng\n",
      "math\n"
     ]
    }
   ],
   "source": [
    "# 딕셔너리로 for문 돌리기\n",
    "for i in scores:\n",
    "    print(i)"
   ]
  },
  {
   "cell_type": "markdown",
   "id": "2b0c5829",
   "metadata": {},
   "source": [
    "## for문으로 딕셔너리의 value만 출력하기"
   ]
  },
  {
   "cell_type": "code",
   "execution_count": 10,
   "id": "716dec0c",
   "metadata": {},
   "outputs": [
    {
     "name": "stdout",
     "output_type": "stream",
     "text": [
      "100\n",
      "90\n",
      "80\n"
     ]
    }
   ],
   "source": [
    "scores = {'kor':100, 'eng':90, 'math':80}\n",
    "for i in scores.values():\n",
    "    print(i)"
   ]
  },
  {
   "cell_type": "markdown",
   "id": "ce68d05d",
   "metadata": {},
   "source": [
    "## for문으로 딕셔너리의 key, value 출력하기"
   ]
  },
  {
   "cell_type": "code",
   "execution_count": 11,
   "id": "c1236f5a",
   "metadata": {},
   "outputs": [
    {
     "name": "stdout",
     "output_type": "stream",
     "text": [
      "('kor', 100)\n",
      "('eng', 90)\n",
      "('math', 80)\n"
     ]
    }
   ],
   "source": [
    "scores = {'kor':100, 'eng':90, 'math':80}\n",
    "for i in scores.items():\n",
    "    print(i)"
   ]
  },
  {
   "cell_type": "code",
   "execution_count": 14,
   "id": "96ca38e3",
   "metadata": {},
   "outputs": [
    {
     "name": "stdout",
     "output_type": "stream",
     "text": [
      "kor 100\n",
      "eng 90\n",
      "math 80\n"
     ]
    }
   ],
   "source": [
    "scores = {'kor':100, 'eng':90, 'math':80}\n",
    "for k,v in scores.items():\n",
    "    print(k,v)"
   ]
  },
  {
   "cell_type": "markdown",
   "id": "ef69d02f",
   "metadata": {},
   "source": [
    "# 딕셔너리 정렬하기\n",
    "## 키 정렬하기"
   ]
  },
  {
   "cell_type": "code",
   "execution_count": 15,
   "id": "6e6c585f",
   "metadata": {},
   "outputs": [
    {
     "data": {
      "text/plain": [
       "['eng', 'kor', 'math']"
      ]
     },
     "execution_count": 15,
     "metadata": {},
     "output_type": "execute_result"
    }
   ],
   "source": [
    "scores = {'kor':100, 'eng':90, 'math':80}\n",
    "sorted(scores.keys())"
   ]
  },
  {
   "cell_type": "markdown",
   "id": "cc52e4c3",
   "metadata": {},
   "source": [
    "## 값 정렬하기"
   ]
  },
  {
   "cell_type": "code",
   "execution_count": 16,
   "id": "bcfd3467",
   "metadata": {},
   "outputs": [
    {
     "data": {
      "text/plain": [
       "[80, 90, 100]"
      ]
     },
     "execution_count": 16,
     "metadata": {},
     "output_type": "execute_result"
    }
   ],
   "source": [
    "scores = {'kor':100, 'eng':90, 'math':80}\n",
    "sorted(scores.values())"
   ]
  },
  {
   "cell_type": "markdown",
   "id": "79fd9939",
   "metadata": {},
   "source": [
    "## (키, 값) 정렬하기"
   ]
  },
  {
   "cell_type": "code",
   "execution_count": 17,
   "id": "8b44b2b2",
   "metadata": {},
   "outputs": [
    {
     "data": {
      "text/plain": [
       "[('eng', 90), ('kor', 100), ('math', 80)]"
      ]
     },
     "execution_count": 17,
     "metadata": {},
     "output_type": "execute_result"
    }
   ],
   "source": [
    "scores = {'kor':100, 'eng':90, 'math':80}\n",
    "sorted(scores.items())"
   ]
  },
  {
   "cell_type": "code",
   "execution_count": 18,
   "id": "2a21228d",
   "metadata": {},
   "outputs": [
    {
     "ename": "AttributeError",
     "evalue": "'dict_keys' object has no attribute 'sort'",
     "output_type": "error",
     "traceback": [
      "\u001b[1;31m---------------------------------------------------------------------------\u001b[0m",
      "\u001b[1;31mAttributeError\u001b[0m                            Traceback (most recent call last)",
      "\u001b[1;32m~\\AppData\\Local\\Temp/ipykernel_6244/1285192848.py\u001b[0m in \u001b[0;36m<module>\u001b[1;34m\u001b[0m\n\u001b[0;32m      1\u001b[0m \u001b[1;31m# .sort()는 지원하지 않음\u001b[0m\u001b[1;33m\u001b[0m\u001b[1;33m\u001b[0m\u001b[0m\n\u001b[1;32m----> 2\u001b[1;33m \u001b[0mscores\u001b[0m\u001b[1;33m.\u001b[0m\u001b[0mkeys\u001b[0m\u001b[1;33m(\u001b[0m\u001b[1;33m)\u001b[0m\u001b[1;33m.\u001b[0m\u001b[0msort\u001b[0m\u001b[1;33m(\u001b[0m\u001b[1;33m)\u001b[0m\u001b[1;33m\u001b[0m\u001b[1;33m\u001b[0m\u001b[0m\n\u001b[0m",
      "\u001b[1;31mAttributeError\u001b[0m: 'dict_keys' object has no attribute 'sort'"
     ]
    }
   ],
   "source": [
    "# .sort()는 지원하지 않음\n",
    "scores.keys().sort()"
   ]
  },
  {
   "cell_type": "code",
   "execution_count": null,
   "id": "d00a1cd8",
   "metadata": {},
   "outputs": [],
   "source": []
  }
 ],
 "metadata": {
  "kernelspec": {
   "display_name": "Python 3 (ipykernel)",
   "language": "python",
   "name": "python3"
  },
  "language_info": {
   "codemirror_mode": {
    "name": "ipython",
    "version": 3
   },
   "file_extension": ".py",
   "mimetype": "text/x-python",
   "name": "python",
   "nbconvert_exporter": "python",
   "pygments_lexer": "ipython3",
   "version": "3.9.7"
  }
 },
 "nbformat": 4,
 "nbformat_minor": 5
}
