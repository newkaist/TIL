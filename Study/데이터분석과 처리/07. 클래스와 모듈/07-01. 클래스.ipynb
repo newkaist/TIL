{
 "cells": [
  {
   "cell_type": "markdown",
   "id": "cf4c6fd8",
   "metadata": {},
   "source": [
    "## 자동차 클래스와 객체\n",
    "- 3가지 속성과 3가지 기능이 있는 자동차 객체를 찍어내기 위한 틀을 만든다.\n",
    "- 속성 : brand, model, color\n",
    "- 기능 : turn_on, turn_off, drive\n",
    "    1) 쿠키틀 : 클래스(class)\n",
    "\n",
    "    2) 쿠키틀로 만든 쿠키: 객체(object)\n",
    "\n",
    "        - 객체는 독립적임\n",
    "### 객체는 속성과 메소드로 구성\n",
    "\n",
    "- 클래스: 자동차\n",
    "- 객체\n",
    "- 속성 : 브랜드(기아) 모델명(K8), 색상(BLACK)\n",
    "- 메소드(기능): 시동걸기, 시동끄기, 주행하기"
   ]
  },
  {
   "cell_type": "code",
   "execution_count": null,
   "id": "6bef2767",
   "metadata": {},
   "outputs": [],
   "source": [
    "## 자동차클래스 만들기\n",
    "class 클래스명:\n",
    "def __init__(self, 매개변수1, 매개변수2):  # 생성자 \n",
    "# 속성 초기화 \n",
    "def 메소드1(self, 매개변수1, 매개변수2):\n",
    "     메소드1 내용\n",
    "def 메소드1(self, 매개변수1, 매개변수2):\n",
    "    메소드1 내용"
   ]
  },
  {
   "cell_type": "markdown",
   "id": "d5f6658e",
   "metadata": {},
   "source": [
    "- self : 메소드를 호출한 객체를 받는다\n",
    "- 객체의 속성은 객체 안의 변수에 저장된다\n",
    "- 객체의 이름 다음에 점(.)을 찍고 변수 이름을 적는다 예) car.brand = \"현대자동차\"\n",
    "\n",
    "- 객체의 메소드(기능) 객체 안에 정의된 함수\n",
    "\n",
    "- 객체의 메소드는 객체 이름 다음에 점(.)을 찍어 호출 예) car.turn_on()"
   ]
  },
  {
   "cell_type": "markdown",
   "id": "7647d2a1",
   "metadata": {},
   "source": [
    "class Car:\n",
    "    def __init__(self, b,m,c):\n",
    "        self.brand = b\n",
    "        self.model = m\n",
    "        self.color = c\n",
    "        \n",
    "        print(self.brand, self.model, self.color, '출고')\n",
    "    \n",
    "    def turn_on(self):\n",
    "        print(self.brand, '시동을 겁니다.')\n",
    "        \n",
    "    def turn_off(self):\n",
    "        print(self.brand, '시동을 끕니다.')\n",
    "    \n",
    "    def drive(self):\n",
    "        print(self.brand, '주행중입니다.')   "
   ]
  },
  {
   "cell_type": "code",
   "execution_count": null,
   "id": "05ce70c5",
   "metadata": {},
   "outputs": [],
   "source": [
    "객체 생성하기\n",
    "객체명 = 클래스명(매개변수1,매개변수2,...)"
   ]
  }
 ],
 "metadata": {
  "kernelspec": {
   "display_name": "Python 3 (ipykernel)",
   "language": "python",
   "name": "python3"
  },
  "language_info": {
   "codemirror_mode": {
    "name": "ipython",
    "version": 3
   },
   "file_extension": ".py",
   "mimetype": "text/x-python",
   "name": "python",
   "nbconvert_exporter": "python",
   "pygments_lexer": "ipython3",
   "version": "3.9.7"
  }
 },
 "nbformat": 4,
 "nbformat_minor": 5
}
