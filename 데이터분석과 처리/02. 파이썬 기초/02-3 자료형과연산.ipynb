{
 "cells": [
  {
   "cell_type": "markdown",
   "id": "ae96c514",
   "metadata": {},
   "source": [
    "# 산술연산"
   ]
  },
  {
   "cell_type": "code",
   "execution_count": 1,
   "id": "b8f5c00c",
   "metadata": {},
   "outputs": [
    {
     "name": "stdout",
     "output_type": "stream",
     "text": [
      "a+b= 7\n",
      "a-b= -1\n",
      "a*b= 12\n",
      "a/b= 0.75\n",
      "a//b= 0\n",
      "a%b= 3\n",
      "a**b= 81\n"
     ]
    }
   ],
   "source": [
    "a, b = 3,4\n",
    "\n",
    "print('a+b=',a+b)\n",
    "print('a-b=',a-b)\n",
    "print('a*b=',a*b)\n",
    "print('a/b=',a/b)\n",
    "print('a//b=',a//b)\n",
    "print('a%b=',a%b)\n",
    "print('a**b=',a**b)"
   ]
  },
  {
   "cell_type": "markdown",
   "id": "c782b157",
   "metadata": {},
   "source": [
    "# 문자열연산"
   ]
  },
  {
   "cell_type": "code",
   "execution_count": 2,
   "id": "db9f4faf",
   "metadata": {},
   "outputs": [
    {
     "data": {
      "text/plain": [
       "'goodmorning'"
      ]
     },
     "execution_count": 2,
     "metadata": {},
     "output_type": "execute_result"
    }
   ],
   "source": [
    "# 문자열 더하기(문자열 연결하기)\n",
    "a = 'good'\n",
    "b = 'morning'\n",
    "a+b"
   ]
  },
  {
   "cell_type": "code",
   "execution_count": 3,
   "id": "68a2f3e5",
   "metadata": {},
   "outputs": [
    {
     "data": {
      "text/plain": [
       "'hahaha'"
      ]
     },
     "execution_count": 3,
     "metadata": {},
     "output_type": "execute_result"
    }
   ],
   "source": [
    "# 문자열 곱하기(문자열 반복하기) \n",
    "s = 'ha'\n",
    "s * 3"
   ]
  },
  {
   "cell_type": "code",
   "execution_count": 4,
   "id": "96cd8af6",
   "metadata": {},
   "outputs": [
    {
     "name": "stdout",
     "output_type": "stream",
     "text": [
      "영어점수80\n"
     ]
    }
   ],
   "source": [
    "# 문자열과 숫자형 더하기\n",
    "english = 80\n",
    "result = '영어점수'+ str(english)\n",
    "print(result)"
   ]
  },
  {
   "cell_type": "markdown",
   "id": "2b40785b",
   "metadata": {},
   "source": [
    "# 할당 연산자"
   ]
  },
  {
   "cell_type": "code",
   "execution_count": 5,
   "id": "25f5d58a",
   "metadata": {},
   "outputs": [],
   "source": [
    "a = 1"
   ]
  },
  {
   "cell_type": "code",
   "execution_count": 6,
   "id": "ed10fea1",
   "metadata": {},
   "outputs": [
    {
     "name": "stdout",
     "output_type": "stream",
     "text": [
      "1 1 1\n"
     ]
    }
   ],
   "source": [
    "# a,b,c에 모두 1할당\n",
    "a = b = c = 1\n",
    "print(a,b,c)"
   ]
  },
  {
   "cell_type": "code",
   "execution_count": 7,
   "id": "e5123d41",
   "metadata": {},
   "outputs": [
    {
     "name": "stdout",
     "output_type": "stream",
     "text": [
      "1 2 3\n"
     ]
    }
   ],
   "source": [
    "# a,b,c에 각각 1,2,3 할당\n",
    "a,b,c = 1,2,3\n",
    "print(a,b,c)"
   ]
  },
  {
   "cell_type": "markdown",
   "id": "5dbc9264",
   "metadata": {},
   "source": [
    "# 복합 할당 연산자"
   ]
  },
  {
   "cell_type": "code",
   "execution_count": 8,
   "id": "1b900c74",
   "metadata": {},
   "outputs": [
    {
     "name": "stdout",
     "output_type": "stream",
     "text": [
      "30\n"
     ]
    }
   ],
   "source": [
    "x = 10\n",
    "x += 20  # x = x+20 = 10 + 20 = 30\n",
    "print(x)"
   ]
  },
  {
   "cell_type": "code",
   "execution_count": 9,
   "id": "d64cd28e",
   "metadata": {},
   "outputs": [
    {
     "name": "stdout",
     "output_type": "stream",
     "text": [
      "24\n"
     ]
    }
   ],
   "source": [
    "x = 3\n",
    "y = 5\n",
    "x *= x+y   # x = x * (x+y) = 3 * (3 + 5) = 24\n",
    "print(x)"
   ]
  },
  {
   "cell_type": "markdown",
   "id": "51386b9e",
   "metadata": {},
   "source": [
    "# f스트링으로 출력하기"
   ]
  },
  {
   "cell_type": "code",
   "execution_count": 10,
   "id": "c4a74d2d",
   "metadata": {},
   "outputs": [
    {
     "name": "stdout",
     "output_type": "stream",
     "text": [
      "이름:이탁형\n",
      "이탁형 님, 안녕하세요?\n"
     ]
    }
   ],
   "source": [
    "name = input('이름:')\n",
    "print(name,'님, 안녕하세요?')"
   ]
  },
  {
   "cell_type": "code",
   "execution_count": 14,
   "id": "9b575c3b",
   "metadata": {},
   "outputs": [
    {
     "name": "stdout",
     "output_type": "stream",
     "text": [
      "이탁형님 안녕하세요?\n"
     ]
    }
   ],
   "source": [
    "print(f'{name}님 안녕하세요?')"
   ]
  },
  {
   "cell_type": "code",
   "execution_count": 12,
   "id": "3d1202ea",
   "metadata": {},
   "outputs": [
    {
     "name": "stdout",
     "output_type": "stream",
     "text": [
      "나이:33\n",
      "나이는 33 살이시군요. 내년이면 34 살이 되시겠네요\n"
     ]
    }
   ],
   "source": [
    "age = int(input('나이:'))\n",
    "print('나이는',age,'살이시군요. 내년이면',age+1,'살이 되시겠네요')"
   ]
  },
  {
   "cell_type": "code",
   "execution_count": 13,
   "id": "0faa7e3a",
   "metadata": {},
   "outputs": [
    {
     "name": "stdout",
     "output_type": "stream",
     "text": [
      "나이는 33살이시군요. 내년이면 34살이 되시겠네요\n"
     ]
    }
   ],
   "source": [
    "print(f'나이는 {age}살이시군요. 내년이면 {age+1}살이 되시겠네요')"
   ]
  },
  {
   "cell_type": "markdown",
   "id": "61e58b7d",
   "metadata": {},
   "source": [
    "- 두 수를 입력받아 더하는 프로그램을 작성하기"
   ]
  },
  {
   "cell_type": "code",
   "execution_count": 15,
   "id": "fe022a54",
   "metadata": {},
   "outputs": [
    {
     "name": "stdout",
     "output_type": "stream",
     "text": [
      "첫번째숫자:0607\n",
      "두번째숫자:0405\n",
      "607 + 405 = 1012\n"
     ]
    }
   ],
   "source": [
    "a = int(input('첫번째숫자:'))\n",
    "b = int(input('두번째숫자:'))\n",
    "\n",
    "print(a,'+',b,'=',a+b)"
   ]
  },
  {
   "cell_type": "code",
   "execution_count": 16,
   "id": "18a1c304",
   "metadata": {},
   "outputs": [
    {
     "name": "stdout",
     "output_type": "stream",
     "text": [
      "607+405=1012\n"
     ]
    }
   ],
   "source": [
    "print(f'{a}+{b}={a+b}')"
   ]
  },
  {
   "cell_type": "markdown",
   "id": "6197395f",
   "metadata": {},
   "source": [
    "# 연습문제\n",
    "- 화씨 온도를 입력받아 섭씨 온도로 변환하는 프로그램을 작성해보세요.\n",
    "C = (F-32)*(5/9)"
   ]
  },
  {
   "cell_type": "code",
   "execution_count": 25,
   "id": "bedfe21b",
   "metadata": {},
   "outputs": [
    {
     "name": "stdout",
     "output_type": "stream",
     "text": [
      "화씨온도를 입력해주세요20\n",
      "현재 화씨온도는 20 입니다.\n",
      "현재 섭씨온도는 -6.666666666666667 입니다.\n"
     ]
    }
   ],
   "source": [
    "# 화씨 온도 입력\n",
    "F = int(input('화씨온도를 입력해주세요'))\n",
    "C = (F-32)*(5/9)\n",
    "print('현재 화씨온도는',F,'입니다.')\n",
    "print('현재 섭씨온도는',C,'입니다.')"
   ]
  },
  {
   "cell_type": "code",
   "execution_count": null,
   "id": "789aaa5d",
   "metadata": {},
   "outputs": [],
   "source": [
    "# 화씨 온도 입력\n",
    "F = int(input('화씨온도를 입력해주세요'))\n",
    "\n",
    "# 섭씨 온도 계산\n",
    "C = (F-32)*(5/9)\n",
    "\n",
    "# 결과 출력\n",
    "print('현재 화씨온도는',F,'입니다.')\n",
    "print('현재 섭씨온도는',C,'입니다.')"
   ]
  },
  {
   "cell_type": "code",
   "execution_count": null,
   "id": "eb2721de",
   "metadata": {},
   "outputs": [],
   "source": []
  },
  {
   "cell_type": "code",
   "execution_count": null,
   "id": "ef172a5d",
   "metadata": {},
   "outputs": [],
   "source": []
  },
  {
   "cell_type": "code",
   "execution_count": null,
   "id": "81c68db0",
   "metadata": {},
   "outputs": [],
   "source": []
  },
  {
   "cell_type": "code",
   "execution_count": null,
   "id": "28944505",
   "metadata": {},
   "outputs": [],
   "source": []
  }
 ],
 "metadata": {
  "kernelspec": {
   "display_name": "Python 3 (ipykernel)",
   "language": "python",
   "name": "python3"
  },
  "language_info": {
   "codemirror_mode": {
    "name": "ipython",
    "version": 3
   },
   "file_extension": ".py",
   "mimetype": "text/x-python",
   "name": "python",
   "nbconvert_exporter": "python",
   "pygments_lexer": "ipython3",
   "version": "3.9.7"
  }
 },
 "nbformat": 4,
 "nbformat_minor": 5
}
