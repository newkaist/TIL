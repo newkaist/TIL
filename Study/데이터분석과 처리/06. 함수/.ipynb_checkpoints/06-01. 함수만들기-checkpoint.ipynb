{
 "cells": [
  {
   "cell_type": "markdown",
   "id": "8e77735a",
   "metadata": {},
   "source": [
    "# 함수 정의하고 호출하기\n",
    "- 자기소개 함수 정의하고 호출하기"
   ]
  },
  {
   "cell_type": "code",
   "execution_count": 1,
   "id": "d3bfdc29",
   "metadata": {},
   "outputs": [
    {
     "name": "stdout",
     "output_type": "stream",
     "text": [
      "안녕하세요!\n",
      "저의 이름은 이탁형입니다.\n"
     ]
    }
   ],
   "source": [
    "## 자기소개 ## \n",
    "print('안녕하세요!')\n",
    "print('저의 이름은 이탁형입니다.')"
   ]
  },
  {
   "cell_type": "code",
   "execution_count": 3,
   "id": "b9fb5250",
   "metadata": {},
   "outputs": [
    {
     "name": "stdout",
     "output_type": "stream",
     "text": [
      "안녕하세요!\n",
      "저의 이름은 이탁형입니다.\n"
     ]
    }
   ],
   "source": [
    "# 함수 정의\n",
    "def introduce():\n",
    "    print('안녕하세요!')\n",
    "    print('저의 이름은 이탁형입니다.')\n",
    "\n",
    "# 함수 호출\n",
    "introduce()"
   ]
  },
  {
   "cell_type": "markdown",
   "id": "9f83df5d",
   "metadata": {},
   "source": [
    "- 함수 정의를 먼저 한 후 호출하도록 코드를 순차적으로 작성해야 한다."
   ]
  },
  {
   "cell_type": "code",
   "execution_count": 8,
   "id": "bcdcd4f1",
   "metadata": {},
   "outputs": [],
   "source": [
    "# 함수 호출\n",
    "# introduce2()\n",
    "\n",
    "# 함수 정의\n",
    "def introduce2():\n",
    "    print('안녕하세요!!')\n",
    "    print('저의 이름은 이탁형이에요!')\n",
    "\n",
    "# 코드는 위에서부터 아래로 순차적으로 실행된다.\n",
    "# 함수를 호출하는 시점에 함수가 정의되어 있지 않으면 에러 발생"
   ]
  },
  {
   "cell_type": "code",
   "execution_count": 9,
   "id": "d94d940b",
   "metadata": {},
   "outputs": [
    {
     "name": "stdout",
     "output_type": "stream",
     "text": [
      "안녕하세요!!\n",
      "저의 이름은 이탁형이에요!\n"
     ]
    }
   ],
   "source": [
    "introduce2()"
   ]
  },
  {
   "cell_type": "markdown",
   "id": "7befa226",
   "metadata": {},
   "source": [
    "## 매개변수 전달하기"
   ]
  },
  {
   "cell_type": "code",
   "execution_count": 12,
   "id": "1b0d8529",
   "metadata": {},
   "outputs": [
    {
     "name": "stdout",
     "output_type": "stream",
     "text": [
      "안녕하세요!\n",
      "저의 이름은, 이탁형입니다.\n"
     ]
    }
   ],
   "source": [
    "## 자기소개 ##\n",
    "name='이탁형'\n",
    "print('안녕하세요!')\n",
    "print('저의 이름은, '+name+'입니다.')"
   ]
  },
  {
   "cell_type": "markdown",
   "id": "2a5f92c9",
   "metadata": {},
   "source": [
    "- 매개변수 1개 전달하기"
   ]
  },
  {
   "cell_type": "code",
   "execution_count": 14,
   "id": "7d82e50f",
   "metadata": {},
   "outputs": [
    {
     "name": "stdout",
     "output_type": "stream",
     "text": [
      "안녕하세요!\n",
      "저의 이름은, 이탁형입니다.\n",
      "안녕하세요!\n",
      "저의 이름은, 탁형입니다.\n"
     ]
    }
   ],
   "source": [
    "def introduce(name):\n",
    "    print('안녕하세요!')\n",
    "    print('저의 이름은, '+name+'입니다.')\n",
    "\n",
    "introduce('이탁형')\n",
    "introduce('탁형')"
   ]
  },
  {
   "cell_type": "markdown",
   "id": "bd5db4ef",
   "metadata": {},
   "source": [
    "- 매개변수 여러개 전달하기"
   ]
  },
  {
   "cell_type": "code",
   "execution_count": 16,
   "id": "bc24b1a8",
   "metadata": {},
   "outputs": [
    {
     "name": "stdout",
     "output_type": "stream",
     "text": [
      "안녕하세요!\n",
      "저의 이름은, 이탁형입니다.\n"
     ]
    },
    {
     "ename": "TypeError",
     "evalue": "can only concatenate str (not \"int\") to str",
     "output_type": "error",
     "traceback": [
      "\u001b[1;31m---------------------------------------------------------------------------\u001b[0m",
      "\u001b[1;31mTypeError\u001b[0m                                 Traceback (most recent call last)",
      "\u001b[1;32m~\\AppData\\Local\\Temp/ipykernel_14464/49199097.py\u001b[0m in \u001b[0;36m<module>\u001b[1;34m\u001b[0m\n\u001b[0;32m      5\u001b[0m \u001b[0mprint\u001b[0m\u001b[1;33m(\u001b[0m\u001b[1;34m'저의 이름은, '\u001b[0m\u001b[1;33m+\u001b[0m\u001b[0mname\u001b[0m\u001b[1;33m+\u001b[0m\u001b[1;34m'입니다.'\u001b[0m\u001b[1;33m)\u001b[0m\u001b[1;33m\u001b[0m\u001b[1;33m\u001b[0m\u001b[0m\n\u001b[0;32m      6\u001b[0m \u001b[1;31m# print('나이는, '+ age+'살입니다.') # 에러 발생\u001b[0m\u001b[1;33m\u001b[0m\u001b[1;33m\u001b[0m\u001b[0m\n\u001b[1;32m----> 7\u001b[1;33m \u001b[0mprint\u001b[0m\u001b[1;33m(\u001b[0m\u001b[1;34m'나이는, '\u001b[0m\u001b[1;33m+\u001b[0m\u001b[1;33m(\u001b[0m\u001b[0mage\u001b[0m\u001b[1;33m)\u001b[0m\u001b[1;33m+\u001b[0m\u001b[1;34m'살입니다.'\u001b[0m\u001b[1;33m)\u001b[0m  \u001b[1;31m# str --> int 정수 데이터 변환 필요\u001b[0m\u001b[1;33m\u001b[0m\u001b[1;33m\u001b[0m\u001b[0m\n\u001b[0m",
      "\u001b[1;31mTypeError\u001b[0m: can only concatenate str (not \"int\") to str"
     ]
    }
   ],
   "source": [
    "## 자기소개 ##\n",
    "name='이탁형'\n",
    "age = 34\n",
    "print('안녕하세요!')\n",
    "print('저의 이름은, '+name+'입니다.')\n",
    "# print('나이는, '+ age+'살입니다.') # 에러 발생 \n",
    "print('나이는, '+(age)+'살입니다.')  # str --> int 정수 데이터 변환 필요"
   ]
  },
  {
   "cell_type": "code",
   "execution_count": 18,
   "id": "bade8620",
   "metadata": {},
   "outputs": [
    {
     "name": "stdout",
     "output_type": "stream",
     "text": [
      "안녕하세요!\n",
      "저의 이름은, 이탁형입니다.\n",
      "나이는, 34살입니다.\n"
     ]
    }
   ],
   "source": [
    "name='이탁형'\n",
    "age = 34\n",
    "print('안녕하세요!')\n",
    "print('저의 이름은, '+name+'입니다.')\n",
    "print('나이는, '+str(age)+'살입니다.')  "
   ]
  },
  {
   "cell_type": "markdown",
   "id": "92184bc5",
   "metadata": {},
   "source": [
    "## 연습문제\n",
    "- 이름과 나이를 입력받아 생일축하 메시지를 출력하는 함수를 만들고 호출하세요.\n",
    "- 생일문구 : ooo님의 oo번째 생일을 축하합니다!!"
   ]
  },
  {
   "cell_type": "code",
   "execution_count": 19,
   "id": "c78e0d7e",
   "metadata": {},
   "outputs": [
    {
     "name": "stdout",
     "output_type": "stream",
     "text": [
      "이름:이탁형\n",
      "나이:34\n",
      "이탁형님의 34번째 생일을 축하합니다.\n"
     ]
    }
   ],
   "source": [
    "name = input('이름:')\n",
    "age = input('나이:')\n",
    "\n",
    "def happybirthday(name, age):\n",
    "    print(f'{name}님의 {age}번째 생일을 축하합니다.')\n",
    "    \n",
    "happybirthday(name,age)    "
   ]
  },
  {
   "cell_type": "code",
   "execution_count": null,
   "id": "1ea92edb",
   "metadata": {},
   "outputs": [],
   "source": []
  }
 ],
 "metadata": {
  "kernelspec": {
   "display_name": "Python 3 (ipykernel)",
   "language": "python",
   "name": "python3"
  },
  "language_info": {
   "codemirror_mode": {
    "name": "ipython",
    "version": 3
   },
   "file_extension": ".py",
   "mimetype": "text/x-python",
   "name": "python",
   "nbconvert_exporter": "python",
   "pygments_lexer": "ipython3",
   "version": "3.9.7"
  }
 },
 "nbformat": 4,
 "nbformat_minor": 5
}
