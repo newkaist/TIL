{
 "cells": [
  {
   "cell_type": "markdown",
   "id": "d8b77a79",
   "metadata": {},
   "source": [
    "## 값 1개 반환하기"
   ]
  },
  {
   "cell_type": "code",
   "execution_count": 1,
   "id": "72c62479",
   "metadata": {},
   "outputs": [
    {
     "name": "stdout",
     "output_type": "stream",
     "text": [
      "3\n",
      "plus: 3\n"
     ]
    }
   ],
   "source": [
    "# 두 수를 매개변수로 받아 더한 후 결과를 리턴하는 함수 만들기\n",
    "def get_plus(n1,n2):\n",
    "    return n1+n2\n",
    "\n",
    "print(get_plus(1,2))\n",
    "\n",
    "plus = get_plus(1,2)\n",
    "print('plus:',plus)"
   ]
  },
  {
   "cell_type": "markdown",
   "id": "ab9ea2f5",
   "metadata": {},
   "source": [
    "## 값 여러개 반환하기\n",
    "- 여러개의 값을 하나의 튜플로 묶어서 반환한다."
   ]
  },
  {
   "cell_type": "code",
   "execution_count": 2,
   "id": "5816ed7e",
   "metadata": {},
   "outputs": [
    {
     "name": "stdout",
     "output_type": "stream",
     "text": [
      "3 -1\n"
     ]
    }
   ],
   "source": [
    "# 두 수를 매개변수로 받아 더한값과 뺀 값을 리턴하는 함수 만들기\n",
    "def get_plus_minus(n1,n2):\n",
    "    return n1+n2, n1-n2\n",
    "\n",
    "result = get_plus_minus(1,2)\n",
    "result\n",
    "\n",
    "plus,minus = get_plus_minus(1,2)\n",
    "print(plus,minus)"
   ]
  },
  {
   "cell_type": "markdown",
   "id": "304dc5fd",
   "metadata": {},
   "source": [
    "## 함수에서 빠져나오기\n",
    "- return을 만나면 함수를 빠져나온다.\n",
    "- 반환할 값이 있다면 값을 반환하고 빠져나오고, 없다면 그냥 빠져나온다."
   ]
  },
  {
   "cell_type": "code",
   "execution_count": 3,
   "id": "3607628b",
   "metadata": {},
   "outputs": [
    {
     "data": {
      "text/plain": [
       "'홀수'"
      ]
     },
     "execution_count": 3,
     "metadata": {},
     "output_type": "execute_result"
    }
   ],
   "source": [
    "# 정수를 입력받아 0, 짝수, 홀수 여부를 리턴하는 함수 만들기\n",
    "def is_odd_even(n):\n",
    "    if n == 0:\n",
    "        result=0\n",
    "    elif n%2==0:\n",
    "        result='짝수'\n",
    "    else:\n",
    "        result='홀수'\n",
    "    \n",
    "    return result\n",
    "\n",
    "is_odd_even(21)"
   ]
  },
  {
   "cell_type": "code",
   "execution_count": 4,
   "id": "b137c130",
   "metadata": {},
   "outputs": [
    {
     "data": {
      "text/plain": [
       "'홀수'"
      ]
     },
     "execution_count": 4,
     "metadata": {},
     "output_type": "execute_result"
    }
   ],
   "source": [
    "def is_odd_even(n):\n",
    "    if n == 0:\n",
    "        return 0\n",
    "    if n%2 == 0:\n",
    "        return '짝수'\n",
    "    return '홀수'\n",
    "\n",
    "is_odd_even(23)"
   ]
  },
  {
   "cell_type": "markdown",
   "id": "e9965c7a",
   "metadata": {},
   "source": [
    "## 연습문제\n",
    "- 소수 여부 판단하기 매개변수로 전달받은 수가 소수인지 아닌지 판별하는 함수를 작성하고 호출하세요.\n",
    "\n",
    "- 소수란 : 1과 자기 자신으로만 나누어 떨어지는 1보다 큰 양의 정수"
   ]
  },
  {
   "cell_type": "code",
   "execution_count": 10,
   "id": "d0ccc564",
   "metadata": {},
   "outputs": [
    {
     "data": {
      "text/plain": [
       "True"
      ]
     },
     "execution_count": 10,
     "metadata": {},
     "output_type": "execute_result"
    }
   ],
   "source": [
    "def is_prime(n):\n",
    "    if n<=1:\n",
    "        return False\n",
    "    \n",
    "    for i in range(2,n):\n",
    "        if n%i==0:\n",
    "            return False\n",
    "    \n",
    "    return True\n",
    "\n",
    "is_prime(19)    \n",
    "    "
   ]
  },
  {
   "cell_type": "code",
   "execution_count": null,
   "id": "335f5118",
   "metadata": {},
   "outputs": [],
   "source": []
  }
 ],
 "metadata": {
  "kernelspec": {
   "display_name": "Python 3 (ipykernel)",
   "language": "python",
   "name": "python3"
  },
  "language_info": {
   "codemirror_mode": {
    "name": "ipython",
    "version": 3
   },
   "file_extension": ".py",
   "mimetype": "text/x-python",
   "name": "python",
   "nbconvert_exporter": "python",
   "pygments_lexer": "ipython3",
   "version": "3.9.7"
  }
 },
 "nbformat": 4,
 "nbformat_minor": 5
}
