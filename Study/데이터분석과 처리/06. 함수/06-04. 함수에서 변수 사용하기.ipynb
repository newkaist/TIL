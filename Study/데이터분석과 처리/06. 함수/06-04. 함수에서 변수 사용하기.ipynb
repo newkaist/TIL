{
 "cells": [
  {
   "cell_type": "markdown",
   "id": "e85a2195",
   "metadata": {},
   "source": [
    "## 전역변수\n",
    "- 함수 밖에서 생성된 변수\n",
    "- 함수 내에서도 사용할 수 있다."
   ]
  },
  {
   "cell_type": "code",
   "execution_count": 1,
   "id": "dc224c29",
   "metadata": {},
   "outputs": [
    {
     "name": "stdout",
     "output_type": "stream",
     "text": [
      "hello\n"
     ]
    }
   ],
   "source": [
    "say1 = 'hello'\n",
    "\n",
    "def sayhello():\n",
    "    print(say1)\n",
    "    \n",
    "sayhello()"
   ]
  },
  {
   "cell_type": "markdown",
   "id": "15eef32a",
   "metadata": {},
   "source": [
    "## 지역변수\n",
    "- 함수 내에서 생성된 변수\n",
    "- 함수 내에서만 사용할 수 있다."
   ]
  },
  {
   "cell_type": "code",
   "execution_count": 2,
   "id": "9373612e",
   "metadata": {},
   "outputs": [
    {
     "name": "stdout",
     "output_type": "stream",
     "text": [
      "goodbye\n"
     ]
    },
    {
     "ename": "NameError",
     "evalue": "name 'say2' is not defined",
     "output_type": "error",
     "traceback": [
      "\u001b[1;31m---------------------------------------------------------------------------\u001b[0m",
      "\u001b[1;31mNameError\u001b[0m                                 Traceback (most recent call last)",
      "\u001b[1;32m~\\AppData\\Local\\Temp/ipykernel_17840/3901530915.py\u001b[0m in \u001b[0;36m<module>\u001b[1;34m\u001b[0m\n\u001b[0;32m      5\u001b[0m \u001b[1;33m\u001b[0m\u001b[0m\n\u001b[0;32m      6\u001b[0m \u001b[0msaygoodbye\u001b[0m\u001b[1;33m(\u001b[0m\u001b[1;33m)\u001b[0m\u001b[1;33m\u001b[0m\u001b[1;33m\u001b[0m\u001b[0m\n\u001b[1;32m----> 7\u001b[1;33m \u001b[0mprint\u001b[0m\u001b[1;33m(\u001b[0m\u001b[0msay2\u001b[0m\u001b[1;33m)\u001b[0m\u001b[1;33m\u001b[0m\u001b[1;33m\u001b[0m\u001b[0m\n\u001b[0m",
      "\u001b[1;31mNameError\u001b[0m: name 'say2' is not defined"
     ]
    }
   ],
   "source": [
    "def saygoodbye():\n",
    "    say2 = 'goodbye' #지역변수\n",
    "    print(say2)\n",
    "\n",
    "\n",
    "saygoodbye()\n",
    "print(say2)"
   ]
  },
  {
   "cell_type": "markdown",
   "id": "13b97729",
   "metadata": {},
   "source": [
    "## 함수 안에서 전역변수 값 변경하기\n",
    "- 함수 내에서 전역변수 값을 변경하려면 'global' 키워드를 함께 사용하여야 한다.\n",
    "- global을 사용하지 않으면 동일한 이름의 지역변수가 생성되어 사용된다."
   ]
  },
  {
   "cell_type": "code",
   "execution_count": 3,
   "id": "bbb8eb1a",
   "metadata": {},
   "outputs": [
    {
     "name": "stdout",
     "output_type": "stream",
     "text": [
      "(12, -8)\n",
      "1\n"
     ]
    }
   ],
   "source": [
    "n1 = 1   # 전역변수\n",
    "n2 = 10\n",
    "\n",
    "def get_plus_minus():\n",
    "    n1 = 2   # 지역변수 \n",
    "    plus = n1+n2\n",
    "    minus = n1-n2\n",
    "    return plus, minus\n",
    "\n",
    "print(get_plus_minus()) # 지역변수에 정의된 값으로 계산\n",
    "print(n1)               # 전역변수 정의된 값 출력 "
   ]
  },
  {
   "cell_type": "code",
   "execution_count": 4,
   "id": "4bbd0870",
   "metadata": {},
   "outputs": [
    {
     "name": "stdout",
     "output_type": "stream",
     "text": [
      "(12, -8)\n",
      "2\n"
     ]
    }
   ],
   "source": [
    "n1 = 1\n",
    "n2 = 10\n",
    "\n",
    "def get_plus_minus():\n",
    "    global n1          # 전역 변수 값을 변경, 전역변수로 정의된 값 활용(global)\n",
    "    n1 = 2              # n1의 값이 2로 변경됨\n",
    "    plus = n1+n2\n",
    "    minus = n1-n2\n",
    "    return plus, minus\n",
    "\n",
    "print(get_plus_minus())\n",
    "print(n1)"
   ]
  },
  {
   "cell_type": "code",
   "execution_count": null,
   "id": "6e73e28a",
   "metadata": {},
   "outputs": [],
   "source": []
  }
 ],
 "metadata": {
  "kernelspec": {
   "display_name": "Python 3 (ipykernel)",
   "language": "python",
   "name": "python3"
  },
  "language_info": {
   "codemirror_mode": {
    "name": "ipython",
    "version": 3
   },
   "file_extension": ".py",
   "mimetype": "text/x-python",
   "name": "python",
   "nbconvert_exporter": "python",
   "pygments_lexer": "ipython3",
   "version": "3.9.7"
  }
 },
 "nbformat": 4,
 "nbformat_minor": 5
}
