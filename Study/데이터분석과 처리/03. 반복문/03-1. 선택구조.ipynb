{
 "cells": [
  {
   "cell_type": "markdown",
   "id": "0f24f1c5",
   "metadata": {},
   "source": [
    "# if 구조\n",
    "- 점수를 입력받아, 점수가 60점 이상이면 '합격'을 출력합니다."
   ]
  },
  {
   "cell_type": "code",
   "execution_count": 3,
   "id": "b4fb7cae",
   "metadata": {},
   "outputs": [
    {
     "name": "stdout",
     "output_type": "stream",
     "text": [
      "점수:95\n",
      "합격\n",
      "축하합니다.\n",
      "수고하셨습니다.\n"
     ]
    }
   ],
   "source": [
    "score = int(input('점수:'))\n",
    "\n",
    "if score>=60:\n",
    "    print('합격')\n",
    "    print('축하합니다.')\n",
    "print('수고하셨습니다.')"
   ]
  },
  {
   "cell_type": "markdown",
   "id": "26ebaf0e",
   "metadata": {},
   "source": [
    "# if..else..구조\n",
    "- 점수를 입력받아, 점수가 60점 이상이면 '합격'을 출력하고, 아니면 '불합격'을 출력합니다."
   ]
  },
  {
   "cell_type": "code",
   "execution_count": 4,
   "id": "41c44057",
   "metadata": {},
   "outputs": [
    {
     "name": "stdout",
     "output_type": "stream",
     "text": [
      "점수:50\n",
      "불합격\n"
     ]
    }
   ],
   "source": [
    "score = int(input('점수:'))\n",
    "if score>=60:\n",
    "    print('합격')\n",
    "else:\n",
    "    print('불합격')"
   ]
  },
  {
   "cell_type": "markdown",
   "id": "b89e2825",
   "metadata": {},
   "source": [
    "# if..elif..구조\n",
    "- 점수를 입력받고 점수의 범위에 따라 등급을 출력하는 프로그램을 작성하세요.\n",
    "\n",
    "\n",
    "```\n",
    "등급\t A      B   \tC   \tD   \tF\n",
    "점수 90이상 80~89\t70~79\t60~69\t 0~5\n",
    "```"
   ]
  },
  {
   "cell_type": "code",
   "execution_count": 16,
   "id": "8f7ee996",
   "metadata": {},
   "outputs": [
    {
     "name": "stdout",
     "output_type": "stream",
     "text": [
      "점수를 입력하세요50\n",
      "F등급입니다. 내년에 뵙죠\n"
     ]
    }
   ],
   "source": [
    "score = int(input('점수를 입력하세요'))\n",
    "if score >= 90:\n",
    "    print('A등급입니다. 축하합니다.')\n",
    "elif score >= 80:\n",
    "    print('B등급입니다. 고생하셨습니다.')\n",
    "elif score >= 70:\n",
    "    print('C등급입니다. 분발하세요.')\n",
    "elif score >= 60:\n",
    "    print('D등급입니다. 정신차리세요.')\n",
    "else:\n",
    "    print('F등급입니다. 내년에 뵙죠')\n"
   ]
  },
  {
   "cell_type": "markdown",
   "id": "0b7af9e1",
   "metadata": {},
   "source": [
    "# 연습문제\n",
    "- 정수를 입력받아 짝수/홀수를 판별하세요."
   ]
  },
  {
   "cell_type": "code",
   "execution_count": 27,
   "id": "2fda5552",
   "metadata": {},
   "outputs": [
    {
     "name": "stdout",
     "output_type": "stream",
     "text": [
      "아무숫자나 넣어봐봐!11\n",
      "하나어디갔어 손펴봐\n"
     ]
    }
   ],
   "source": [
    "score = int(input('아무숫자나 넣어봐봐!'))\n",
    "if score % 2 == 0 :\n",
    "    print('야 니 짝수다 맞제?')\n",
    "else:\n",
    "    print('하나어디갔어 손펴봐')"
   ]
  }
 ],
 "metadata": {
  "kernelspec": {
   "display_name": "Python 3 (ipykernel)",
   "language": "python",
   "name": "python3"
  },
  "language_info": {
   "codemirror_mode": {
    "name": "ipython",
    "version": 3
   },
   "file_extension": ".py",
   "mimetype": "text/x-python",
   "name": "python",
   "nbconvert_exporter": "python",
   "pygments_lexer": "ipython3",
   "version": "3.9.7"
  }
 },
 "nbformat": 4,
 "nbformat_minor": 5
}
