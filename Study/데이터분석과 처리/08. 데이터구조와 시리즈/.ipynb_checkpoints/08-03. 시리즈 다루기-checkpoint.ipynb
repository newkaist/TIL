{
 "cells": [
  {
   "cell_type": "code",
   "execution_count": 1,
   "id": "5110552d",
   "metadata": {},
   "outputs": [],
   "source": [
    "import pandas as pd"
   ]
  },
  {
   "cell_type": "markdown",
   "id": "b6c10302",
   "metadata": {},
   "source": [
    "## 시리즈 만들기\n",
    "- pd.Series(리스트) 시리즈 : 엑셀시트의 열 1개를 의미한다.(1차원 리스트형태)시리즈는 열(column, Series)"
   ]
  },
  {
   "cell_type": "code",
   "execution_count": 2,
   "id": "3e2eb95d",
   "metadata": {},
   "outputs": [
    {
     "name": "stdout",
     "output_type": "stream",
     "text": [
      "RangeIndex(start=0, stop=3, step=1)\n",
      "0    amy\n",
      "1    170\n",
      "2    240\n",
      "dtype: object\n"
     ]
    }
   ],
   "source": [
    "# 시리즈 만들기\n",
    "s = pd.Series(['amy',170,240])\n",
    "print(s.index)\n",
    "print(s)"
   ]
  },
  {
   "cell_type": "code",
   "execution_count": 3,
   "id": "5d88aa28",
   "metadata": {},
   "outputs": [
    {
     "data": {
      "text/plain": [
       "pandas.core.series.Series"
      ]
     },
     "execution_count": 3,
     "metadata": {},
     "output_type": "execute_result"
    }
   ],
   "source": [
    "# 타입 확인하기\n",
    "type(s)"
   ]
  },
  {
   "cell_type": "markdown",
   "id": "a3a0a700",
   "metadata": {},
   "source": [
    "## 시리즈의 index와 value 가져오기\n",
    "- 시리즈에는 index와 value가 있다.\n",
    "- 시리즈의 index 가져오기 : 시리즈.index\n",
    "- 시리즈의 value 가져오기 : 시리즈.values\n",
    "- 시리즈의 인덱스는 리스트의 인덱스와 다른 개념이다.\n",
    "- 시리즈의 인덱스는 데이터의 이름이고, 행번호는 따로 있다."
   ]
  },
  {
   "cell_type": "markdown",
   "id": "1e277f47",
   "metadata": {},
   "source": [
    "# 시리즈 인덱스 가져오기\n",
    "s.index"
   ]
  },
  {
   "cell_type": "code",
   "execution_count": 5,
   "id": "55ea0b9c",
   "metadata": {},
   "outputs": [
    {
     "data": {
      "text/plain": [
       "array(['amy', 170, 240], dtype=object)"
      ]
     },
     "execution_count": 5,
     "metadata": {},
     "output_type": "execute_result"
    }
   ],
   "source": [
    "# 시리즈 데이터 가져오기\n",
    "s.values"
   ]
  },
  {
   "cell_type": "markdown",
   "id": "2d9ba617",
   "metadata": {},
   "source": [
    "## 시리즈의 index 지정하기\n",
    "- 시리즈.index = 인덱스리스트\n",
    "- 시리즈의 인덱는 숫자, 문자열 모두 가능하다."
   ]
  },
  {
   "cell_type": "code",
   "execution_count": 6,
   "id": "43f1d717",
   "metadata": {},
   "outputs": [],
   "source": [
    "# 시리즈 인덱스 지정하기\n",
    "s.index = ['name','height','footsize']"
   ]
  },
  {
   "cell_type": "code",
   "execution_count": 7,
   "id": "6b3c9642",
   "metadata": {},
   "outputs": [
    {
     "data": {
      "text/plain": [
       "name        amy\n",
       "height      170\n",
       "footsize    240\n",
       "dtype: object"
      ]
     },
     "execution_count": 7,
     "metadata": {},
     "output_type": "execute_result"
    }
   ],
   "source": [
    "# 시리즈 출력하기\n",
    "s"
   ]
  },
  {
   "cell_type": "code",
   "execution_count": 8,
   "id": "9b69c936",
   "metadata": {},
   "outputs": [
    {
     "data": {
      "text/plain": [
       "Index(['name', 'height', 'footsize'], dtype='object')"
      ]
     },
     "execution_count": 8,
     "metadata": {},
     "output_type": "execute_result"
    }
   ],
   "source": [
    "# 인덱스 확인하기\n",
    "s.index"
   ]
  },
  {
   "cell_type": "code",
   "execution_count": 9,
   "id": "c2721def",
   "metadata": {},
   "outputs": [
    {
     "data": {
      "text/plain": [
       "array(['amy', 170, 240], dtype=object)"
      ]
     },
     "execution_count": 9,
     "metadata": {},
     "output_type": "execute_result"
    }
   ],
   "source": [
    "# 데이터 확인하기\n",
    "s.values"
   ]
  },
  {
   "cell_type": "markdown",
   "id": "85e996d8",
   "metadata": {},
   "source": [
    "## 시리즈의 통계값 사용하기\n",
    "- 평균 : 시리즈.mean()\n",
    "- 최소값 : 시리즈.min()\n",
    "- 최대값 : 시리즈.max()\n",
    "- 중간값 : 시리즈.median()\n",
    "- 표준편차 : 시리즈.std()\n",
    "- 시리즈의 통계값은 시리즈의 value가 모두 숫자형일 때 사용할 수 있다."
   ]
  },
  {
   "cell_type": "code",
   "execution_count": 10,
   "id": "d2fb4c0c",
   "metadata": {},
   "outputs": [],
   "source": [
    "s2 = pd.Series([10,20,30,40,50])"
   ]
  },
  {
   "cell_type": "code",
   "execution_count": 11,
   "id": "b446d2a8",
   "metadata": {},
   "outputs": [
    {
     "name": "stdout",
     "output_type": "stream",
     "text": [
      "평균: 30.0\n",
      "최소값: 10\n",
      "최대값: 50\n",
      "중간값: 30.0\n",
      "표준편차: 15.811388300841896\n"
     ]
    }
   ],
   "source": [
    "print('평균:',s2.mean())\n",
    "print('최소값:',s2.min())\n",
    "print('최대값:',s2.max())\n",
    "print('중간값:',s2.median())\n",
    "print('표준편차:',s2.std())"
   ]
  },
  {
   "cell_type": "markdown",
   "id": "d739f55f",
   "metadata": {},
   "source": [
    "- 요약통계 : 시리즈.describe()"
   ]
  },
  {
   "cell_type": "code",
   "execution_count": 12,
   "id": "c9886961",
   "metadata": {},
   "outputs": [
    {
     "data": {
      "text/plain": [
       "count     5.000000\n",
       "mean     30.000000\n",
       "std      15.811388\n",
       "min      10.000000\n",
       "25%      20.000000\n",
       "50%      30.000000\n",
       "75%      40.000000\n",
       "max      50.000000\n",
       "dtype: float64"
      ]
     },
     "execution_count": 12,
     "metadata": {},
     "output_type": "execute_result"
    }
   ],
   "source": [
    "s2.describe()"
   ]
  },
  {
   "cell_type": "markdown",
   "id": "718d8232",
   "metadata": {},
   "source": [
    "## 시리즈 주요 메서드\n",
    "- 값 정렬 : 시리즈.sort_values( )\n",
    "- 인덱스 정렬 : 시리즈.sort_index( )\n",
    "- 인덱스 리셋 : 시리즈.reset_index( ) --> 행번호로 인덱스 재지정\n",
    "- 특정 값을 가진 시리즈 값을 교체 : replace(찾을값, 교체할값)\n",
    "- 시리즈를 데이터프레임으로 변환 : 시리즈.to_frame( )"
   ]
  },
  {
   "cell_type": "code",
   "execution_count": 13,
   "id": "912c98a1",
   "metadata": {},
   "outputs": [],
   "source": [
    "s3 = pd.Series([1,3,2,4,10])"
   ]
  },
  {
   "cell_type": "code",
   "execution_count": 14,
   "id": "676d4392",
   "metadata": {},
   "outputs": [
    {
     "data": {
      "text/plain": [
       "0    1\n",
       "1    3\n",
       "2    2\n",
       "3    4\n",
       "4    5\n",
       "dtype: int64"
      ]
     },
     "execution_count": 14,
     "metadata": {},
     "output_type": "execute_result"
    }
   ],
   "source": [
    "# s3의 value 중 10을 5로 교체\n",
    "s3 = s3.replace(10,5)\n",
    "s3"
   ]
  },
  {
   "cell_type": "code",
   "execution_count": 15,
   "id": "b2545ee3",
   "metadata": {},
   "outputs": [
    {
     "data": {
      "text/plain": [
       "0    1\n",
       "2    2\n",
       "1    3\n",
       "3    4\n",
       "4    5\n",
       "dtype: int64"
      ]
     },
     "execution_count": 15,
     "metadata": {},
     "output_type": "execute_result"
    }
   ],
   "source": [
    "# s3 정렬 (디폴트는 오름차순 : ascending=True)\n",
    "s3.sort_values()"
   ]
  },
  {
   "cell_type": "code",
   "execution_count": 16,
   "id": "da4389da",
   "metadata": {},
   "outputs": [
    {
     "data": {
      "text/plain": [
       "4    5\n",
       "3    4\n",
       "1    3\n",
       "2    2\n",
       "0    1\n",
       "dtype: int64"
      ]
     },
     "execution_count": 16,
     "metadata": {},
     "output_type": "execute_result"
    }
   ],
   "source": [
    "s3.sort_values(ascending=False)"
   ]
  },
  {
   "cell_type": "code",
   "execution_count": 17,
   "id": "e1824ed0",
   "metadata": {},
   "outputs": [
    {
     "data": {
      "text/html": [
       "<div>\n",
       "<style scoped>\n",
       "    .dataframe tbody tr th:only-of-type {\n",
       "        vertical-align: middle;\n",
       "    }\n",
       "\n",
       "    .dataframe tbody tr th {\n",
       "        vertical-align: top;\n",
       "    }\n",
       "\n",
       "    .dataframe thead th {\n",
       "        text-align: right;\n",
       "    }\n",
       "</style>\n",
       "<table border=\"1\" class=\"dataframe\">\n",
       "  <thead>\n",
       "    <tr style=\"text-align: right;\">\n",
       "      <th></th>\n",
       "      <th>0</th>\n",
       "    </tr>\n",
       "  </thead>\n",
       "  <tbody>\n",
       "    <tr>\n",
       "      <th>0</th>\n",
       "      <td>1</td>\n",
       "    </tr>\n",
       "    <tr>\n",
       "      <th>1</th>\n",
       "      <td>3</td>\n",
       "    </tr>\n",
       "    <tr>\n",
       "      <th>2</th>\n",
       "      <td>2</td>\n",
       "    </tr>\n",
       "    <tr>\n",
       "      <th>3</th>\n",
       "      <td>4</td>\n",
       "    </tr>\n",
       "    <tr>\n",
       "      <th>4</th>\n",
       "      <td>5</td>\n",
       "    </tr>\n",
       "  </tbody>\n",
       "</table>\n",
       "</div>"
      ],
      "text/plain": [
       "   0\n",
       "0  1\n",
       "1  3\n",
       "2  2\n",
       "3  4\n",
       "4  5"
      ]
     },
     "execution_count": 17,
     "metadata": {},
     "output_type": "execute_result"
    }
   ],
   "source": [
    "# s3을 데이터프레임으로 만들기\n",
    "s3.to_frame()"
   ]
  },
  {
   "cell_type": "code",
   "execution_count": 18,
   "id": "9f14f711",
   "metadata": {},
   "outputs": [
    {
     "data": {
      "text/html": [
       "<div>\n",
       "<style scoped>\n",
       "    .dataframe tbody tr th:only-of-type {\n",
       "        vertical-align: middle;\n",
       "    }\n",
       "\n",
       "    .dataframe tbody tr th {\n",
       "        vertical-align: top;\n",
       "    }\n",
       "\n",
       "    .dataframe thead th {\n",
       "        text-align: right;\n",
       "    }\n",
       "</style>\n",
       "<table border=\"1\" class=\"dataframe\">\n",
       "  <thead>\n",
       "    <tr style=\"text-align: right;\">\n",
       "      <th></th>\n",
       "      <th>index</th>\n",
       "      <th>0</th>\n",
       "    </tr>\n",
       "  </thead>\n",
       "  <tbody>\n",
       "    <tr>\n",
       "      <th>0</th>\n",
       "      <td>name</td>\n",
       "      <td>amy</td>\n",
       "    </tr>\n",
       "    <tr>\n",
       "      <th>1</th>\n",
       "      <td>height</td>\n",
       "      <td>170</td>\n",
       "    </tr>\n",
       "    <tr>\n",
       "      <th>2</th>\n",
       "      <td>footsize</td>\n",
       "      <td>240</td>\n",
       "    </tr>\n",
       "  </tbody>\n",
       "</table>\n",
       "</div>"
      ],
      "text/plain": [
       "      index    0\n",
       "0      name  amy\n",
       "1    height  170\n",
       "2  footsize  240"
      ]
     },
     "execution_count": 18,
     "metadata": {},
     "output_type": "execute_result"
    }
   ],
   "source": [
    "# 시리즈 인덱스 새로 만들기\n",
    "s.reset_index()"
   ]
  },
  {
   "cell_type": "code",
   "execution_count": null,
   "id": "e9e73f03",
   "metadata": {},
   "outputs": [],
   "source": []
  }
 ],
 "metadata": {
  "kernelspec": {
   "display_name": "Python 3 (ipykernel)",
   "language": "python",
   "name": "python3"
  },
  "language_info": {
   "codemirror_mode": {
    "name": "ipython",
    "version": 3
   },
   "file_extension": ".py",
   "mimetype": "text/x-python",
   "name": "python",
   "nbconvert_exporter": "python",
   "pygments_lexer": "ipython3",
   "version": "3.9.7"
  }
 },
 "nbformat": 4,
 "nbformat_minor": 5
}
