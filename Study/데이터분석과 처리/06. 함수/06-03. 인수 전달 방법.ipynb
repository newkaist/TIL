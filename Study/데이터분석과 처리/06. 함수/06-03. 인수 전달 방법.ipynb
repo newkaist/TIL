{
 "cells": [
  {
   "cell_type": "markdown",
   "id": "c3834196",
   "metadata": {},
   "source": [
    "## 위치인수\n",
    "- 기본적인 인수 전달방법이다.\n",
    "- 함수에 정의된 매개변수와 순서에 맞게 짝을 맞추어 인수를 전달한다."
   ]
  },
  {
   "cell_type": "code",
   "execution_count": 1,
   "id": "5570a2d9",
   "metadata": {},
   "outputs": [
    {
     "name": "stdout",
     "output_type": "stream",
     "text": [
      "안녕! 친구 오랜만이야\n"
     ]
    }
   ],
   "source": [
    "def greet(name, msg):\n",
    "    print('안녕!',name,msg)\n",
    "\n",
    "greet('친구','오랜만이야')"
   ]
  },
  {
   "cell_type": "markdown",
   "id": "923ff597",
   "metadata": {},
   "source": [
    "## 디폴트인수\n",
    "- 함수를 정의할 때 매개변수에 디폴트값을 지정하면 디폴트값이 지정된 인수를 생략할 수 있다."
   ]
  },
  {
   "cell_type": "code",
   "execution_count": 2,
   "id": "a7e46397",
   "metadata": {},
   "outputs": [
    {
     "name": "stdout",
     "output_type": "stream",
     "text": [
      "안녕! 친구 오랜만이야\n",
      "안녕! 친구 반가워\n"
     ]
    }
   ],
   "source": [
    "def greet(name, msg='오랜만이야'):\n",
    "    print('안녕!',name,msg)\n",
    "\n",
    "greet('친구') \n",
    "greet('친구', '반가워')"
   ]
  },
  {
   "cell_type": "markdown",
   "id": "cbf3b660",
   "metadata": {},
   "source": [
    "- 디폴트 인수는 기본 위치 인수를 다 적은 다음에 적어야 한다."
   ]
  },
  {
   "cell_type": "code",
   "execution_count": 3,
   "id": "e94fde3c",
   "metadata": {},
   "outputs": [
    {
     "ename": "SyntaxError",
     "evalue": "non-default argument follows default argument (Temp/ipykernel_1336/3771425506.py, line 1)",
     "output_type": "error",
     "traceback": [
      "\u001b[1;36m  File \u001b[1;32m\"C:\\Users\\kaist\\AppData\\Local\\Temp/ipykernel_1336/3771425506.py\"\u001b[1;36m, line \u001b[1;32m1\u001b[0m\n\u001b[1;33m    def greet(name='친구', msg):\u001b[0m\n\u001b[1;37m                            ^\u001b[0m\n\u001b[1;31mSyntaxError\u001b[0m\u001b[1;31m:\u001b[0m non-default argument follows default argument\n"
     ]
    }
   ],
   "source": [
    "def greet(name='친구', msg):\n",
    "    print('안녕!',name,msg)"
   ]
  },
  {
   "cell_type": "markdown",
   "id": "c462495b",
   "metadata": {},
   "source": [
    "## 키워드인수\n",
    "- 함수를 호출할 때 인수의 이름을 명시하면, 순서를 바꾸어 전달할 수 있다."
   ]
  },
  {
   "cell_type": "code",
   "execution_count": 4,
   "id": "6925f01f",
   "metadata": {},
   "outputs": [
    {
     "name": "stdout",
     "output_type": "stream",
     "text": [
      "-20\n",
      "-20\n"
     ]
    }
   ],
   "source": [
    "def get_minus(x,y,z):\n",
    "    return x-y-z\n",
    "\n",
    "print(get_minus(5,10,15))\n",
    "print(get_minus(5,z=15,y=10))"
   ]
  },
  {
   "cell_type": "markdown",
   "id": "3cbd5c73",
   "metadata": {},
   "source": [
    "- 키워드 인수는 기본 위치 인수를 다 적은 다음에 적어야 한다."
   ]
  },
  {
   "cell_type": "code",
   "execution_count": 5,
   "id": "df6dbd34",
   "metadata": {},
   "outputs": [
    {
     "ename": "SyntaxError",
     "evalue": "positional argument follows keyword argument (Temp/ipykernel_1336/1177548471.py, line 5)",
     "output_type": "error",
     "traceback": [
      "\u001b[1;36m  File \u001b[1;32m\"C:\\Users\\kaist\\AppData\\Local\\Temp/ipykernel_1336/1177548471.py\"\u001b[1;36m, line \u001b[1;32m5\u001b[0m\n\u001b[1;33m    print(get_minus(z=15,10,x=5))\u001b[0m\n\u001b[1;37m                               ^\u001b[0m\n\u001b[1;31mSyntaxError\u001b[0m\u001b[1;31m:\u001b[0m positional argument follows keyword argument\n"
     ]
    }
   ],
   "source": [
    "def get_minus(x,y,z):\n",
    "    return x-y-z\n",
    "\n",
    "print(get_minus(5,10,15))\n",
    "print(get_minus(z=15,10,x=5))"
   ]
  },
  {
   "cell_type": "markdown",
   "id": "faac9059",
   "metadata": {},
   "source": [
    "## 가변인수\n",
    "- 인수를 하나의 튜플이나 리스트로 전달한다."
   ]
  },
  {
   "cell_type": "code",
   "execution_count": 6,
   "id": "a6149575",
   "metadata": {},
   "outputs": [
    {
     "data": {
      "text/plain": [
       "3.0"
      ]
     },
     "execution_count": 6,
     "metadata": {},
     "output_type": "execute_result"
    }
   ],
   "source": [
    "# 가변적인 수를 하나의 리스트/튜플로 받아서 수의 평균을 리턴하는 함수  \n",
    "def average(args):\n",
    "    return sum(args)/len(args)\n",
    "\n",
    "average([1,2,3])\n",
    "average((1,2,3,4,5))"
   ]
  },
  {
   "cell_type": "markdown",
   "id": "13d2e836",
   "metadata": {},
   "source": [
    "- 매개변수에 '*'를 붙이면 여러개의 인수를 하나의 튜플로 받는다.\n",
    "- 인수의 갯수는 가변적이다."
   ]
  },
  {
   "cell_type": "code",
   "execution_count": 7,
   "id": "dca32d80",
   "metadata": {},
   "outputs": [
    {
     "data": {
      "text/plain": [
       "2.0"
      ]
     },
     "execution_count": 7,
     "metadata": {},
     "output_type": "execute_result"
    }
   ],
   "source": [
    "# 가변적인 수를 받아서 수의 평균을 리턴하는 함수\n",
    "def average(*args):\n",
    "    # print(args)\n",
    "    return sum(args)/len(args)\n",
    "\n",
    "average(1,2,3)"
   ]
  },
  {
   "cell_type": "markdown",
   "id": "20f0728c",
   "metadata": {},
   "source": [
    "- print함수의 위치인수, 키워드인수"
   ]
  },
  {
   "cell_type": "code",
   "execution_count": 8,
   "id": "8c33dd8b",
   "metadata": {},
   "outputs": [
    {
     "name": "stdout",
     "output_type": "stream",
     "text": [
      "Help on built-in function print in module builtins:\n",
      "\n",
      "print(...)\n",
      "    print(value, ..., sep=' ', end='\\n', file=sys.stdout, flush=False)\n",
      "    \n",
      "    Prints the values to a stream, or to sys.stdout by default.\n",
      "    Optional keyword arguments:\n",
      "    file:  a file-like object (stream); defaults to the current sys.stdout.\n",
      "    sep:   string inserted between values, default a space.\n",
      "    end:   string appended after the last value, default a newline.\n",
      "    flush: whether to forcibly flush the stream.\n",
      "\n"
     ]
    }
   ],
   "source": [
    "help(print)"
   ]
  },
  {
   "cell_type": "code",
   "execution_count": 10,
   "id": "61a6dc9e",
   "metadata": {},
   "outputs": [
    {
     "name": "stdout",
     "output_type": "stream",
     "text": [
      "1 2 3\n",
      "4 5\n"
     ]
    }
   ],
   "source": [
    "print(1,2,3,sep=' ') # sep = '' : '' 각 인자 사이에 ''를 추가\n",
    "print(4,5)"
   ]
  },
  {
   "cell_type": "code",
   "execution_count": null,
   "id": "83bc0a13",
   "metadata": {},
   "outputs": [],
   "source": []
  },
  {
   "cell_type": "code",
   "execution_count": null,
   "id": "1329ae35",
   "metadata": {},
   "outputs": [],
   "source": []
  }
 ],
 "metadata": {
  "kernelspec": {
   "display_name": "Python 3 (ipykernel)",
   "language": "python",
   "name": "python3"
  },
  "language_info": {
   "codemirror_mode": {
    "name": "ipython",
    "version": 3
   },
   "file_extension": ".py",
   "mimetype": "text/x-python",
   "name": "python",
   "nbconvert_exporter": "python",
   "pygments_lexer": "ipython3",
   "version": "3.9.7"
  }
 },
 "nbformat": 4,
 "nbformat_minor": 5
}
