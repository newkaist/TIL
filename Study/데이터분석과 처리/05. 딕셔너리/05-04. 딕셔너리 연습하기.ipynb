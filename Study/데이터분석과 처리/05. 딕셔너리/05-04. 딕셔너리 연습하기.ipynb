{
 "cells": [
  {
   "cell_type": "markdown",
   "id": "b8529b64",
   "metadata": {},
   "source": [
    "# 영어단어장 만들기\n",
    "엔터를 입력할 때까지 영어단어,뜻을 입력받아 단어장을 만들고, 입력이 끝나면 단어 테스트를 실시하는 프로그램을 만들어봅시다.\n",
    " - 1) 단어장을 만듭니다.\n",
    " - 2) 단어테스트를 실시하고 맞은 갯수를 계산합니다.\n",
    " - 3) 테스트가 끝나면 맞은갯수/전체단어수/점수 형태로 결과를 출력합니다\n",
    "\n",
    "## 단어장 만들기\n",
    " - 엔터('')를 입력할 때까지 영어단어,뜻을 입력받아 딕셔너리에 저장"
   ]
  },
  {
   "cell_type": "code",
   "execution_count": 1,
   "id": "80999526",
   "metadata": {},
   "outputs": [
    {
     "name": "stdout",
     "output_type": "stream",
     "text": [
      "영어단어,뜻:book,책\n",
      "영어단어,뜻:money,돈\n",
      "영어단어,뜻:tree,나무\n",
      "영어단어,뜻:forest,숲\n",
      "영어단어,뜻:you,너\n",
      "영어단어,뜻:\n"
     ]
    },
    {
     "data": {
      "text/plain": [
       "{'book': '책', 'money': '돈', 'tree': '나무', 'forest': '숲', 'you': '너'}"
      ]
     },
     "execution_count": 1,
     "metadata": {},
     "output_type": "execute_result"
    }
   ],
   "source": [
    "dict_word={}\n",
    "while True:\n",
    "    input_word = input('영어단어,뜻:')\n",
    "    if input_word=='':     # 공백시 정지(정지조건)\n",
    "        break\n",
    "    eng = input_word.split(',')[0]\n",
    "    kor = input_word.split(',')[1]\n",
    "    dict_word[eng] = kor\n",
    "dict_word  "
   ]
  },
  {
   "cell_type": "markdown",
   "id": "b4cded86",
   "metadata": {},
   "source": [
    "## 단어테스트\n",
    " - 단어장의 단어들을 모두 테스트\n",
    " - 맞은 갯수는 별도로 카운트"
   ]
  },
  {
   "cell_type": "code",
   "execution_count": 4,
   "id": "d123c36f",
   "metadata": {},
   "outputs": [
    {
     "data": {
      "text/plain": [
       "{'book': '책', 'money': '돈', 'tree': '나무', 'forest': '숲', 'you': '너'}"
      ]
     },
     "execution_count": 4,
     "metadata": {},
     "output_type": "execute_result"
    }
   ],
   "source": [
    "dict_word"
   ]
  },
  {
   "cell_type": "code",
   "execution_count": 3,
   "id": "e60f42f8",
   "metadata": {},
   "outputs": [
    {
     "name": "stdout",
     "output_type": "stream",
     "text": [
      "book책\n",
      "O\n",
      "money돈\n",
      "O\n",
      "tree너\n",
      "X\n",
      "forest나\n",
      "X\n",
      "you으\n",
      "X\n"
     ]
    }
   ],
   "source": [
    "cnt = 0 \n",
    "for eng, kor in dict_word.items():\n",
    "    answer = input(eng)\n",
    "    if answer==kor:\n",
    "        print('O')\n",
    "        cnt+=1\n",
    "    else:\n",
    "        print('X')"
   ]
  },
  {
   "cell_type": "markdown",
   "id": "7eb11728",
   "metadata": {},
   "source": [
    "## 테스트 결과 출력\n",
    " - 맞은갯수/전체문제수/점수 출력"
   ]
  },
  {
   "cell_type": "code",
   "execution_count": 5,
   "id": "aa8870d1",
   "metadata": {},
   "outputs": [
    {
     "name": "stdout",
     "output_type": "stream",
     "text": [
      "맞은갯수: 2\n",
      "전체문제수: 5\n",
      "점수: 40.0\n"
     ]
    }
   ],
   "source": [
    "print('맞은갯수:',cnt)\n",
    "print('전체문제수:',len(dict_word))\n",
    "print('점수:',round(cnt/len(dict_word)*100,1))"
   ]
  }
 ],
 "metadata": {
  "kernelspec": {
   "display_name": "Python 3 (ipykernel)",
   "language": "python",
   "name": "python3"
  },
  "language_info": {
   "codemirror_mode": {
    "name": "ipython",
    "version": 3
   },
   "file_extension": ".py",
   "mimetype": "text/x-python",
   "name": "python",
   "nbconvert_exporter": "python",
   "pygments_lexer": "ipython3",
   "version": "3.9.7"
  }
 },
 "nbformat": 4,
 "nbformat_minor": 5
}
