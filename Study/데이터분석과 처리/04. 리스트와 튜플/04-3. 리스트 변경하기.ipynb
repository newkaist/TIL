{
 "cells": [
  {
   "cell_type": "markdown",
   "id": "c3e7f9d1",
   "metadata": {},
   "source": [
    "# 리스트에 항목 추가하기\n",
    "## 리스트 끝에 항목 추가하기\n",
    " - 리스트명.append(항목)"
   ]
  },
  {
   "cell_type": "code",
   "execution_count": 1,
   "id": "db3c94ec",
   "metadata": {},
   "outputs": [],
   "source": [
    "todolist = ['양치','물마시기']"
   ]
  },
  {
   "cell_type": "code",
   "execution_count": 2,
   "id": "fe3a18af",
   "metadata": {},
   "outputs": [],
   "source": [
    "# '아침운동' 항목 추가하기\n",
    "todolist.append('아침운동')"
   ]
  },
  {
   "cell_type": "code",
   "execution_count": 3,
   "id": "35c05abd",
   "metadata": {},
   "outputs": [
    {
     "data": {
      "text/plain": [
       "['양치', '물마시기', '아침운동']"
      ]
     },
     "execution_count": 3,
     "metadata": {},
     "output_type": "execute_result"
    }
   ],
   "source": [
    "todolist"
   ]
  },
  {
   "cell_type": "markdown",
   "id": "a5ad13e4",
   "metadata": {},
   "source": [
    "## 리스트 끝에 항목 추가하기\n",
    " - 리스트명.insert(인덱스, 항목)"
   ]
  },
  {
   "cell_type": "code",
   "execution_count": 4,
   "id": "ad6bf06a",
   "metadata": {},
   "outputs": [],
   "source": [
    "# '아침운동'하기 전에 '아침식사'\n",
    "todolist.insert(2,'아침식사')"
   ]
  },
  {
   "cell_type": "code",
   "execution_count": 5,
   "id": "0965e0ce",
   "metadata": {},
   "outputs": [
    {
     "data": {
      "text/plain": [
       "['양치', '물마시기', '아침식사', '아침운동']"
      ]
     },
     "execution_count": 5,
     "metadata": {},
     "output_type": "execute_result"
    }
   ],
   "source": [
    "todolist"
   ]
  },
  {
   "cell_type": "markdown",
   "id": "b459fe45",
   "metadata": {},
   "source": [
    "## 리스트 끝에 여러 항목 추가하기\n",
    " - 리스트명.extend(리스트)"
   ]
  },
  {
   "cell_type": "code",
   "execution_count": 6,
   "id": "9c6e7880",
   "metadata": {},
   "outputs": [],
   "source": [
    "# '아침운동' 후에 ['샤워','드라이'.'공부']"
   ]
  },
  {
   "cell_type": "code",
   "execution_count": 7,
   "id": "cd83d47e",
   "metadata": {},
   "outputs": [],
   "source": [
    "todolist.extend(['샤워','드라이','공부'])"
   ]
  },
  {
   "cell_type": "code",
   "execution_count": 8,
   "id": "91b9fba2",
   "metadata": {},
   "outputs": [
    {
     "data": {
      "text/plain": [
       "['양치', '물마시기', '아침식사', '아침운동', '샤워', '드라이', '공부']"
      ]
     },
     "execution_count": 8,
     "metadata": {},
     "output_type": "execute_result"
    }
   ],
   "source": [
    "todolist"
   ]
  },
  {
   "cell_type": "markdown",
   "id": "2e80737a",
   "metadata": {},
   "source": [
    "# 리스트 항목 수정하기\n",
    "## 하나의 항목 수정하기\n",
    "   - 리스트명.extend(리스트)"
   ]
  },
  {
   "cell_type": "code",
   "execution_count": 9,
   "id": "e69de0a8",
   "metadata": {},
   "outputs": [],
   "source": [
    "# 아침운동-->산책으로 수정\n",
    "todolist[3]='산책'"
   ]
  },
  {
   "cell_type": "code",
   "execution_count": 10,
   "id": "d800bff8",
   "metadata": {},
   "outputs": [
    {
     "data": {
      "text/plain": [
       "['양치', '물마시기', '아침식사', '산책', '샤워', '드라이', '공부']"
      ]
     },
     "execution_count": 10,
     "metadata": {},
     "output_type": "execute_result"
    }
   ],
   "source": [
    "todolist"
   ]
  },
  {
   "cell_type": "markdown",
   "id": "1f537f7c",
   "metadata": {},
   "source": [
    "## 여러 항목 수정하기\n",
    " - 리스트명[시작인덱스:끝인덱스]=리스트"
   ]
  },
  {
   "cell_type": "code",
   "execution_count": 11,
   "id": "1386910f",
   "metadata": {},
   "outputs": [],
   "source": [
    "# '아침식사','산책' --> '독서','산책','아침식사'\n",
    "todolist[2:4] = ['독서','산책','아침식사']"
   ]
  },
  {
   "cell_type": "code",
   "execution_count": 12,
   "id": "72b2be25",
   "metadata": {},
   "outputs": [
    {
     "data": {
      "text/plain": [
       "['양치', '물마시기', '독서', '산책', '아침식사', '샤워', '드라이', '공부']"
      ]
     },
     "execution_count": 12,
     "metadata": {},
     "output_type": "execute_result"
    }
   ],
   "source": [
    "todolist"
   ]
  },
  {
   "cell_type": "markdown",
   "id": "e25a3ae4",
   "metadata": {},
   "source": [
    "# 리스트 항목 삭제하기\n",
    "## 인덱스를 이용하여 항목 삭제\n",
    " - del 리스트명[인덱스]"
   ]
  },
  {
   "cell_type": "code",
   "execution_count": 13,
   "id": "a21feeea",
   "metadata": {},
   "outputs": [],
   "source": [
    "# 마지막 인덱스 삭제\n",
    "del todolist[-1]"
   ]
  },
  {
   "cell_type": "code",
   "execution_count": 14,
   "id": "d4a03e7d",
   "metadata": {},
   "outputs": [
    {
     "data": {
      "text/plain": [
       "['양치', '물마시기', '독서', '산책', '아침식사', '샤워', '드라이']"
      ]
     },
     "execution_count": 14,
     "metadata": {},
     "output_type": "execute_result"
    }
   ],
   "source": [
    "todolist"
   ]
  },
  {
   "cell_type": "markdown",
   "id": "0ee2b6aa",
   "metadata": {},
   "source": [
    "## 항목값을 이용하여 삭제\n",
    " - 리스트.remove(항목)\n",
    "   항목이 여러개인 경우 앞의 인덱스만 삭제"
   ]
  },
  {
   "cell_type": "code",
   "execution_count": 15,
   "id": "0f3e3392",
   "metadata": {},
   "outputs": [],
   "source": [
    "# '양치' 삭제\n",
    "todolist.remove('양치')"
   ]
  },
  {
   "cell_type": "code",
   "execution_count": 16,
   "id": "c462d75f",
   "metadata": {},
   "outputs": [
    {
     "data": {
      "text/plain": [
       "['물마시기', '독서', '산책', '아침식사', '샤워', '드라이']"
      ]
     },
     "execution_count": 16,
     "metadata": {},
     "output_type": "execute_result"
    }
   ],
   "source": [
    "todolist"
   ]
  },
  {
   "cell_type": "markdown",
   "id": "72dc329e",
   "metadata": {},
   "source": [
    "## 마지막 항목을 반환하고 삭제\n",
    " - 리스트.pop()"
   ]
  },
  {
   "cell_type": "code",
   "execution_count": 17,
   "id": "093b32ae",
   "metadata": {},
   "outputs": [],
   "source": [
    "a = todolist.pop()"
   ]
  },
  {
   "cell_type": "code",
   "execution_count": 18,
   "id": "ac6f810c",
   "metadata": {},
   "outputs": [
    {
     "data": {
      "text/plain": [
       "'드라이'"
      ]
     },
     "execution_count": 18,
     "metadata": {},
     "output_type": "execute_result"
    }
   ],
   "source": [
    "a"
   ]
  },
  {
   "cell_type": "code",
   "execution_count": 19,
   "id": "7c1182c1",
   "metadata": {},
   "outputs": [
    {
     "data": {
      "text/plain": [
       "['물마시기', '독서', '산책', '아침식사', '샤워']"
      ]
     },
     "execution_count": 19,
     "metadata": {},
     "output_type": "execute_result"
    }
   ],
   "source": [
    "todolist"
   ]
  },
  {
   "cell_type": "markdown",
   "id": "0de91029",
   "metadata": {},
   "source": [
    "## 연습문제\n",
    " - 아래 wishlist의 '시계','신발'을 myChart로 이동해봅시다."
   ]
  },
  {
   "cell_type": "code",
   "execution_count": 23,
   "id": "96587b2f",
   "metadata": {},
   "outputs": [],
   "source": [
    "wishlist = ['가방','시계','신발']\n",
    "mycart = []"
   ]
  },
  {
   "cell_type": "code",
   "execution_count": 24,
   "id": "793d8acf",
   "metadata": {},
   "outputs": [
    {
     "name": "stdout",
     "output_type": "stream",
     "text": [
      "['시계', '신발']\n"
     ]
    }
   ],
   "source": [
    "mycart.extend(wishlist[1:3])\n",
    "print(mycart)"
   ]
  },
  {
   "cell_type": "code",
   "execution_count": 25,
   "id": "6e031bbf",
   "metadata": {},
   "outputs": [],
   "source": [
    "#wishlist의 시계, 신발을 삭제한다.\n",
    "del wishlist[1:3]"
   ]
  },
  {
   "cell_type": "code",
   "execution_count": 26,
   "id": "012682de",
   "metadata": {},
   "outputs": [
    {
     "data": {
      "text/plain": [
       "['가방']"
      ]
     },
     "execution_count": 26,
     "metadata": {},
     "output_type": "execute_result"
    }
   ],
   "source": [
    "wishlist"
   ]
  },
  {
   "cell_type": "code",
   "execution_count": 27,
   "id": "cdd912ab",
   "metadata": {},
   "outputs": [
    {
     "data": {
      "text/plain": [
       "['시계', '신발']"
      ]
     },
     "execution_count": 27,
     "metadata": {},
     "output_type": "execute_result"
    }
   ],
   "source": [
    "mycart"
   ]
  },
  {
   "cell_type": "code",
   "execution_count": null,
   "id": "7e544e6d",
   "metadata": {},
   "outputs": [],
   "source": []
  }
 ],
 "metadata": {
  "kernelspec": {
   "display_name": "Python 3 (ipykernel)",
   "language": "python",
   "name": "python3"
  },
  "language_info": {
   "codemirror_mode": {
    "name": "ipython",
    "version": 3
   },
   "file_extension": ".py",
   "mimetype": "text/x-python",
   "name": "python",
   "nbconvert_exporter": "python",
   "pygments_lexer": "ipython3",
   "version": "3.9.7"
  }
 },
 "nbformat": 4,
 "nbformat_minor": 5
}
