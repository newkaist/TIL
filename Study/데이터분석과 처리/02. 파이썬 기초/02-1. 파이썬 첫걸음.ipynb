{
 "cells": [
  {
   "cell_type": "markdown",
   "id": "367ec424",
   "metadata": {},
   "source": [
    "# 출력하기\n",
    "\n",
    "기본출력\n",
    "- print(value1, value2..)"
   ]
  },
  {
   "cell_type": "code",
   "execution_count": 1,
   "id": "c3ddc123",
   "metadata": {},
   "outputs": [
    {
     "name": "stdout",
     "output_type": "stream",
     "text": [
      "hello\n",
      "hello;\n"
     ]
    }
   ],
   "source": [
    "# hello 출력하기\n",
    "print('hello')\n",
    "print('hello')"
   ]
  },
  {
   "cell_type": "code",
   "execution_count": 2,
   "id": "87ceaada",
   "metadata": {},
   "outputs": [
    {
     "name": "stdout",
     "output_type": "stream",
     "text": [
      "hello, python\n"
     ]
    }
   ],
   "source": [
    "# hello, python 출력하기\n",
    "print('hello, python')"
   ]
  },
  {
   "cell_type": "code",
   "execution_count": 3,
   "id": "de238d82",
   "metadata": {},
   "outputs": [
    {
     "name": "stdout",
     "output_type": "stream",
     "text": [
      "1+1= 2\n"
     ]
    }
   ],
   "source": [
    "# 계산식 출력하기 (1+1=2)\n",
    "print('1+1=',1+1)"
   ]
  },
  {
   "cell_type": "markdown",
   "id": "21c34bc2",
   "metadata": {},
   "source": [
    "# 구분자 지정\n",
    "- print(value1, value2, ..., sep='구분자')"
   ]
  },
  {
   "cell_type": "code",
   "execution_count": 4,
   "id": "d2c6a14b",
   "metadata": {},
   "outputs": [
    {
     "name": "stdout",
     "output_type": "stream",
     "text": [
      "hello,python\n"
     ]
    }
   ],
   "source": [
    "# ,로 구분 (hello,python)\n",
    "print('hello','python',sep=',')"
   ]
  },
  {
   "cell_type": "code",
   "execution_count": 5,
   "id": "adbbcd83",
   "metadata": {},
   "outputs": [
    {
     "name": "stdout",
     "output_type": "stream",
     "text": [
      "1+1=2\n"
     ]
    }
   ],
   "source": [
    "# 공백없이 붙여서 출력 (1+1=2)\n",
    "print('1+1=',1+1,sep='')"
   ]
  },
  {
   "cell_type": "markdown",
   "id": "e61e3579",
   "metadata": {},
   "source": [
    "# 끝문자 지정\n",
    "\n",
    "-print(value1, value2, ..., end='끝문자')"
   ]
  },
  {
   "cell_type": "code",
   "execution_count": 7,
   "id": "dfc70e90",
   "metadata": {},
   "outputs": [
    {
     "name": "stdout",
     "output_type": "stream",
     "text": [
      "안녕하세요 반갑습니다\n"
     ]
    }
   ],
   "source": [
    "# 공백으로 끝내기 (안녕하세요 반갑습니다)\n",
    "print('안녕하세요', end=' ')\n",
    "print('반갑습니다')"
   ]
  },
  {
   "cell_type": "code",
   "execution_count": 8,
   "id": "bc2ae51c",
   "metadata": {},
   "outputs": [
    {
     "name": "stdout",
     "output_type": "stream",
     "text": [
      "안녕하세요!!반갑습니다!!"
     ]
    }
   ],
   "source": [
    "# !!로 끝내기(안녕하세요!!반갑습니다!!)\n",
    "print('안녕하세요', end='!!')\n",
    "print('반갑습니다', end='!!')"
   ]
  },
  {
   "cell_type": "markdown",
   "id": "4a7bd9ff",
   "metadata": {},
   "source": [
    "# 여러 줄 한번에 출력하기\n",
    "\n",
    "홑따옴표 세개(''') 혹은 쌍따옴표 세개(\"\"\")로 묶는다."
   ]
  },
  {
   "cell_type": "code",
   "execution_count": 9,
   "id": "76c28508",
   "metadata": {},
   "outputs": [
    {
     "name": "stdout",
     "output_type": "stream",
     "text": [
      "자세히 보아야 예쁘다.\n",
      "오래 보아야 사랑스럽다.\n",
      "너도 그렇다.\n"
     ]
    }
   ],
   "source": [
    "print('자세히 보아야 예쁘다.')\n",
    "print('오래 보아야 사랑스럽다.')\n",
    "print('너도 그렇다.')"
   ]
  },
  {
   "cell_type": "code",
   "execution_count": 10,
   "id": "b1b96ec6",
   "metadata": {},
   "outputs": [
    {
     "name": "stdout",
     "output_type": "stream",
     "text": [
      "\n",
      "자세히 보아야 예쁘다.\n",
      "오래 보아야 사랑스럽다.\n",
      "너도 그렇다.\n",
      "\n"
     ]
    }
   ],
   "source": [
    "print('''\n",
    "자세히 보아야 예쁘다.\n",
    "오래 보아야 사랑스럽다.\n",
    "너도 그렇다.\n",
    "''')"
   ]
  },
  {
   "cell_type": "code",
   "execution_count": 11,
   "id": "bf6438f0",
   "metadata": {},
   "outputs": [
    {
     "name": "stdout",
     "output_type": "stream",
     "text": [
      "\n",
      "자세히 보아야 예쁘다.\n",
      "오래 보아야 사랑스럽다.\n",
      "너도 그렇다.\n",
      "\n"
     ]
    }
   ],
   "source": [
    "print(\"\"\"\n",
    "자세히 보아야 예쁘다.\n",
    "오래 보아야 사랑스럽다.\n",
    "너도 그렇다.\n",
    "\"\"\")"
   ]
  },
  {
   "cell_type": "markdown",
   "id": "c14981e4",
   "metadata": {},
   "source": [
    "# 주석달기\n",
    "\n",
    "프로그램에 대한 설명을 적을 때, 코드의 실행을 잠시 막아둘 때 주석을 사용한다.\n",
    "\n",
    "파이썬에서는 샵('#') 을 주석 기호로 사용한다."
   ]
  },
  {
   "cell_type": "code",
   "execution_count": 12,
   "id": "3c5f2c2e",
   "metadata": {},
   "outputs": [
    {
     "name": "stdout",
     "output_type": "stream",
     "text": [
      "1\n",
      "3\n"
     ]
    }
   ],
   "source": [
    "## 주석에 대한 코드입니다##\n",
    "print(1) # 주석\n",
    "#print(2)  \n",
    "print(3)"
   ]
  },
  {
   "cell_type": "markdown",
   "id": "af81df90",
   "metadata": {},
   "source": [
    "# 들여쓰기\n",
    "파이썬에서는 들여쓰기 자체가 문법입니다.\n",
    "\n",
    "파이썬 들여쓰기 방법은 공백2칸, 공백4칸 등 여러가지 방법이 있지만 보통 공백 4칸을 사용합니다."
   ]
  },
  {
   "cell_type": "code",
   "execution_count": 16,
   "id": "d5de131b",
   "metadata": {},
   "outputs": [
    {
     "ename": "IndentationError",
     "evalue": "unexpected indent (Temp/ipykernel_18348/246959834.py, line 2)",
     "output_type": "error",
     "traceback": [
      "\u001b[1;36m  File \u001b[1;32m\"C:\\Users\\kaist\\AppData\\Local\\Temp/ipykernel_18348/246959834.py\"\u001b[1;36m, line \u001b[1;32m2\u001b[0m\n\u001b[1;33m    print('hello2')\u001b[0m\n\u001b[1;37m    ^\u001b[0m\n\u001b[1;31mIndentationError\u001b[0m\u001b[1;31m:\u001b[0m unexpected indent\n"
     ]
    }
   ],
   "source": [
    "print('hello1')\n",
    " print('hello2')"
   ]
  },
  {
   "cell_type": "markdown",
   "id": "3c4af42b",
   "metadata": {},
   "source": [
    "# 오류 해석하기\n",
    "\n",
    "파이썬에서는 대소문자를 구분한다."
   ]
  },
  {
   "cell_type": "code",
   "execution_count": 18,
   "id": "e5e5e805",
   "metadata": {},
   "outputs": [
    {
     "ename": "NameError",
     "evalue": "name 'Print' is not defined",
     "output_type": "error",
     "traceback": [
      "\u001b[1;31m---------------------------------------------------------------------------\u001b[0m",
      "\u001b[1;31mNameError\u001b[0m                                 Traceback (most recent call last)",
      "\u001b[1;32m~\\AppData\\Local\\Temp/ipykernel_18348/2674531823.py\u001b[0m in \u001b[0;36m<module>\u001b[1;34m\u001b[0m\n\u001b[1;32m----> 1\u001b[1;33m \u001b[0mPrint\u001b[0m\u001b[1;33m(\u001b[0m\u001b[1;34m'hello'\u001b[0m\u001b[1;33m)\u001b[0m\u001b[1;33m\u001b[0m\u001b[1;33m\u001b[0m\u001b[0m\n\u001b[0m",
      "\u001b[1;31mNameError\u001b[0m: name 'Print' is not defined"
     ]
    }
   ],
   "source": [
    "Print('hello')"
   ]
  },
  {
   "cell_type": "markdown",
   "id": "6cb43d76",
   "metadata": {},
   "source": [
    "따옴표의 짝이 맞아야 한다."
   ]
  },
  {
   "cell_type": "code",
   "execution_count": 2,
   "id": "fd187663",
   "metadata": {},
   "outputs": [
    {
     "ename": "SyntaxError",
     "evalue": "EOL while scanning string literal (Temp/ipykernel_17604/353353896.py, line 1)",
     "output_type": "error",
     "traceback": [
      "\u001b[1;36m  File \u001b[1;32m\"C:\\Users\\kaist\\AppData\\Local\\Temp/ipykernel_17604/353353896.py\"\u001b[1;36m, line \u001b[1;32m1\u001b[0m\n\u001b[1;33m    print('hello'')\u001b[0m\n\u001b[1;37m                   ^\u001b[0m\n\u001b[1;31mSyntaxError\u001b[0m\u001b[1;31m:\u001b[0m EOL while scanning string literal\n"
     ]
    }
   ],
   "source": [
    "print('hello'')"
   ]
  },
  {
   "cell_type": "markdown",
   "id": "51d0a7c5",
   "metadata": {},
   "source": [
    "괄호의 짝이 맞아야 한다."
   ]
  },
  {
   "cell_type": "code",
   "execution_count": 4,
   "id": "80def83e",
   "metadata": {},
   "outputs": [
    {
     "ename": "SyntaxError",
     "evalue": "closing parenthesis '}' does not match opening parenthesis '(' (Temp/ipykernel_17604/670788223.py, line 1)",
     "output_type": "error",
     "traceback": [
      "\u001b[1;36m  File \u001b[1;32m\"C:\\Users\\kaist\\AppData\\Local\\Temp/ipykernel_17604/670788223.py\"\u001b[1;36m, line \u001b[1;32m1\u001b[0m\n\u001b[1;33m    print('hello'}\u001b[0m\n\u001b[1;37m                 ^\u001b[0m\n\u001b[1;31mSyntaxError\u001b[0m\u001b[1;31m:\u001b[0m closing parenthesis '}' does not match opening parenthesis '('\n"
     ]
    }
   ],
   "source": [
    "print('hello'}"
   ]
  }
 ],
 "metadata": {
  "kernelspec": {
   "display_name": "Python 3 (ipykernel)",
   "language": "python",
   "name": "python3"
  },
  "language_info": {
   "codemirror_mode": {
    "name": "ipython",
    "version": 3
   },
   "file_extension": ".py",
   "mimetype": "text/x-python",
   "name": "python",
   "nbconvert_exporter": "python",
   "pygments_lexer": "ipython3",
   "version": "3.9.7"
  }
 },
 "nbformat": 4,
 "nbformat_minor": 5
}
