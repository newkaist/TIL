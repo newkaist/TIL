{
 "cells": [
  {
   "cell_type": "markdown",
   "id": "80a1ec34",
   "metadata": {},
   "source": [
    "# 딕셔너리 만들기\n",
    "## 딕셔너리명 = {키1:값1, 키2:값2,...,}\n",
    " - 중괄호 안에 키:값의 쌍으로 된 항목을 콤마(,)로 구분하여 적어준다"
   ]
  },
  {
   "cell_type": "code",
   "execution_count": 1,
   "id": "08fe3f19",
   "metadata": {},
   "outputs": [
    {
     "data": {
      "text/plain": [
       "{'김밥': 2000, '떡볶이': 2500, '어묵': 2000, '튀김': 3000}"
      ]
     },
     "execution_count": 1,
     "metadata": {},
     "output_type": "execute_result"
    }
   ],
   "source": [
    "menu = {'김밥':2000, '떡볶이':2500, '어묵':2000, '튀김':3000}\n",
    "menu"
   ]
  },
  {
   "cell_type": "code",
   "execution_count": 3,
   "id": "b7631875",
   "metadata": {},
   "outputs": [
    {
     "data": {
      "text/plain": [
       "{'김밥': 2000, '떡볶이': 2500, '어묵': 2000, '튀김': 3000}"
      ]
     },
     "execution_count": 3,
     "metadata": {},
     "output_type": "execute_result"
    }
   ],
   "source": [
    "menu = {'김밥':2000, \n",
    "        '떡볶이':2500, \n",
    "        '어묵':2000, \n",
    "        '튀김':3000}\n",
    "menu"
   ]
  },
  {
   "cell_type": "markdown",
   "id": "d1674d2b",
   "metadata": {},
   "source": [
    "# dict로 딕셔너리 만들기\n",
    " - 딕셔너리명 = dict(키1=값1, 키2=값2,...,)\n",
    " - 키에 따옴표('')를 쓰지 않는다는 점에 주의한다.\n",
    " - 키에 따옴표('')를 쓰지 않아도 딕셔너리가 생성되면서 자동으로 문자열형으로 지정된다."
   ]
  },
  {
   "cell_type": "code",
   "execution_count": 5,
   "id": "91ac06cd",
   "metadata": {},
   "outputs": [
    {
     "data": {
      "text/plain": [
       "{'김밥': 2000, '떡볶이': 2500, '어묵': 2000, '튀김': 3000}"
      ]
     },
     "execution_count": 5,
     "metadata": {},
     "output_type": "execute_result"
    }
   ],
   "source": [
    "menu1 = dict(김밥=2000, 떡볶이=2500, 어묵=2000, 튀김=3000)\n",
    "menu1"
   ]
  },
  {
   "cell_type": "markdown",
   "id": "fa0f7aa1",
   "metadata": {},
   "source": [
    "- 딕셔너리명 = dict(zip(key리스트, value리스트))"
   ]
  },
  {
   "cell_type": "code",
   "execution_count": 6,
   "id": "13b4f471",
   "metadata": {},
   "outputs": [
    {
     "data": {
      "text/plain": [
       "{'김밥': 2000, '떡볶이': 2500, '어묵': 2000, '튀김': 3000}"
      ]
     },
     "execution_count": 6,
     "metadata": {},
     "output_type": "execute_result"
    }
   ],
   "source": [
    "key_list = ['김밥','떡볶이','어묵','튀김']\n",
    "value_list = [2000,2500,2000,3000]\n",
    "menu2 = dict(zip(key_list,value_list))\n",
    "menu2"
   ]
  },
  {
   "cell_type": "markdown",
   "id": "94e2df0c",
   "metadata": {},
   "source": [
    "- 딕셔너리명 = dict([(키1,값1),(키1,값2),...,])"
   ]
  },
  {
   "cell_type": "code",
   "execution_count": 7,
   "id": "756b6927",
   "metadata": {},
   "outputs": [
    {
     "data": {
      "text/plain": [
       "{'김밥': 2000, '떡볶이': 2500, '어묵': 2000, '튀김': 3000}"
      ]
     },
     "execution_count": 7,
     "metadata": {},
     "output_type": "execute_result"
    }
   ],
   "source": [
    "[('김밥',2000),('떡볶이',2500),('어묵',2000),('튀김',3000)]\n",
    "menu3 = dict([('김밥',2000),('떡볶이',2500),('어묵',2000),('튀김',3000)])\n",
    "menu3"
   ]
  },
  {
   "cell_type": "markdown",
   "id": "2e6017a0",
   "metadata": {},
   "source": [
    "- 딕셔너리명 = dict({키1:값1,키2:값2,...,})"
   ]
  },
  {
   "cell_type": "code",
   "execution_count": 10,
   "id": "e61ceebe",
   "metadata": {},
   "outputs": [
    {
     "name": "stdout",
     "output_type": "stream",
     "text": [
      "{'김밥': 2000, '떡볶이': 2500, '어묵': 2000, '튀김': 3000}\n"
     ]
    }
   ],
   "source": [
    "menu4 = dict({'김밥':2000, '떡볶이':2500, '어묵':2000, '튀김':3000})\n",
    "print(menu4)"
   ]
  },
  {
   "cell_type": "markdown",
   "id": "f63c5b84",
   "metadata": {},
   "source": [
    "## 딕셔너리에 사용할 수 있는 자료형\n",
    " - \n",
    "딕셔너리의 value에는 모든 자료형을 혼합하여 사용할 수 있다."
   ]
  },
  {
   "cell_type": "code",
   "execution_count": 11,
   "id": "3ac99ad3",
   "metadata": {},
   "outputs": [
    {
     "data": {
      "text/plain": [
       "{'name': 'james', '나이': 25, '키': 175.5, '시력': (1.0, 1.0), '취미': ['운동', '독서']}"
      ]
     },
     "execution_count": 11,
     "metadata": {},
     "output_type": "execute_result"
    }
   ],
   "source": [
    "person = {'name':'james', \n",
    "          '나이':25,\n",
    "          '키':175.5,\n",
    "          '시력':(1.0,1.0),\n",
    "          '취미':['운동','독서']}\n",
    "person"
   ]
  },
  {
   "cell_type": "markdown",
   "id": "e4ce915f",
   "metadata": {},
   "source": [
    "- 딕셔너리의 key에는 숫자, 문자열, 부울형, 튜플을 사용할 수 있다."
   ]
  },
  {
   "cell_type": "code",
   "execution_count": 13,
   "id": "c883a0d2",
   "metadata": {},
   "outputs": [
    {
     "name": "stdout",
     "output_type": "stream",
     "text": [
      "{100: 'hundred', True: '참', False: '거짓', (1, 3): '학년,반', 7: '번호'}\n"
     ]
    }
   ],
   "source": [
    "number=7\n",
    "\n",
    "dict1 = {\n",
    "    100:'hundred',\n",
    "    True:'참',\n",
    "    False:'거짓',\n",
    "    (1,3):'학년,반',\n",
    "    number:'번호'\n",
    "}\n",
    "print(dict1)"
   ]
  },
  {
   "cell_type": "markdown",
   "id": "414499cf",
   "metadata": {},
   "source": [
    "## 중복된 key를 사용하여 딕셔너리 만들면?"
   ]
  },
  {
   "cell_type": "code",
   "execution_count": 17,
   "id": "8479b6cd",
   "metadata": {},
   "outputs": [
    {
     "data": {
      "text/plain": [
       "{'name': 'james', '나이': 30, '키': 175.5, '시력': (1.0, 1.0), '취미': ['운동', '독서']}"
      ]
     },
     "execution_count": 17,
     "metadata": {},
     "output_type": "execute_result"
    }
   ],
   "source": [
    "person = {'name':'james', \n",
    "          '나이':25,\n",
    "          '나이':30,    \n",
    "          '키':175.5,\n",
    "          '시력':(1.0,1.0),\n",
    "          '취미':['운동','독서']}\n",
    "person\n",
    "\n",
    "#    '나이':25, '나이':30 처럼 '나이'라는 중복값은 생략된다. 이때 값이 덮어씌워진다."
   ]
  },
  {
   "cell_type": "markdown",
   "id": "044a0e69",
   "metadata": {},
   "source": [
    "# 딕셔너리 값 추출하기\n",
    "## 딕셔너리명[key]"
   ]
  },
  {
   "cell_type": "code",
   "execution_count": 18,
   "id": "678c0fd9",
   "metadata": {},
   "outputs": [
    {
     "data": {
      "text/plain": [
       "30"
      ]
     },
     "execution_count": 18,
     "metadata": {},
     "output_type": "execute_result"
    }
   ],
   "source": [
    "person['나이']"
   ]
  },
  {
   "cell_type": "markdown",
   "id": "1a2b8dbe",
   "metadata": {},
   "source": [
    "## 존재하지 않는 key로 추출하면?\n",
    " - KeyError가 발생한다."
   ]
  },
  {
   "cell_type": "code",
   "execution_count": 19,
   "id": "3f91ea04",
   "metadata": {},
   "outputs": [
    {
     "ename": "KeyError",
     "evalue": "'몸무게'",
     "output_type": "error",
     "traceback": [
      "\u001b[1;31m---------------------------------------------------------------------------\u001b[0m",
      "\u001b[1;31mKeyError\u001b[0m                                  Traceback (most recent call last)",
      "\u001b[1;32m~\\AppData\\Local\\Temp/ipykernel_14736/3041137338.py\u001b[0m in \u001b[0;36m<module>\u001b[1;34m\u001b[0m\n\u001b[1;32m----> 1\u001b[1;33m \u001b[0mperson\u001b[0m\u001b[1;33m[\u001b[0m\u001b[1;34m'몸무게'\u001b[0m\u001b[1;33m]\u001b[0m\u001b[1;33m\u001b[0m\u001b[1;33m\u001b[0m\u001b[0m\n\u001b[0m",
      "\u001b[1;31mKeyError\u001b[0m: '몸무게'"
     ]
    }
   ],
   "source": [
    "person['몸무게']"
   ]
  },
  {
   "cell_type": "markdown",
   "id": "76bb1c44",
   "metadata": {},
   "source": [
    "## 딕셔너리에 키 존재여부 확인하기\n",
    " - key in 딕셔너리명"
   ]
  },
  {
   "cell_type": "code",
   "execution_count": 20,
   "id": "6c4d9dfd",
   "metadata": {},
   "outputs": [
    {
     "name": "stdout",
     "output_type": "stream",
     "text": [
      "존재하지 않음\n"
     ]
    }
   ],
   "source": [
    "if '몸무게' in person:\n",
    "    print(person['몸무게'])\n",
    "else:\n",
    "    print('존재하지 않음')"
   ]
  },
  {
   "cell_type": "markdown",
   "id": "2949a572",
   "metadata": {},
   "source": [
    "## 딕셔너리명.get(key, msg)\n",
    " - 존재하지 않는 key로 추출 시도해도 오류가 발생하지 않는다.\n",
    " - 존재하지 않는 key로 추출 시도할 경우 출력할 메시지를 설정할 수 있다."
   ]
  },
  {
   "cell_type": "code",
   "execution_count": 21,
   "id": "5c090186",
   "metadata": {},
   "outputs": [
    {
     "data": {
      "text/plain": [
       "30"
      ]
     },
     "execution_count": 21,
     "metadata": {},
     "output_type": "execute_result"
    }
   ],
   "source": [
    "person.get('나이')"
   ]
  },
  {
   "cell_type": "code",
   "execution_count": 22,
   "id": "d1577a8c",
   "metadata": {},
   "outputs": [],
   "source": [
    "person.get('몸무게')"
   ]
  },
  {
   "cell_type": "code",
   "execution_count": 23,
   "id": "93b35a54",
   "metadata": {},
   "outputs": [
    {
     "data": {
      "text/plain": [
       "'존재하지않음'"
      ]
     },
     "execution_count": 23,
     "metadata": {},
     "output_type": "execute_result"
    }
   ],
   "source": [
    "person.get('몸무게','존재하지않음')"
   ]
  }
 ],
 "metadata": {
  "kernelspec": {
   "display_name": "Python 3 (ipykernel)",
   "language": "python",
   "name": "python3"
  },
  "language_info": {
   "codemirror_mode": {
    "name": "ipython",
    "version": 3
   },
   "file_extension": ".py",
   "mimetype": "text/x-python",
   "name": "python",
   "nbconvert_exporter": "python",
   "pygments_lexer": "ipython3",
   "version": "3.9.7"
  }
 },
 "nbformat": 4,
 "nbformat_minor": 5
}
